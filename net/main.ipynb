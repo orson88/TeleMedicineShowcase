{
 "cells": [
  {
   "cell_type": "code",
   "execution_count": 8,
   "metadata": {},
   "outputs": [],
   "source": [
    "import pandas as pd\n",
    "import numpy as np\n",
    "import pickle\n",
    "from sklearn.metrics import accuracy_score\n",
    "from sklearn.neural_network import MLPClassifier\n",
    "from sklearn.model_selection import GridSearchCV\n",
    "from sklearn.model_selection import train_test_split"
   ]
  },
  {
   "cell_type": "markdown",
   "metadata": {},
   "source": [
    "# Reading data"
   ]
  },
  {
   "cell_type": "code",
   "execution_count": 2,
   "metadata": {},
   "outputs": [
    {
     "data": {
      "text/html": [
       "<div>\n",
       "<style scoped>\n",
       "    .dataframe tbody tr th:only-of-type {\n",
       "        vertical-align: middle;\n",
       "    }\n",
       "\n",
       "    .dataframe tbody tr th {\n",
       "        vertical-align: top;\n",
       "    }\n",
       "\n",
       "    .dataframe thead th {\n",
       "        text-align: right;\n",
       "    }\n",
       "</style>\n",
       "<table border=\"1\" class=\"dataframe\">\n",
       "  <thead>\n",
       "    <tr style=\"text-align: right;\">\n",
       "      <th></th>\n",
       "      <th>Emotion</th>\n",
       "      <th>MFCC Mean</th>\n",
       "      <th>MFCC Standard deviation</th>\n",
       "      <th>Croma Mean</th>\n",
       "      <th>Chroma Standard deviation</th>\n",
       "      <th>MEL Mean</th>\n",
       "      <th>MEL Standard deviation</th>\n",
       "    </tr>\n",
       "  </thead>\n",
       "  <tbody>\n",
       "    <tr>\n",
       "      <th>0</th>\n",
       "      <td>1</td>\n",
       "      <td>113.995018</td>\n",
       "      <td>-17.983574</td>\n",
       "      <td>0.272483</td>\n",
       "      <td>0.675760</td>\n",
       "      <td>0.040853</td>\n",
       "      <td>0.003970</td>\n",
       "    </tr>\n",
       "    <tr>\n",
       "      <th>1</th>\n",
       "      <td>1</td>\n",
       "      <td>112.260872</td>\n",
       "      <td>-17.682295</td>\n",
       "      <td>0.218568</td>\n",
       "      <td>0.725722</td>\n",
       "      <td>0.047049</td>\n",
       "      <td>0.004594</td>\n",
       "    </tr>\n",
       "    <tr>\n",
       "      <th>2</th>\n",
       "      <td>1</td>\n",
       "      <td>111.574677</td>\n",
       "      <td>-17.600674</td>\n",
       "      <td>0.208594</td>\n",
       "      <td>0.728253</td>\n",
       "      <td>0.063881</td>\n",
       "      <td>0.006346</td>\n",
       "    </tr>\n",
       "    <tr>\n",
       "      <th>3</th>\n",
       "      <td>1</td>\n",
       "      <td>110.698242</td>\n",
       "      <td>-17.382687</td>\n",
       "      <td>0.193784</td>\n",
       "      <td>0.747211</td>\n",
       "      <td>0.061945</td>\n",
       "      <td>0.005832</td>\n",
       "    </tr>\n",
       "    <tr>\n",
       "      <th>4</th>\n",
       "      <td>2</td>\n",
       "      <td>115.860268</td>\n",
       "      <td>-18.125637</td>\n",
       "      <td>0.227840</td>\n",
       "      <td>0.699711</td>\n",
       "      <td>0.023791</td>\n",
       "      <td>0.002190</td>\n",
       "    </tr>\n",
       "    <tr>\n",
       "      <th>...</th>\n",
       "      <td>...</td>\n",
       "      <td>...</td>\n",
       "      <td>...</td>\n",
       "      <td>...</td>\n",
       "      <td>...</td>\n",
       "      <td>...</td>\n",
       "      <td>...</td>\n",
       "    </tr>\n",
       "    <tr>\n",
       "      <th>2450</th>\n",
       "      <td>8</td>\n",
       "      <td>100.367325</td>\n",
       "      <td>-9.399616</td>\n",
       "      <td>0.267632</td>\n",
       "      <td>0.647229</td>\n",
       "      <td>0.434254</td>\n",
       "      <td>0.023873</td>\n",
       "    </tr>\n",
       "    <tr>\n",
       "      <th>2451</th>\n",
       "      <td>8</td>\n",
       "      <td>96.449471</td>\n",
       "      <td>-9.660956</td>\n",
       "      <td>0.265470</td>\n",
       "      <td>0.621995</td>\n",
       "      <td>0.526482</td>\n",
       "      <td>0.024304</td>\n",
       "    </tr>\n",
       "    <tr>\n",
       "      <th>2452</th>\n",
       "      <td>8</td>\n",
       "      <td>99.923615</td>\n",
       "      <td>-10.737567</td>\n",
       "      <td>0.280428</td>\n",
       "      <td>0.595984</td>\n",
       "      <td>0.524668</td>\n",
       "      <td>0.033549</td>\n",
       "    </tr>\n",
       "    <tr>\n",
       "      <th>2453</th>\n",
       "      <td>8</td>\n",
       "      <td>96.282051</td>\n",
       "      <td>-10.374496</td>\n",
       "      <td>0.261964</td>\n",
       "      <td>0.627558</td>\n",
       "      <td>0.687390</td>\n",
       "      <td>0.034079</td>\n",
       "    </tr>\n",
       "    <tr>\n",
       "      <th>2454</th>\n",
       "      <td>8</td>\n",
       "      <td>98.354881</td>\n",
       "      <td>-10.576735</td>\n",
       "      <td>0.258564</td>\n",
       "      <td>0.642906</td>\n",
       "      <td>0.498235</td>\n",
       "      <td>0.032868</td>\n",
       "    </tr>\n",
       "  </tbody>\n",
       "</table>\n",
       "<p>2455 rows × 7 columns</p>\n",
       "</div>"
      ],
      "text/plain": [
       "      Emotion   MFCC Mean  MFCC Standard deviation  Croma Mean  \\\n",
       "0           1  113.995018               -17.983574    0.272483   \n",
       "1           1  112.260872               -17.682295    0.218568   \n",
       "2           1  111.574677               -17.600674    0.208594   \n",
       "3           1  110.698242               -17.382687    0.193784   \n",
       "4           2  115.860268               -18.125637    0.227840   \n",
       "...       ...         ...                      ...         ...   \n",
       "2450        8  100.367325                -9.399616    0.267632   \n",
       "2451        8   96.449471                -9.660956    0.265470   \n",
       "2452        8   99.923615               -10.737567    0.280428   \n",
       "2453        8   96.282051               -10.374496    0.261964   \n",
       "2454        8   98.354881               -10.576735    0.258564   \n",
       "\n",
       "      Chroma Standard deviation  MEL Mean  MEL Standard deviation  \n",
       "0                      0.675760  0.040853                0.003970  \n",
       "1                      0.725722  0.047049                0.004594  \n",
       "2                      0.728253  0.063881                0.006346  \n",
       "3                      0.747211  0.061945                0.005832  \n",
       "4                      0.699711  0.023791                0.002190  \n",
       "...                         ...       ...                     ...  \n",
       "2450                   0.647229  0.434254                0.023873  \n",
       "2451                   0.621995  0.526482                0.024304  \n",
       "2452                   0.595984  0.524668                0.033549  \n",
       "2453                   0.627558  0.687390                0.034079  \n",
       "2454                   0.642906  0.498235                0.032868  \n",
       "\n",
       "[2455 rows x 7 columns]"
      ]
     },
     "execution_count": 2,
     "metadata": {},
     "output_type": "execute_result"
    }
   ],
   "source": [
    "data = pd.read_csv(\"Emotion_Databases.csv\")\n",
    "emotions = {'neutral': 1, \n",
    "            'calm': 2, \n",
    "            'happy': 3, \n",
    "            'sad': 4, \n",
    "            'angry': 5, \n",
    "            'fearful': 6, \n",
    "            'disgust': 7,\n",
    "            'surprised': 8, \n",
    "            'boredom': 9}\n",
    "data[\"Emotion\"] = data[\"Emotion\"].map(emotions)\n",
    "names = data[\"File Name\"]\n",
    "data = data.drop(\"File Name\", axis = 1)\n",
    "data"
   ]
  },
  {
   "cell_type": "code",
   "execution_count": 3,
   "metadata": {},
   "outputs": [],
   "source": [
    "y = data[\"Emotion\"]\n",
    "data = data.drop(\"Emotion\", axis = 1)"
   ]
  },
  {
   "cell_type": "code",
   "execution_count": 4,
   "metadata": {},
   "outputs": [],
   "source": [
    "X_train, X_test, y_train, y_test = train_test_split(data, y, test_size = 0.22)"
   ]
  },
  {
   "cell_type": "code",
   "execution_count": 5,
   "metadata": {},
   "outputs": [
    {
     "data": {
      "text/plain": [
       "((1914, 6), (541, 6), (1914,), (541,))"
      ]
     },
     "execution_count": 5,
     "metadata": {},
     "output_type": "execute_result"
    }
   ],
   "source": [
    "X_train.shape, X_test.shape, y_train.shape, y_test.shape"
   ]
  },
  {
   "cell_type": "code",
   "execution_count": 36,
   "metadata": {},
   "outputs": [],
   "source": [
    "net = MLPClassifier(hidden_layer_sizes = tuple([40] * 10), alpha = 0.001, learning_rate = \"constant\", \\\n",
    "                    random_state = 11, verbose = 3)"
   ]
  },
  {
   "cell_type": "code",
   "execution_count": 37,
   "metadata": {},
   "outputs": [],
   "source": [
    "# params = {\n",
    "#     \"hidden_layer_sizes\": [tuple([i] * 10) for i in range(10, 51, 10)],\n",
    "#     \"alpha\": [0.0001, 0.001, 0.01, 0.1, 1],\n",
    "#     \"learning_rate\": [\"constant\", \"invscaling\", \"adaptive\"],\n",
    "    \n",
    "# }\n",
    "# net = GridSearchCV(net, params, scoring = \"accuracy\", n_jobs = -1, verbose = 3)"
   ]
  },
  {
   "cell_type": "markdown",
   "metadata": {},
   "source": [
    "I have already found the necessary params, so grid search is not needed for now"
   ]
  },
  {
   "cell_type": "code",
   "execution_count": 38,
   "metadata": {
    "scrolled": true
   },
   "outputs": [
    {
     "name": "stdout",
     "output_type": "stream",
     "text": [
      "Iteration 1, loss = 2.24095893\n",
      "Iteration 2, loss = 2.16364717\n",
      "Iteration 3, loss = 2.12872202\n",
      "Iteration 4, loss = 2.09660222\n",
      "Iteration 5, loss = 2.06767643\n",
      "Iteration 6, loss = 2.03969524\n",
      "Iteration 7, loss = 2.01635341\n",
      "Iteration 8, loss = 1.99970352\n",
      "Iteration 9, loss = 1.99494525\n",
      "Iteration 10, loss = 1.98980500\n",
      "Iteration 11, loss = 1.96840785\n",
      "Iteration 12, loss = 1.94643047\n",
      "Iteration 13, loss = 1.93589857\n",
      "Iteration 14, loss = 1.91413277\n",
      "Iteration 15, loss = 1.89692487\n",
      "Iteration 16, loss = 1.87581628\n",
      "Iteration 17, loss = 1.85798948\n",
      "Iteration 18, loss = 1.84834735\n",
      "Iteration 19, loss = 1.82906811\n",
      "Iteration 20, loss = 1.80440906\n",
      "Iteration 21, loss = 1.80831070\n",
      "Iteration 22, loss = 1.80269439\n",
      "Iteration 23, loss = 1.76966626\n",
      "Iteration 24, loss = 1.76472876\n",
      "Iteration 25, loss = 1.75576975\n",
      "Iteration 26, loss = 1.74823738\n",
      "Iteration 27, loss = 1.74463756\n",
      "Iteration 28, loss = 1.74821727\n",
      "Iteration 29, loss = 1.72338971\n",
      "Iteration 30, loss = 1.71672815\n",
      "Iteration 31, loss = 1.72226760\n",
      "Iteration 32, loss = 1.71636578\n",
      "Iteration 33, loss = 1.70513369\n",
      "Iteration 34, loss = 1.70705049\n",
      "Iteration 35, loss = 1.71385748\n",
      "Iteration 36, loss = 1.72311709\n",
      "Iteration 37, loss = 1.71895197\n",
      "Iteration 38, loss = 1.71666261\n",
      "Iteration 39, loss = 1.70378411\n",
      "Iteration 40, loss = 1.68278644\n",
      "Iteration 41, loss = 1.68092500\n",
      "Iteration 42, loss = 1.67009044\n",
      "Iteration 43, loss = 1.67239178\n",
      "Iteration 44, loss = 1.67861312\n",
      "Iteration 45, loss = 1.67003094\n",
      "Iteration 46, loss = 1.70460287\n",
      "Iteration 47, loss = 1.70144911\n",
      "Iteration 48, loss = 1.69184624\n",
      "Iteration 49, loss = 1.69951298\n",
      "Iteration 50, loss = 1.66988880\n",
      "Iteration 51, loss = 1.66375927\n",
      "Iteration 52, loss = 1.65888991\n",
      "Iteration 53, loss = 1.65905332\n",
      "Iteration 54, loss = 1.65259585\n",
      "Iteration 55, loss = 1.67199518\n",
      "Iteration 56, loss = 1.67792273\n",
      "Iteration 57, loss = 1.66247931\n",
      "Iteration 58, loss = 1.66783488\n",
      "Iteration 59, loss = 1.65941202\n",
      "Iteration 60, loss = 1.65609518\n",
      "Iteration 61, loss = 1.65202524\n",
      "Iteration 62, loss = 1.64383142\n",
      "Iteration 63, loss = 1.63814244\n",
      "Iteration 64, loss = 1.63039074\n",
      "Iteration 65, loss = 1.62932425\n",
      "Iteration 66, loss = 1.63879192\n",
      "Iteration 67, loss = 1.63792512\n",
      "Iteration 68, loss = 1.67635513\n",
      "Iteration 69, loss = 1.63260622\n",
      "Iteration 70, loss = 1.63919821\n",
      "Iteration 71, loss = 1.63437855\n",
      "Iteration 72, loss = 1.62357127\n",
      "Iteration 73, loss = 1.62064035\n",
      "Iteration 74, loss = 1.61713088\n",
      "Iteration 75, loss = 1.64615354\n",
      "Iteration 76, loss = 1.62354141\n",
      "Iteration 77, loss = 1.62870003\n",
      "Iteration 78, loss = 1.63010457\n",
      "Iteration 79, loss = 1.62348431\n",
      "Iteration 80, loss = 1.62667889\n",
      "Iteration 81, loss = 1.62500605\n",
      "Iteration 82, loss = 1.63284708\n",
      "Iteration 83, loss = 1.63018884\n",
      "Iteration 84, loss = 1.61895779\n",
      "Iteration 85, loss = 1.64139695\n",
      "Training loss did not improve more than tol=0.000100 for 10 consecutive epochs. Stopping.\n"
     ]
    },
    {
     "data": {
      "text/plain": [
       "MLPClassifier(activation='relu', alpha=0.001, batch_size='auto', beta_1=0.9,\n",
       "              beta_2=0.999, early_stopping=False, epsilon=1e-08,\n",
       "              hidden_layer_sizes=(40, 40, 40, 40, 40, 40, 40, 40, 40, 40),\n",
       "              learning_rate='constant', learning_rate_init=0.001, max_fun=15000,\n",
       "              max_iter=200, momentum=0.9, n_iter_no_change=10,\n",
       "              nesterovs_momentum=True, power_t=0.5, random_state=11,\n",
       "              shuffle=True, solver='adam', tol=0.0001, validation_fraction=0.1,\n",
       "              verbose=3, warm_start=False)"
      ]
     },
     "execution_count": 38,
     "metadata": {},
     "output_type": "execute_result"
    }
   ],
   "source": [
    "net.fit(X_train, y_train)"
   ]
  },
  {
   "cell_type": "code",
   "execution_count": 39,
   "metadata": {},
   "outputs": [
    {
     "data": {
      "text/plain": [
       "0.36414048059149723"
      ]
     },
     "execution_count": 39,
     "metadata": {},
     "output_type": "execute_result"
    }
   ],
   "source": [
    "accuracy_score(net.predict(X_test), y_test)"
   ]
  },
  {
   "cell_type": "markdown",
   "metadata": {},
   "source": [
    "# Saving the model"
   ]
  },
  {
   "cell_type": "code",
   "execution_count": 41,
   "metadata": {},
   "outputs": [],
   "source": [
    "filename = 'net.sav'\n",
    "pickle.dump(net, open(filename, 'wb'))"
   ]
  },
  {
   "cell_type": "markdown",
   "metadata": {},
   "source": [
    "# Loading the model"
   ]
  },
  {
   "cell_type": "code",
   "execution_count": 12,
   "metadata": {},
   "outputs": [],
   "source": [
    "filename = 'net.sav'\n",
    "net = pickle.load(open(filename, 'rb'))"
   ]
  },
  {
   "cell_type": "code",
   "execution_count": 34,
   "metadata": {},
   "outputs": [
    {
     "data": {
      "text/plain": [
       "0.3678373382624769"
      ]
     },
     "execution_count": 34,
     "metadata": {},
     "output_type": "execute_result"
    }
   ],
   "source": [
    "accuracy_score(net.predict(X_test), y_test)"
   ]
  },
  {
   "cell_type": "markdown",
   "metadata": {},
   "source": [
    "# Let's have a look at the feature importance "
   ]
  },
  {
   "cell_type": "code",
   "execution_count": 38,
   "metadata": {},
   "outputs": [
    {
     "data": {
      "text/html": [
       "<div>\n",
       "<style scoped>\n",
       "    .dataframe tbody tr th:only-of-type {\n",
       "        vertical-align: middle;\n",
       "    }\n",
       "\n",
       "    .dataframe tbody tr th {\n",
       "        vertical-align: top;\n",
       "    }\n",
       "\n",
       "    .dataframe thead th {\n",
       "        text-align: right;\n",
       "    }\n",
       "</style>\n",
       "<table border=\"1\" class=\"dataframe\">\n",
       "  <thead>\n",
       "    <tr style=\"text-align: right;\">\n",
       "      <th></th>\n",
       "      <th>feature</th>\n",
       "      <th>coef</th>\n",
       "    </tr>\n",
       "  </thead>\n",
       "  <tbody>\n",
       "    <tr>\n",
       "      <th>0</th>\n",
       "      <td>MFCC Mean</td>\n",
       "      <td>0.029156</td>\n",
       "    </tr>\n",
       "    <tr>\n",
       "      <th>1</th>\n",
       "      <td>MFCC Standard deviation</td>\n",
       "      <td>0.029156</td>\n",
       "    </tr>\n",
       "    <tr>\n",
       "      <th>2</th>\n",
       "      <td>Croma Mean</td>\n",
       "      <td>0.029156</td>\n",
       "    </tr>\n",
       "    <tr>\n",
       "      <th>3</th>\n",
       "      <td>Chroma Standard deviation</td>\n",
       "      <td>0.029156</td>\n",
       "    </tr>\n",
       "    <tr>\n",
       "      <th>4</th>\n",
       "      <td>MEL Mean</td>\n",
       "      <td>0.029156</td>\n",
       "    </tr>\n",
       "    <tr>\n",
       "      <th>5</th>\n",
       "      <td>MEL Standard deviation</td>\n",
       "      <td>0.029156</td>\n",
       "    </tr>\n",
       "  </tbody>\n",
       "</table>\n",
       "</div>"
      ],
      "text/plain": [
       "                     feature      coef\n",
       "0                  MFCC Mean  0.029156\n",
       "1    MFCC Standard deviation  0.029156\n",
       "2                 Croma Mean  0.029156\n",
       "3  Chroma Standard deviation  0.029156\n",
       "4                   MEL Mean  0.029156\n",
       "5     MEL Standard deviation  0.029156"
      ]
     },
     "execution_count": 38,
     "metadata": {},
     "output_type": "execute_result"
    }
   ],
   "source": [
    "pd.DataFrame({\"feature\": X_train.columns,\n",
    "             \"coef\": np.mean(net.coefs_[0])})"
   ]
  },
  {
   "cell_type": "markdown",
   "metadata": {},
   "source": [
    "## Confusing, but all features have the same importance. Maybe I did smth wrong"
   ]
  },
  {
   "cell_type": "code",
   "execution_count": null,
   "metadata": {},
   "outputs": [],
   "source": []
  }
 ],
 "metadata": {
  "kernelspec": {
   "display_name": "Python 3",
   "language": "python",
   "name": "python3"
  },
  "language_info": {
   "codemirror_mode": {
    "name": "ipython",
    "version": 3
   },
   "file_extension": ".py",
   "mimetype": "text/x-python",
   "name": "python",
   "nbconvert_exporter": "python",
   "pygments_lexer": "ipython3",
   "version": "3.6.5"
  }
 },
 "nbformat": 4,
 "nbformat_minor": 4
}

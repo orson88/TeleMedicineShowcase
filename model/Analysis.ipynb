{
 "cells": [
  {
   "cell_type": "markdown",
   "metadata": {},
   "source": [
    "# Reading Data"
   ]
  },
  {
   "cell_type": "code",
   "execution_count": 46,
   "metadata": {},
   "outputs": [],
   "source": [
    "import pandas as pd\n",
    "import numpy as np\n",
    "import seaborn as sns\n",
    "import matplotlib.pyplot as plt"
   ]
  },
  {
   "cell_type": "code",
   "execution_count": 47,
   "metadata": {},
   "outputs": [],
   "source": [
    "data = pd.read_csv(\"Emotion_Databases.csv\")"
   ]
  },
  {
   "cell_type": "code",
   "execution_count": 48,
   "metadata": {},
   "outputs": [
    {
     "data": {
      "text/html": [
       "<div>\n",
       "<style scoped>\n",
       "    .dataframe tbody tr th:only-of-type {\n",
       "        vertical-align: middle;\n",
       "    }\n",
       "\n",
       "    .dataframe tbody tr th {\n",
       "        vertical-align: top;\n",
       "    }\n",
       "\n",
       "    .dataframe thead th {\n",
       "        text-align: right;\n",
       "    }\n",
       "</style>\n",
       "<table border=\"1\" class=\"dataframe\">\n",
       "  <thead>\n",
       "    <tr style=\"text-align: right;\">\n",
       "      <th></th>\n",
       "      <th>File Name</th>\n",
       "      <th>Emotion</th>\n",
       "      <th>MFCC Mean</th>\n",
       "      <th>MFCC Standard deviation</th>\n",
       "      <th>Croma Mean</th>\n",
       "      <th>Chroma Standard deviation</th>\n",
       "      <th>MEL Mean</th>\n",
       "      <th>MEL Standard deviation</th>\n",
       "    </tr>\n",
       "  </thead>\n",
       "  <tbody>\n",
       "    <tr>\n",
       "      <th>0</th>\n",
       "      <td>03-01-01-01-01-01-01.wav</td>\n",
       "      <td>neutral</td>\n",
       "      <td>113.995018</td>\n",
       "      <td>-17.983574</td>\n",
       "      <td>0.272483</td>\n",
       "      <td>0.675760</td>\n",
       "      <td>0.040853</td>\n",
       "      <td>0.003970</td>\n",
       "    </tr>\n",
       "    <tr>\n",
       "      <th>1</th>\n",
       "      <td>03-01-01-01-01-02-01.wav</td>\n",
       "      <td>neutral</td>\n",
       "      <td>112.260872</td>\n",
       "      <td>-17.682295</td>\n",
       "      <td>0.218568</td>\n",
       "      <td>0.725722</td>\n",
       "      <td>0.047049</td>\n",
       "      <td>0.004594</td>\n",
       "    </tr>\n",
       "    <tr>\n",
       "      <th>2</th>\n",
       "      <td>03-01-01-01-02-01-01.wav</td>\n",
       "      <td>neutral</td>\n",
       "      <td>111.574677</td>\n",
       "      <td>-17.600674</td>\n",
       "      <td>0.208594</td>\n",
       "      <td>0.728253</td>\n",
       "      <td>0.063881</td>\n",
       "      <td>0.006346</td>\n",
       "    </tr>\n",
       "    <tr>\n",
       "      <th>3</th>\n",
       "      <td>03-01-01-01-02-02-01.wav</td>\n",
       "      <td>neutral</td>\n",
       "      <td>110.698242</td>\n",
       "      <td>-17.382687</td>\n",
       "      <td>0.193784</td>\n",
       "      <td>0.747211</td>\n",
       "      <td>0.061945</td>\n",
       "      <td>0.005832</td>\n",
       "    </tr>\n",
       "    <tr>\n",
       "      <th>4</th>\n",
       "      <td>03-01-02-01-01-01-01.wav</td>\n",
       "      <td>calm</td>\n",
       "      <td>115.860268</td>\n",
       "      <td>-18.125637</td>\n",
       "      <td>0.227840</td>\n",
       "      <td>0.699711</td>\n",
       "      <td>0.023791</td>\n",
       "      <td>0.002190</td>\n",
       "    </tr>\n",
       "  </tbody>\n",
       "</table>\n",
       "</div>"
      ],
      "text/plain": [
       "                  File Name  Emotion   MFCC Mean  MFCC Standard deviation  \\\n",
       "0  03-01-01-01-01-01-01.wav  neutral  113.995018               -17.983574   \n",
       "1  03-01-01-01-01-02-01.wav  neutral  112.260872               -17.682295   \n",
       "2  03-01-01-01-02-01-01.wav  neutral  111.574677               -17.600674   \n",
       "3  03-01-01-01-02-02-01.wav  neutral  110.698242               -17.382687   \n",
       "4  03-01-02-01-01-01-01.wav     calm  115.860268               -18.125637   \n",
       "\n",
       "   Croma Mean  Chroma Standard deviation  MEL Mean  MEL Standard deviation  \n",
       "0    0.272483                   0.675760  0.040853                0.003970  \n",
       "1    0.218568                   0.725722  0.047049                0.004594  \n",
       "2    0.208594                   0.728253  0.063881                0.006346  \n",
       "3    0.193784                   0.747211  0.061945                0.005832  \n",
       "4    0.227840                   0.699711  0.023791                0.002190  "
      ]
     },
     "execution_count": 48,
     "metadata": {},
     "output_type": "execute_result"
    }
   ],
   "source": [
    "data.head()"
   ]
  },
  {
   "cell_type": "code",
   "execution_count": 49,
   "metadata": {},
   "outputs": [
    {
     "data": {
      "text/plain": [
       "array(['neutral', 'calm', 'happy', 'sad', 'angry', 'fearful', 'disgust',\n",
       "       'surprised', 'boredom'], dtype=object)"
      ]
     },
     "execution_count": 49,
     "metadata": {},
     "output_type": "execute_result"
    }
   ],
   "source": [
    "data[\"Emotion\"].unique()"
   ]
  },
  {
   "cell_type": "code",
   "execution_count": 50,
   "metadata": {},
   "outputs": [],
   "source": [
    "emotions = {'neutral': 0, \n",
    "            'calm': 1, \n",
    "            'happy': 2, \n",
    "            'sad': 3, \n",
    "            'angry': 4, \n",
    "            'fearful': 5, \n",
    "            'disgust': 6,\n",
    "            'surprised': 7, \n",
    "            'boredom': 8}"
   ]
  },
  {
   "cell_type": "code",
   "execution_count": 51,
   "metadata": {},
   "outputs": [],
   "source": [
    "data[\"Emotion\"] = data[\"Emotion\"].map(emotions)"
   ]
  },
  {
   "cell_type": "code",
   "execution_count": 52,
   "metadata": {},
   "outputs": [
    {
     "data": {
      "text/plain": [
       "(2455, 8)"
      ]
     },
     "execution_count": 52,
     "metadata": {},
     "output_type": "execute_result"
    }
   ],
   "source": [
    "data.shape"
   ]
  },
  {
   "cell_type": "code",
   "execution_count": 53,
   "metadata": {},
   "outputs": [
    {
     "data": {
      "text/plain": [
       "2095"
      ]
     },
     "execution_count": 53,
     "metadata": {},
     "output_type": "execute_result"
    }
   ],
   "source": [
    "data[\"File Name\"].nunique()"
   ]
  },
  {
   "cell_type": "markdown",
   "metadata": {},
   "source": [
    "Name does not affect on data"
   ]
  },
  {
   "cell_type": "code",
   "execution_count": 77,
   "metadata": {},
   "outputs": [
    {
     "data": {
      "text/html": [
       "<div>\n",
       "<style scoped>\n",
       "    .dataframe tbody tr th:only-of-type {\n",
       "        vertical-align: middle;\n",
       "    }\n",
       "\n",
       "    .dataframe tbody tr th {\n",
       "        vertical-align: top;\n",
       "    }\n",
       "\n",
       "    .dataframe thead th {\n",
       "        text-align: right;\n",
       "    }\n",
       "</style>\n",
       "<table border=\"1\" class=\"dataframe\">\n",
       "  <thead>\n",
       "    <tr style=\"text-align: right;\">\n",
       "      <th></th>\n",
       "      <th>Emotion</th>\n",
       "      <th>MFCC Mean</th>\n",
       "      <th>MFCC Standard deviation</th>\n",
       "      <th>Croma Mean</th>\n",
       "      <th>Chroma Standard deviation</th>\n",
       "      <th>MEL Mean</th>\n",
       "      <th>MEL Standard deviation</th>\n",
       "    </tr>\n",
       "  </thead>\n",
       "  <tbody>\n",
       "    <tr>\n",
       "      <th>Emotion</th>\n",
       "      <td>1.000000</td>\n",
       "      <td>-0.158380</td>\n",
       "      <td>0.047970</td>\n",
       "      <td>0.023088</td>\n",
       "      <td>-0.034555</td>\n",
       "      <td>0.097956</td>\n",
       "      <td>0.095375</td>\n",
       "    </tr>\n",
       "    <tr>\n",
       "      <th>MFCC Mean</th>\n",
       "      <td>-0.158380</td>\n",
       "      <td>1.000000</td>\n",
       "      <td>-0.872719</td>\n",
       "      <td>0.116241</td>\n",
       "      <td>0.356299</td>\n",
       "      <td>-0.528086</td>\n",
       "      <td>-0.619319</td>\n",
       "    </tr>\n",
       "    <tr>\n",
       "      <th>MFCC Standard deviation</th>\n",
       "      <td>0.047970</td>\n",
       "      <td>-0.872719</td>\n",
       "      <td>1.000000</td>\n",
       "      <td>-0.256225</td>\n",
       "      <td>-0.174850</td>\n",
       "      <td>0.568474</td>\n",
       "      <td>0.640418</td>\n",
       "    </tr>\n",
       "    <tr>\n",
       "      <th>Croma Mean</th>\n",
       "      <td>0.023088</td>\n",
       "      <td>0.116241</td>\n",
       "      <td>-0.256225</td>\n",
       "      <td>1.000000</td>\n",
       "      <td>-0.775690</td>\n",
       "      <td>0.080501</td>\n",
       "      <td>0.042860</td>\n",
       "    </tr>\n",
       "    <tr>\n",
       "      <th>Chroma Standard deviation</th>\n",
       "      <td>-0.034555</td>\n",
       "      <td>0.356299</td>\n",
       "      <td>-0.174850</td>\n",
       "      <td>-0.775690</td>\n",
       "      <td>1.000000</td>\n",
       "      <td>-0.278135</td>\n",
       "      <td>-0.311823</td>\n",
       "    </tr>\n",
       "    <tr>\n",
       "      <th>MEL Mean</th>\n",
       "      <td>0.097956</td>\n",
       "      <td>-0.528086</td>\n",
       "      <td>0.568474</td>\n",
       "      <td>0.080501</td>\n",
       "      <td>-0.278135</td>\n",
       "      <td>1.000000</td>\n",
       "      <td>0.969048</td>\n",
       "    </tr>\n",
       "    <tr>\n",
       "      <th>MEL Standard deviation</th>\n",
       "      <td>0.095375</td>\n",
       "      <td>-0.619319</td>\n",
       "      <td>0.640418</td>\n",
       "      <td>0.042860</td>\n",
       "      <td>-0.311823</td>\n",
       "      <td>0.969048</td>\n",
       "      <td>1.000000</td>\n",
       "    </tr>\n",
       "  </tbody>\n",
       "</table>\n",
       "</div>"
      ],
      "text/plain": [
       "                            Emotion  MFCC Mean  MFCC Standard deviation  \\\n",
       "Emotion                    1.000000  -0.158380                 0.047970   \n",
       "MFCC Mean                 -0.158380   1.000000                -0.872719   \n",
       "MFCC Standard deviation    0.047970  -0.872719                 1.000000   \n",
       "Croma Mean                 0.023088   0.116241                -0.256225   \n",
       "Chroma Standard deviation -0.034555   0.356299                -0.174850   \n",
       "MEL Mean                   0.097956  -0.528086                 0.568474   \n",
       "MEL Standard deviation     0.095375  -0.619319                 0.640418   \n",
       "\n",
       "                           Croma Mean  Chroma Standard deviation  MEL Mean  \\\n",
       "Emotion                      0.023088                  -0.034555  0.097956   \n",
       "MFCC Mean                    0.116241                   0.356299 -0.528086   \n",
       "MFCC Standard deviation     -0.256225                  -0.174850  0.568474   \n",
       "Croma Mean                   1.000000                  -0.775690  0.080501   \n",
       "Chroma Standard deviation   -0.775690                   1.000000 -0.278135   \n",
       "MEL Mean                     0.080501                  -0.278135  1.000000   \n",
       "MEL Standard deviation       0.042860                  -0.311823  0.969048   \n",
       "\n",
       "                           MEL Standard deviation  \n",
       "Emotion                                  0.095375  \n",
       "MFCC Mean                               -0.619319  \n",
       "MFCC Standard deviation                  0.640418  \n",
       "Croma Mean                               0.042860  \n",
       "Chroma Standard deviation               -0.311823  \n",
       "MEL Mean                                 0.969048  \n",
       "MEL Standard deviation                   1.000000  "
      ]
     },
     "execution_count": 77,
     "metadata": {},
     "output_type": "execute_result"
    }
   ],
   "source": [
    "data.corr()"
   ]
  },
  {
   "cell_type": "code",
   "execution_count": 75,
   "metadata": {},
   "outputs": [
    {
     "data": {
      "text/plain": [
       "<matplotlib.axes._subplots.AxesSubplot at 0x2957772ed68>"
      ]
     },
     "execution_count": 75,
     "metadata": {},
     "output_type": "execute_result"
    },
    {
     "data": {
      "image/png": "[encoded data removed]",
      "text/plain": [
       "<Figure size 432x288 with 2 Axes>"
      ]
     },
     "metadata": {
      "needs_background": "light"
     },
     "output_type": "display_data"
    }
   ],
   "source": [
    "sns.heatmap(data.corr())"
   ]
  },
  {
   "cell_type": "code",
   "execution_count": 54,
   "metadata": {},
   "outputs": [
    {
     "data": {
      "text/html": [
       "<div>\n",
       "<style scoped>\n",
       "    .dataframe tbody tr th:only-of-type {\n",
       "        vertical-align: middle;\n",
       "    }\n",
       "\n",
       "    .dataframe tbody tr th {\n",
       "        vertical-align: top;\n",
       "    }\n",
       "\n",
       "    .dataframe thead th {\n",
       "        text-align: right;\n",
       "    }\n",
       "</style>\n",
       "<table border=\"1\" class=\"dataframe\">\n",
       "  <thead>\n",
       "    <tr style=\"text-align: right;\">\n",
       "      <th></th>\n",
       "      <th>Emotion</th>\n",
       "      <th>MFCC Mean</th>\n",
       "      <th>MFCC Standard deviation</th>\n",
       "      <th>Croma Mean</th>\n",
       "      <th>Chroma Standard deviation</th>\n",
       "      <th>MEL Mean</th>\n",
       "      <th>MEL Standard deviation</th>\n",
       "    </tr>\n",
       "  </thead>\n",
       "  <tbody>\n",
       "    <tr>\n",
       "      <th>0</th>\n",
       "      <td>0</td>\n",
       "      <td>113.995018</td>\n",
       "      <td>-17.983574</td>\n",
       "      <td>0.272483</td>\n",
       "      <td>0.675760</td>\n",
       "      <td>0.040853</td>\n",
       "      <td>0.003970</td>\n",
       "    </tr>\n",
       "    <tr>\n",
       "      <th>1</th>\n",
       "      <td>0</td>\n",
       "      <td>112.260872</td>\n",
       "      <td>-17.682295</td>\n",
       "      <td>0.218568</td>\n",
       "      <td>0.725722</td>\n",
       "      <td>0.047049</td>\n",
       "      <td>0.004594</td>\n",
       "    </tr>\n",
       "    <tr>\n",
       "      <th>2</th>\n",
       "      <td>0</td>\n",
       "      <td>111.574677</td>\n",
       "      <td>-17.600674</td>\n",
       "      <td>0.208594</td>\n",
       "      <td>0.728253</td>\n",
       "      <td>0.063881</td>\n",
       "      <td>0.006346</td>\n",
       "    </tr>\n",
       "    <tr>\n",
       "      <th>3</th>\n",
       "      <td>0</td>\n",
       "      <td>110.698242</td>\n",
       "      <td>-17.382687</td>\n",
       "      <td>0.193784</td>\n",
       "      <td>0.747211</td>\n",
       "      <td>0.061945</td>\n",
       "      <td>0.005832</td>\n",
       "    </tr>\n",
       "    <tr>\n",
       "      <th>4</th>\n",
       "      <td>1</td>\n",
       "      <td>115.860268</td>\n",
       "      <td>-18.125637</td>\n",
       "      <td>0.227840</td>\n",
       "      <td>0.699711</td>\n",
       "      <td>0.023791</td>\n",
       "      <td>0.002190</td>\n",
       "    </tr>\n",
       "    <tr>\n",
       "      <th>...</th>\n",
       "      <td>...</td>\n",
       "      <td>...</td>\n",
       "      <td>...</td>\n",
       "      <td>...</td>\n",
       "      <td>...</td>\n",
       "      <td>...</td>\n",
       "      <td>...</td>\n",
       "    </tr>\n",
       "    <tr>\n",
       "      <th>2450</th>\n",
       "      <td>7</td>\n",
       "      <td>100.367325</td>\n",
       "      <td>-9.399616</td>\n",
       "      <td>0.267632</td>\n",
       "      <td>0.647229</td>\n",
       "      <td>0.434254</td>\n",
       "      <td>0.023873</td>\n",
       "    </tr>\n",
       "    <tr>\n",
       "      <th>2451</th>\n",
       "      <td>7</td>\n",
       "      <td>96.449471</td>\n",
       "      <td>-9.660956</td>\n",
       "      <td>0.265470</td>\n",
       "      <td>0.621995</td>\n",
       "      <td>0.526482</td>\n",
       "      <td>0.024304</td>\n",
       "    </tr>\n",
       "    <tr>\n",
       "      <th>2452</th>\n",
       "      <td>7</td>\n",
       "      <td>99.923615</td>\n",
       "      <td>-10.737567</td>\n",
       "      <td>0.280428</td>\n",
       "      <td>0.595984</td>\n",
       "      <td>0.524668</td>\n",
       "      <td>0.033549</td>\n",
       "    </tr>\n",
       "    <tr>\n",
       "      <th>2453</th>\n",
       "      <td>7</td>\n",
       "      <td>96.282051</td>\n",
       "      <td>-10.374496</td>\n",
       "      <td>0.261964</td>\n",
       "      <td>0.627558</td>\n",
       "      <td>0.687390</td>\n",
       "      <td>0.034079</td>\n",
       "    </tr>\n",
       "    <tr>\n",
       "      <th>2454</th>\n",
       "      <td>7</td>\n",
       "      <td>98.354881</td>\n",
       "      <td>-10.576735</td>\n",
       "      <td>0.258564</td>\n",
       "      <td>0.642906</td>\n",
       "      <td>0.498235</td>\n",
       "      <td>0.032868</td>\n",
       "    </tr>\n",
       "  </tbody>\n",
       "</table>\n",
       "<p>2455 rows × 7 columns</p>\n",
       "</div>"
      ],
      "text/plain": [
       "      Emotion   MFCC Mean  MFCC Standard deviation  Croma Mean  \\\n",
       "0           0  113.995018               -17.983574    0.272483   \n",
       "1           0  112.260872               -17.682295    0.218568   \n",
       "2           0  111.574677               -17.600674    0.208594   \n",
       "3           0  110.698242               -17.382687    0.193784   \n",
       "4           1  115.860268               -18.125637    0.227840   \n",
       "...       ...         ...                      ...         ...   \n",
       "2450        7  100.367325                -9.399616    0.267632   \n",
       "2451        7   96.449471                -9.660956    0.265470   \n",
       "2452        7   99.923615               -10.737567    0.280428   \n",
       "2453        7   96.282051               -10.374496    0.261964   \n",
       "2454        7   98.354881               -10.576735    0.258564   \n",
       "\n",
       "      Chroma Standard deviation  MEL Mean  MEL Standard deviation  \n",
       "0                      0.675760  0.040853                0.003970  \n",
       "1                      0.725722  0.047049                0.004594  \n",
       "2                      0.728253  0.063881                0.006346  \n",
       "3                      0.747211  0.061945                0.005832  \n",
       "4                      0.699711  0.023791                0.002190  \n",
       "...                         ...       ...                     ...  \n",
       "2450                   0.647229  0.434254                0.023873  \n",
       "2451                   0.621995  0.526482                0.024304  \n",
       "2452                   0.595984  0.524668                0.033549  \n",
       "2453                   0.627558  0.687390                0.034079  \n",
       "2454                   0.642906  0.498235                0.032868  \n",
       "\n",
       "[2455 rows x 7 columns]"
      ]
     },
     "execution_count": 54,
     "metadata": {},
     "output_type": "execute_result"
    }
   ],
   "source": [
    "names = data[\"File Name\"]\n",
    "data = data.drop(\"File Name\", axis = 1)\n",
    "data"
   ]
  },
  {
   "cell_type": "code",
   "execution_count": 55,
   "metadata": {},
   "outputs": [
    {
     "data": {
      "image/png": "[encoded data removed]",
      "text/plain": [
       "<Figure size 432x288 with 1 Axes>"
      ]
     },
     "metadata": {
      "needs_background": "light"
     },
     "output_type": "display_data"
    }
   ],
   "source": [
    "sns.countplot(data[\"Emotion\"]);"
   ]
  },
  {
   "cell_type": "markdown",
   "metadata": {},
   "source": [
    "###### \"Stubborn\" people is the least group. Nothing interesting"
   ]
  },
  {
   "cell_type": "markdown",
   "metadata": {},
   "source": [
    "# TSNE"
   ]
  },
  {
   "cell_type": "code",
   "execution_count": 56,
   "metadata": {},
   "outputs": [],
   "source": [
    "from sklearn.manifold import TSNE\n",
    "from sklearn.preprocessing import StandardScaler\n",
    "tsne = TSNE(n_components = 2, random_state = 11)"
   ]
  },
  {
   "cell_type": "code",
   "execution_count": 57,
   "metadata": {},
   "outputs": [],
   "source": [
    "tsne_repr = tsne.fit_transform(StandardScaler().fit_transform(data))"
   ]
  },
  {
   "cell_type": "code",
   "execution_count": 58,
   "metadata": {},
   "outputs": [
    {
     "data": {
      "image/png": "[encoded data removed]",
      "text/plain": [
       "<Figure size 432x288 with 1 Axes>"
      ]
     },
     "metadata": {
      "needs_background": "light"
     },
     "output_type": "display_data"
    }
   ],
   "source": [
    "plt.scatter(tsne_repr[:, 0], tsne_repr[:, 1],\n",
    "            c = data['Emotion'].map({0: \"blue\", 1: \"brown\", 2: \"orange\", 3: \"green\", 4: \"red\",\n",
    "                                    5: \"purple\", 6: \"pink\", 7: \"grey\", 8: \"navy\"}), alpha=.5);"
   ]
  },
  {
   "cell_type": "markdown",
   "metadata": {},
   "source": [
    "###### Thought: Logistic Regression will not work judjing by the plot above. Also, do not expect Random Forest to work. "
   ]
  },
  {
   "cell_type": "markdown",
   "metadata": {},
   "source": [
    "# Checking by features"
   ]
  },
  {
   "cell_type": "markdown",
   "metadata": {},
   "source": [
    "### MFCC Mean"
   ]
  },
  {
   "cell_type": "code",
   "execution_count": 59,
   "metadata": {},
   "outputs": [],
   "source": [
    "df = data.copy()    ## creating new dataset object not to add changes to object \"data\" "
   ]
  },
  {
   "cell_type": "code",
   "execution_count": 60,
   "metadata": {},
   "outputs": [
    {
     "data": {
      "text/plain": [
       "array([ 24.16521645,  29.35872078,  29.72833061, ..., 130.87402344,\n",
       "       132.42202759, 135.8145752 ])"
      ]
     },
     "execution_count": 60,
     "metadata": {},
     "output_type": "execute_result"
    }
   ],
   "source": [
    "np.sort(df[\"MFCC Mean\"].unique())"
   ]
  },
  {
   "cell_type": "code",
   "execution_count": 61,
   "metadata": {},
   "outputs": [],
   "source": [
    "df.loc[df[\"MFCC Mean\"] < 30, \"MFCC Mean\"] = 29\n",
    "df.loc[df[\"MFCC Mean\"] >= 120, \"MFCC Mean\"] = 121"
   ]
  },
  {
   "cell_type": "code",
   "execution_count": 62,
   "metadata": {},
   "outputs": [],
   "source": [
    "for value in range(30, 120, 10):\n",
    "    df.loc[((df[\"MFCC Mean\"] >= value) & (df[\"MFCC Mean\"] < value + 10)), \"MFCC Mean\"] = value + 9"
   ]
  },
  {
   "cell_type": "code",
   "execution_count": 63,
   "metadata": {},
   "outputs": [
    {
     "data": {
      "text/html": [
       "<div>\n",
       "<style scoped>\n",
       "    .dataframe tbody tr th:only-of-type {\n",
       "        vertical-align: middle;\n",
       "    }\n",
       "\n",
       "    .dataframe tbody tr th {\n",
       "        vertical-align: top;\n",
       "    }\n",
       "\n",
       "    .dataframe thead th {\n",
       "        text-align: right;\n",
       "    }\n",
       "</style>\n",
       "<table border=\"1\" class=\"dataframe\">\n",
       "  <thead>\n",
       "    <tr style=\"text-align: right;\">\n",
       "      <th></th>\n",
       "      <th>Emotion</th>\n",
       "      <th>MFCC Mean</th>\n",
       "      <th>MFCC Standard deviation</th>\n",
       "      <th>Croma Mean</th>\n",
       "      <th>Chroma Standard deviation</th>\n",
       "      <th>MEL Mean</th>\n",
       "      <th>MEL Standard deviation</th>\n",
       "    </tr>\n",
       "  </thead>\n",
       "  <tbody>\n",
       "    <tr>\n",
       "      <th>0</th>\n",
       "      <td>0</td>\n",
       "      <td>119.0</td>\n",
       "      <td>-17.983574</td>\n",
       "      <td>0.272483</td>\n",
       "      <td>0.675760</td>\n",
       "      <td>0.040853</td>\n",
       "      <td>0.003970</td>\n",
       "    </tr>\n",
       "    <tr>\n",
       "      <th>1</th>\n",
       "      <td>0</td>\n",
       "      <td>119.0</td>\n",
       "      <td>-17.682295</td>\n",
       "      <td>0.218568</td>\n",
       "      <td>0.725722</td>\n",
       "      <td>0.047049</td>\n",
       "      <td>0.004594</td>\n",
       "    </tr>\n",
       "    <tr>\n",
       "      <th>2</th>\n",
       "      <td>0</td>\n",
       "      <td>119.0</td>\n",
       "      <td>-17.600674</td>\n",
       "      <td>0.208594</td>\n",
       "      <td>0.728253</td>\n",
       "      <td>0.063881</td>\n",
       "      <td>0.006346</td>\n",
       "    </tr>\n",
       "    <tr>\n",
       "      <th>3</th>\n",
       "      <td>0</td>\n",
       "      <td>119.0</td>\n",
       "      <td>-17.382687</td>\n",
       "      <td>0.193784</td>\n",
       "      <td>0.747211</td>\n",
       "      <td>0.061945</td>\n",
       "      <td>0.005832</td>\n",
       "    </tr>\n",
       "    <tr>\n",
       "      <th>4</th>\n",
       "      <td>1</td>\n",
       "      <td>119.0</td>\n",
       "      <td>-18.125637</td>\n",
       "      <td>0.227840</td>\n",
       "      <td>0.699711</td>\n",
       "      <td>0.023791</td>\n",
       "      <td>0.002190</td>\n",
       "    </tr>\n",
       "  </tbody>\n",
       "</table>\n",
       "</div>"
      ],
      "text/plain": [
       "   Emotion  MFCC Mean  MFCC Standard deviation  Croma Mean  \\\n",
       "0        0      119.0               -17.983574    0.272483   \n",
       "1        0      119.0               -17.682295    0.218568   \n",
       "2        0      119.0               -17.600674    0.208594   \n",
       "3        0      119.0               -17.382687    0.193784   \n",
       "4        1      119.0               -18.125637    0.227840   \n",
       "\n",
       "   Chroma Standard deviation  MEL Mean  MEL Standard deviation  \n",
       "0                   0.675760  0.040853                0.003970  \n",
       "1                   0.725722  0.047049                0.004594  \n",
       "2                   0.728253  0.063881                0.006346  \n",
       "3                   0.747211  0.061945                0.005832  \n",
       "4                   0.699711  0.023791                0.002190  "
      ]
     },
     "execution_count": 63,
     "metadata": {},
     "output_type": "execute_result"
    }
   ],
   "source": [
    "df.head()"
   ]
  },
  {
   "cell_type": "code",
   "execution_count": 64,
   "metadata": {},
   "outputs": [
    {
     "data": {
      "image/png": "[encoded data removed]",
      "text/plain": [
       "<Figure size 432x288 with 1 Axes>"
      ]
     },
     "metadata": {
      "needs_background": "light"
     },
     "output_type": "display_data"
    }
   ],
   "source": [
    "sns.countplot(df[\"MFCC Mean\"]);"
   ]
  },
  {
   "cell_type": "code",
   "execution_count": 65,
   "metadata": {},
   "outputs": [
    {
     "data": {
      "image/png": "[encoded data removed]",
      "text/plain": [
       "<Figure size 1080x576 with 1 Axes>"
      ]
     },
     "metadata": {
      "needs_background": "light"
     },
     "output_type": "display_data"
    }
   ],
   "source": [
    "plt.figure(figsize = (15, 8))\n",
    "sns.countplot(data = df, x = \"MFCC Mean\", hue = \"Emotion\");"
   ]
  },
  {
   "cell_type": "markdown",
   "metadata": {},
   "source": [
    "###### Nothing interesting"
   ]
  },
  {
   "cell_type": "markdown",
   "metadata": {},
   "source": [
    "# MFCC Standard deviation"
   ]
  },
  {
   "cell_type": "code",
   "execution_count": 66,
   "metadata": {},
   "outputs": [],
   "source": [
    "df.loc[df[\"MFCC Standard deviation\"] < -20, \"MFCC Standard deviation\"] = -21\n",
    "df.loc[df[\"MFCC Standard deviation\"] >= 0, \"MFCC Standard deviation\"] = 2\n",
    "for value in range(-20, 0, 2):\n",
    "    df.loc[((df[\"MFCC Standard deviation\"] >= value) & (df[\"MFCC Standard deviation\"] < value + 2)), \\\n",
    "               \"MFCC Standard deviation\"] = value + 1"
   ]
  },
  {
   "cell_type": "code",
   "execution_count": 67,
   "metadata": {},
   "outputs": [
    {
     "data": {
      "image/png": "[encoded data removed]",
      "text/plain": [
       "<Figure size 432x288 with 1 Axes>"
      ]
     },
     "metadata": {
      "needs_background": "light"
     },
     "output_type": "display_data"
    }
   ],
   "source": [
    "sns.countplot(df[\"MFCC Standard deviation\"]);"
   ]
  },
  {
   "cell_type": "code",
   "execution_count": 68,
   "metadata": {},
   "outputs": [
    {
     "data": {
      "image/png": "[encoded data removed]",
      "text/plain": [
       "<Figure size 1080x576 with 1 Axes>"
      ]
     },
     "metadata": {
      "needs_background": "light"
     },
     "output_type": "display_data"
    }
   ],
   "source": [
    "plt.figure(figsize = (15, 8))\n",
    "sns.countplot(data = df, x = \"MFCC Standard deviation\", hue = \"Emotion\");"
   ]
  },
  {
   "cell_type": "markdown",
   "metadata": {},
   "source": [
    "# Croma Mean"
   ]
  },
  {
   "cell_type": "code",
   "execution_count": 69,
   "metadata": {},
   "outputs": [
    {
     "data": {
      "text/plain": [
       "array([0.16710134, 0.17746711, 0.17976539, ..., 0.38109297, 0.38157585,\n",
       "       0.38363111])"
      ]
     },
     "execution_count": 69,
     "metadata": {},
     "output_type": "execute_result"
    }
   ],
   "source": [
    "np.sort(df[\"Croma Mean\"].unique())"
   ]
  },
  {
   "cell_type": "code",
   "execution_count": 70,
   "metadata": {},
   "outputs": [],
   "source": [
    "df.loc[df[\"Croma Mean\"] < 0.19, \"Croma Mean\"] = 0.18\n",
    "df.loc[df[\"Croma Mean\"] >= 0.35, \"Croma Mean\"] = 0.36\n",
    "value = -0.19\n",
    "while value < 0.36:\n",
    "    df.loc[((df[\"Croma Mean\"] >= value) & (df[\"Croma Mean\"] < value + 0.02)), \\\n",
    "               \"Croma Mean\"] = round(value + 0.01, 2)\n",
    "    value += 0.02"
   ]
  },
  {
   "cell_type": "code",
   "execution_count": 71,
   "metadata": {},
   "outputs": [
    {
     "data": {
      "text/plain": [
       "array([0.18, 0.2 , 0.22, 0.24, 0.26, 0.28, 0.3 , 0.32, 0.34, 0.36])"
      ]
     },
     "execution_count": 71,
     "metadata": {},
     "output_type": "execute_result"
    }
   ],
   "source": [
    "np.sort(df[\"Croma Mean\"].unique())"
   ]
  },
  {
   "cell_type": "code",
   "execution_count": 72,
   "metadata": {},
   "outputs": [
    {
     "data": {
      "text/plain": [
       "<matplotlib.axes._subplots.AxesSubplot at 0x29576dccb00>"
      ]
     },
     "execution_count": 72,
     "metadata": {},
     "output_type": "execute_result"
    },
    {
     "data": {
      "image/png": "[encoded data removed]",
      "text/plain": [
       "<Figure size 432x288 with 1 Axes>"
      ]
     },
     "metadata": {
      "needs_background": "light"
     },
     "output_type": "display_data"
    }
   ],
   "source": [
    "sns.countplot(df[\"Croma Mean\"])"
   ]
  },
  {
   "cell_type": "code",
   "execution_count": 73,
   "metadata": {},
   "outputs": [
    {
     "data": {
      "image/png": "[encoded data removed]",
      "text/plain": [
       "<Figure size 1080x576 with 1 Axes>"
      ]
     },
     "metadata": {
      "needs_background": "light"
     },
     "output_type": "display_data"
    }
   ],
   "source": [
    "plt.figure(figsize = (15, 8))\n",
    "sns.countplot(data = df, x = \"Croma Mean\", hue = \"Emotion\");"
   ]
  },
  {
   "cell_type": "code",
   "execution_count": null,
   "metadata": {},
   "outputs": [],
   "source": []
  },
  {
   "cell_type": "code",
   "execution_count": null,
   "metadata": {},
   "outputs": [],
   "source": []
  },
  {
   "cell_type": "code",
   "execution_count": null,
   "metadata": {},
   "outputs": [],
   "source": []
  }
 ],
 "metadata": {
  "kernelspec": {
   "display_name": "Python 3",
   "language": "python",
   "name": "python3"
  },
  "language_info": {
   "codemirror_mode": {
    "name": "ipython",
    "version": 3
   },
   "file_extension": ".py",
   "mimetype": "text/x-python",
   "name": "python",
   "nbconvert_exporter": "python",
   "pygments_lexer": "ipython3",
   "version": "3.6.5"
  }
 },
 "nbformat": 4,
 "nbformat_minor": 4
}

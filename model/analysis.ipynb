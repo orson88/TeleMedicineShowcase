{
 "cells": [
  {
   "cell_type": "markdown",
   "metadata": {},
   "source": [
    "# Reading Data"
   ]
  },
  {
   "cell_type": "code",
   "execution_count": 4,
   "metadata": {},
   "outputs": [],
   "source": [
    "import pandas as pd\n",
    "import numpy as np\n",
    "import seaborn as sns\n",
    "import matplotlib.pyplot as plt"
   ]
  },
  {
   "cell_type": "code",
   "execution_count": 5,
   "metadata": {},
   "outputs": [],
   "source": [
    "data = pd.read_csv(\"../data/Emotion_Data_v2.csv\")"
   ]
  },
  {
   "cell_type": "code",
   "execution_count": 6,
   "metadata": {},
   "outputs": [
    {
     "data": {
      "text/html": [
       "<div>\n",
       "<style scoped>\n",
       "    .dataframe tbody tr th:only-of-type {\n",
       "        vertical-align: middle;\n",
       "    }\n",
       "\n",
       "    .dataframe tbody tr th {\n",
       "        vertical-align: top;\n",
       "    }\n",
       "\n",
       "    .dataframe thead th {\n",
       "        text-align: right;\n",
       "    }\n",
       "</style>\n",
       "<table border=\"1\" class=\"dataframe\">\n",
       "  <thead>\n",
       "    <tr style=\"text-align: right;\">\n",
       "      <th></th>\n",
       "      <th>File Name</th>\n",
       "      <th>Emotion</th>\n",
       "      <th>Chroma Standard Deviation</th>\n",
       "      <th>Croma Mean</th>\n",
       "      <th>MEL Standard Deviation</th>\n",
       "      <th>MEL Mean</th>\n",
       "      <th>Spectral Centroid Feature</th>\n",
       "      <th>MFCC Standard Deviation</th>\n",
       "      <th>MFCC Mean</th>\n",
       "      <th>MFCC 1st Derivative</th>\n",
       "      <th>MFCC 2nd Derivative</th>\n",
       "      <th>Root Mean Square Mean</th>\n",
       "      <th>Spectral Rolloff Mean</th>\n",
       "      <th>Spectral Rolloff Range</th>\n",
       "      <th>Zero Crossing Rate</th>\n",
       "    </tr>\n",
       "  </thead>\n",
       "  <tbody>\n",
       "    <tr>\n",
       "      <th>0</th>\n",
       "      <td>03a01Fa.wav</td>\n",
       "      <td>happy</td>\n",
       "      <td>0.251560</td>\n",
       "      <td>0.611641</td>\n",
       "      <td>10.345727</td>\n",
       "      <td>1.482626</td>\n",
       "      <td>1851.787049</td>\n",
       "      <td>95.586288</td>\n",
       "      <td>-14.091299</td>\n",
       "      <td>0.045822</td>\n",
       "      <td>-0.102562</td>\n",
       "      <td>0.064489</td>\n",
       "      <td>327.987448</td>\n",
       "      <td>2691.650391</td>\n",
       "      <td>327.987448</td>\n",
       "    </tr>\n",
       "    <tr>\n",
       "      <th>1</th>\n",
       "      <td>03a01Nc.wav</td>\n",
       "      <td>neutral</td>\n",
       "      <td>0.235453</td>\n",
       "      <td>0.638080</td>\n",
       "      <td>23.354847</td>\n",
       "      <td>3.512083</td>\n",
       "      <td>1386.832519</td>\n",
       "      <td>96.253471</td>\n",
       "      <td>-9.005164</td>\n",
       "      <td>-0.040387</td>\n",
       "      <td>-0.095998</td>\n",
       "      <td>0.099006</td>\n",
       "      <td>277.470703</td>\n",
       "      <td>2777.783203</td>\n",
       "      <td>277.470703</td>\n",
       "    </tr>\n",
       "    <tr>\n",
       "      <th>2</th>\n",
       "      <td>03a01Wa.wav</td>\n",
       "      <td>angry</td>\n",
       "      <td>0.244518</td>\n",
       "      <td>0.609958</td>\n",
       "      <td>23.899830</td>\n",
       "      <td>3.042638</td>\n",
       "      <td>2138.843511</td>\n",
       "      <td>83.991272</td>\n",
       "      <td>-17.577866</td>\n",
       "      <td>0.127689</td>\n",
       "      <td>-0.089570</td>\n",
       "      <td>0.101291</td>\n",
       "      <td>481.971571</td>\n",
       "      <td>2670.117188</td>\n",
       "      <td>481.971571</td>\n",
       "    </tr>\n",
       "    <tr>\n",
       "      <th>3</th>\n",
       "      <td>03a02Fc.wav</td>\n",
       "      <td>happy</td>\n",
       "      <td>0.284806</td>\n",
       "      <td>0.528645</td>\n",
       "      <td>33.872307</td>\n",
       "      <td>3.438237</td>\n",
       "      <td>2073.102010</td>\n",
       "      <td>84.644112</td>\n",
       "      <td>-17.824776</td>\n",
       "      <td>-0.116098</td>\n",
       "      <td>-0.096451</td>\n",
       "      <td>0.098398</td>\n",
       "      <td>306.538759</td>\n",
       "      <td>2002.587891</td>\n",
       "      <td>306.538759</td>\n",
       "    </tr>\n",
       "    <tr>\n",
       "      <th>4</th>\n",
       "      <td>03a02Nc.wav</td>\n",
       "      <td>neutral</td>\n",
       "      <td>0.224481</td>\n",
       "      <td>0.658214</td>\n",
       "      <td>39.342068</td>\n",
       "      <td>5.511982</td>\n",
       "      <td>1481.499672</td>\n",
       "      <td>91.639870</td>\n",
       "      <td>-8.317816</td>\n",
       "      <td>-0.101314</td>\n",
       "      <td>-0.093935</td>\n",
       "      <td>0.126057</td>\n",
       "      <td>169.360352</td>\n",
       "      <td>1668.823242</td>\n",
       "      <td>169.360352</td>\n",
       "    </tr>\n",
       "  </tbody>\n",
       "</table>\n",
       "</div>"
      ],
      "text/plain": [
       "     File Name  Emotion  Chroma Standard Deviation  Croma Mean  \\\n",
       "0  03a01Fa.wav    happy                   0.251560    0.611641   \n",
       "1  03a01Nc.wav  neutral                   0.235453    0.638080   \n",
       "2  03a01Wa.wav    angry                   0.244518    0.609958   \n",
       "3  03a02Fc.wav    happy                   0.284806    0.528645   \n",
       "4  03a02Nc.wav  neutral                   0.224481    0.658214   \n",
       "\n",
       "   MEL Standard Deviation  MEL Mean  Spectral Centroid Feature  \\\n",
       "0               10.345727  1.482626                1851.787049   \n",
       "1               23.354847  3.512083                1386.832519   \n",
       "2               23.899830  3.042638                2138.843511   \n",
       "3               33.872307  3.438237                2073.102010   \n",
       "4               39.342068  5.511982                1481.499672   \n",
       "\n",
       "   MFCC Standard Deviation  MFCC Mean  MFCC 1st Derivative  \\\n",
       "0                95.586288 -14.091299             0.045822   \n",
       "1                96.253471  -9.005164            -0.040387   \n",
       "2                83.991272 -17.577866             0.127689   \n",
       "3                84.644112 -17.824776            -0.116098   \n",
       "4                91.639870  -8.317816            -0.101314   \n",
       "\n",
       "   MFCC 2nd Derivative  Root Mean Square Mean  Spectral Rolloff Mean  \\\n",
       "0            -0.102562               0.064489             327.987448   \n",
       "1            -0.095998               0.099006             277.470703   \n",
       "2            -0.089570               0.101291             481.971571   \n",
       "3            -0.096451               0.098398             306.538759   \n",
       "4            -0.093935               0.126057             169.360352   \n",
       "\n",
       "   Spectral Rolloff Range  Zero Crossing Rate  \n",
       "0             2691.650391          327.987448  \n",
       "1             2777.783203          277.470703  \n",
       "2             2670.117188          481.971571  \n",
       "3             2002.587891          306.538759  \n",
       "4             1668.823242          169.360352  "
      ]
     },
     "execution_count": 6,
     "metadata": {},
     "output_type": "execute_result"
    }
   ],
   "source": [
    "data.head()"
   ]
  },
  {
   "cell_type": "code",
   "execution_count": 7,
   "metadata": {},
   "outputs": [
    {
     "data": {
      "text/plain": [
       "array(['happy', 'neutral', 'angry', 'sad', 'fearful', 'boredom',\n",
       "       'disgust', 'surprised', 'calm'], dtype=object)"
      ]
     },
     "execution_count": 7,
     "metadata": {},
     "output_type": "execute_result"
    }
   ],
   "source": [
    "data[\"Emotion\"].unique()"
   ]
  },
  {
   "cell_type": "code",
   "execution_count": 8,
   "metadata": {},
   "outputs": [],
   "source": [
    "emotions = {'neutral': 0, \n",
    "            'calm': 1, \n",
    "            'happy': 2, \n",
    "            'sad': 3, \n",
    "            'angry': 4, \n",
    "            'fearful': 5, \n",
    "            'disgust': 6,\n",
    "            'surprised': 7, \n",
    "            'boredom': 8}"
   ]
  },
  {
   "cell_type": "code",
   "execution_count": 9,
   "metadata": {},
   "outputs": [],
   "source": [
    "data[\"Emotion\"] = data[\"Emotion\"].map(emotions)"
   ]
  },
  {
   "cell_type": "code",
   "execution_count": 10,
   "metadata": {},
   "outputs": [
    {
     "data": {
      "text/plain": [
       "(9896, 15)"
      ]
     },
     "execution_count": 10,
     "metadata": {},
     "output_type": "execute_result"
    }
   ],
   "source": [
    "data.shape"
   ]
  },
  {
   "cell_type": "code",
   "execution_count": 11,
   "metadata": {},
   "outputs": [
    {
     "data": {
      "text/plain": [
       "9536"
      ]
     },
     "execution_count": 11,
     "metadata": {},
     "output_type": "execute_result"
    }
   ],
   "source": [
    "data[\"File Name\"].nunique()"
   ]
  },
  {
   "cell_type": "code",
   "execution_count": 12,
   "metadata": {},
   "outputs": [
    {
     "data": {
      "text/html": [
       "<div>\n",
       "<style scoped>\n",
       "    .dataframe tbody tr th:only-of-type {\n",
       "        vertical-align: middle;\n",
       "    }\n",
       "\n",
       "    .dataframe tbody tr th {\n",
       "        vertical-align: top;\n",
       "    }\n",
       "\n",
       "    .dataframe thead th {\n",
       "        text-align: right;\n",
       "    }\n",
       "</style>\n",
       "<table border=\"1\" class=\"dataframe\">\n",
       "  <thead>\n",
       "    <tr style=\"text-align: right;\">\n",
       "      <th></th>\n",
       "      <th>Emotion</th>\n",
       "      <th>Chroma Standard Deviation</th>\n",
       "      <th>Croma Mean</th>\n",
       "      <th>MEL Standard Deviation</th>\n",
       "      <th>MEL Mean</th>\n",
       "      <th>Spectral Centroid Feature</th>\n",
       "      <th>MFCC Standard Deviation</th>\n",
       "      <th>MFCC Mean</th>\n",
       "      <th>MFCC 1st Derivative</th>\n",
       "      <th>MFCC 2nd Derivative</th>\n",
       "      <th>Root Mean Square Mean</th>\n",
       "      <th>Spectral Rolloff Mean</th>\n",
       "      <th>Spectral Rolloff Range</th>\n",
       "      <th>Zero Crossing Rate</th>\n",
       "    </tr>\n",
       "  </thead>\n",
       "  <tbody>\n",
       "    <tr>\n",
       "      <th>Emotion</th>\n",
       "      <td>1.000000</td>\n",
       "      <td>0.021453</td>\n",
       "      <td>0.012181</td>\n",
       "      <td>0.103198</td>\n",
       "      <td>0.100560</td>\n",
       "      <td>0.131744</td>\n",
       "      <td>-0.072018</td>\n",
       "      <td>-0.017096</td>\n",
       "      <td>0.004791</td>\n",
       "      <td>0.003421</td>\n",
       "      <td>0.100941</td>\n",
       "      <td>0.126229</td>\n",
       "      <td>0.088315</td>\n",
       "      <td>0.126229</td>\n",
       "    </tr>\n",
       "    <tr>\n",
       "      <th>Chroma Standard Deviation</th>\n",
       "      <td>0.021453</td>\n",
       "      <td>1.000000</td>\n",
       "      <td>-0.819273</td>\n",
       "      <td>0.275292</td>\n",
       "      <td>0.266917</td>\n",
       "      <td>0.283094</td>\n",
       "      <td>0.062497</td>\n",
       "      <td>-0.406594</td>\n",
       "      <td>0.045168</td>\n",
       "      <td>0.006965</td>\n",
       "      <td>0.316570</td>\n",
       "      <td>0.526660</td>\n",
       "      <td>0.452849</td>\n",
       "      <td>0.526660</td>\n",
       "    </tr>\n",
       "    <tr>\n",
       "      <th>Croma Mean</th>\n",
       "      <td>0.012181</td>\n",
       "      <td>-0.819273</td>\n",
       "      <td>1.000000</td>\n",
       "      <td>-0.333932</td>\n",
       "      <td>-0.338164</td>\n",
       "      <td>-0.032344</td>\n",
       "      <td>0.256078</td>\n",
       "      <td>0.034603</td>\n",
       "      <td>0.007929</td>\n",
       "      <td>0.082979</td>\n",
       "      <td>-0.443110</td>\n",
       "      <td>-0.374892</td>\n",
       "      <td>-0.190548</td>\n",
       "      <td>-0.374892</td>\n",
       "    </tr>\n",
       "    <tr>\n",
       "      <th>MEL Standard Deviation</th>\n",
       "      <td>0.103198</td>\n",
       "      <td>0.275292</td>\n",
       "      <td>-0.333932</td>\n",
       "      <td>1.000000</td>\n",
       "      <td>0.973223</td>\n",
       "      <td>0.001535</td>\n",
       "      <td>-0.449863</td>\n",
       "      <td>0.216521</td>\n",
       "      <td>-0.012135</td>\n",
       "      <td>-0.056472</td>\n",
       "      <td>0.870956</td>\n",
       "      <td>0.188455</td>\n",
       "      <td>0.101627</td>\n",
       "      <td>0.188455</td>\n",
       "    </tr>\n",
       "    <tr>\n",
       "      <th>MEL Mean</th>\n",
       "      <td>0.100560</td>\n",
       "      <td>0.266917</td>\n",
       "      <td>-0.338164</td>\n",
       "      <td>0.973223</td>\n",
       "      <td>1.000000</td>\n",
       "      <td>0.004851</td>\n",
       "      <td>-0.464696</td>\n",
       "      <td>0.232159</td>\n",
       "      <td>-0.013051</td>\n",
       "      <td>-0.094139</td>\n",
       "      <td>0.908774</td>\n",
       "      <td>0.203297</td>\n",
       "      <td>0.116477</td>\n",
       "      <td>0.203297</td>\n",
       "    </tr>\n",
       "    <tr>\n",
       "      <th>Spectral Centroid Feature</th>\n",
       "      <td>0.131744</td>\n",
       "      <td>0.283094</td>\n",
       "      <td>-0.032344</td>\n",
       "      <td>0.001535</td>\n",
       "      <td>0.004851</td>\n",
       "      <td>1.000000</td>\n",
       "      <td>0.226821</td>\n",
       "      <td>-0.582615</td>\n",
       "      <td>0.066024</td>\n",
       "      <td>-0.083214</td>\n",
       "      <td>0.012563</td>\n",
       "      <td>0.817013</td>\n",
       "      <td>0.668307</td>\n",
       "      <td>0.817013</td>\n",
       "    </tr>\n",
       "    <tr>\n",
       "      <th>MFCC Standard Deviation</th>\n",
       "      <td>-0.072018</td>\n",
       "      <td>0.062497</td>\n",
       "      <td>0.256078</td>\n",
       "      <td>-0.449863</td>\n",
       "      <td>-0.464696</td>\n",
       "      <td>0.226821</td>\n",
       "      <td>1.000000</td>\n",
       "      <td>-0.841660</td>\n",
       "      <td>0.120903</td>\n",
       "      <td>0.261556</td>\n",
       "      <td>-0.655978</td>\n",
       "      <td>0.000557</td>\n",
       "      <td>0.322855</td>\n",
       "      <td>0.000557</td>\n",
       "    </tr>\n",
       "    <tr>\n",
       "      <th>MFCC Mean</th>\n",
       "      <td>-0.017096</td>\n",
       "      <td>-0.406594</td>\n",
       "      <td>0.034603</td>\n",
       "      <td>0.216521</td>\n",
       "      <td>0.232159</td>\n",
       "      <td>-0.582615</td>\n",
       "      <td>-0.841660</td>\n",
       "      <td>1.000000</td>\n",
       "      <td>-0.120406</td>\n",
       "      <td>-0.178323</td>\n",
       "      <td>0.360984</td>\n",
       "      <td>-0.465769</td>\n",
       "      <td>-0.605462</td>\n",
       "      <td>-0.465769</td>\n",
       "    </tr>\n",
       "    <tr>\n",
       "      <th>MFCC 1st Derivative</th>\n",
       "      <td>0.004791</td>\n",
       "      <td>0.045168</td>\n",
       "      <td>0.007929</td>\n",
       "      <td>-0.012135</td>\n",
       "      <td>-0.013051</td>\n",
       "      <td>0.066024</td>\n",
       "      <td>0.120903</td>\n",
       "      <td>-0.120406</td>\n",
       "      <td>1.000000</td>\n",
       "      <td>-0.108884</td>\n",
       "      <td>-0.034966</td>\n",
       "      <td>0.038305</td>\n",
       "      <td>0.084803</td>\n",
       "      <td>0.038305</td>\n",
       "    </tr>\n",
       "    <tr>\n",
       "      <th>MFCC 2nd Derivative</th>\n",
       "      <td>0.003421</td>\n",
       "      <td>0.006965</td>\n",
       "      <td>0.082979</td>\n",
       "      <td>-0.056472</td>\n",
       "      <td>-0.094139</td>\n",
       "      <td>-0.083214</td>\n",
       "      <td>0.261556</td>\n",
       "      <td>-0.178323</td>\n",
       "      <td>-0.108884</td>\n",
       "      <td>1.000000</td>\n",
       "      <td>-0.210659</td>\n",
       "      <td>-0.152815</td>\n",
       "      <td>-0.083054</td>\n",
       "      <td>-0.152815</td>\n",
       "    </tr>\n",
       "    <tr>\n",
       "      <th>Root Mean Square Mean</th>\n",
       "      <td>0.100941</td>\n",
       "      <td>0.316570</td>\n",
       "      <td>-0.443110</td>\n",
       "      <td>0.870956</td>\n",
       "      <td>0.908774</td>\n",
       "      <td>0.012563</td>\n",
       "      <td>-0.655978</td>\n",
       "      <td>0.360984</td>\n",
       "      <td>-0.034966</td>\n",
       "      <td>-0.210659</td>\n",
       "      <td>1.000000</td>\n",
       "      <td>0.270685</td>\n",
       "      <td>0.115184</td>\n",
       "      <td>0.270685</td>\n",
       "    </tr>\n",
       "    <tr>\n",
       "      <th>Spectral Rolloff Mean</th>\n",
       "      <td>0.126229</td>\n",
       "      <td>0.526660</td>\n",
       "      <td>-0.374892</td>\n",
       "      <td>0.188455</td>\n",
       "      <td>0.203297</td>\n",
       "      <td>0.817013</td>\n",
       "      <td>0.000557</td>\n",
       "      <td>-0.465769</td>\n",
       "      <td>0.038305</td>\n",
       "      <td>-0.152815</td>\n",
       "      <td>0.270685</td>\n",
       "      <td>1.000000</td>\n",
       "      <td>0.727893</td>\n",
       "      <td>1.000000</td>\n",
       "    </tr>\n",
       "    <tr>\n",
       "      <th>Spectral Rolloff Range</th>\n",
       "      <td>0.088315</td>\n",
       "      <td>0.452849</td>\n",
       "      <td>-0.190548</td>\n",
       "      <td>0.101627</td>\n",
       "      <td>0.116477</td>\n",
       "      <td>0.668307</td>\n",
       "      <td>0.322855</td>\n",
       "      <td>-0.605462</td>\n",
       "      <td>0.084803</td>\n",
       "      <td>-0.083054</td>\n",
       "      <td>0.115184</td>\n",
       "      <td>0.727893</td>\n",
       "      <td>1.000000</td>\n",
       "      <td>0.727893</td>\n",
       "    </tr>\n",
       "    <tr>\n",
       "      <th>Zero Crossing Rate</th>\n",
       "      <td>0.126229</td>\n",
       "      <td>0.526660</td>\n",
       "      <td>-0.374892</td>\n",
       "      <td>0.188455</td>\n",
       "      <td>0.203297</td>\n",
       "      <td>0.817013</td>\n",
       "      <td>0.000557</td>\n",
       "      <td>-0.465769</td>\n",
       "      <td>0.038305</td>\n",
       "      <td>-0.152815</td>\n",
       "      <td>0.270685</td>\n",
       "      <td>1.000000</td>\n",
       "      <td>0.727893</td>\n",
       "      <td>1.000000</td>\n",
       "    </tr>\n",
       "  </tbody>\n",
       "</table>\n",
       "</div>"
      ],
      "text/plain": [
       "                            Emotion  Chroma Standard Deviation  Croma Mean  \\\n",
       "Emotion                    1.000000                   0.021453    0.012181   \n",
       "Chroma Standard Deviation  0.021453                   1.000000   -0.819273   \n",
       "Croma Mean                 0.012181                  -0.819273    1.000000   \n",
       "MEL Standard Deviation     0.103198                   0.275292   -0.333932   \n",
       "MEL Mean                   0.100560                   0.266917   -0.338164   \n",
       "Spectral Centroid Feature  0.131744                   0.283094   -0.032344   \n",
       "MFCC Standard Deviation   -0.072018                   0.062497    0.256078   \n",
       "MFCC Mean                 -0.017096                  -0.406594    0.034603   \n",
       "MFCC 1st Derivative        0.004791                   0.045168    0.007929   \n",
       "MFCC 2nd Derivative        0.003421                   0.006965    0.082979   \n",
       "Root Mean Square Mean      0.100941                   0.316570   -0.443110   \n",
       "Spectral Rolloff Mean      0.126229                   0.526660   -0.374892   \n",
       "Spectral Rolloff Range     0.088315                   0.452849   -0.190548   \n",
       "Zero Crossing Rate         0.126229                   0.526660   -0.374892   \n",
       "\n",
       "                           MEL Standard Deviation  MEL Mean  \\\n",
       "Emotion                                  0.103198  0.100560   \n",
       "Chroma Standard Deviation                0.275292  0.266917   \n",
       "Croma Mean                              -0.333932 -0.338164   \n",
       "MEL Standard Deviation                   1.000000  0.973223   \n",
       "MEL Mean                                 0.973223  1.000000   \n",
       "Spectral Centroid Feature                0.001535  0.004851   \n",
       "MFCC Standard Deviation                 -0.449863 -0.464696   \n",
       "MFCC Mean                                0.216521  0.232159   \n",
       "MFCC 1st Derivative                     -0.012135 -0.013051   \n",
       "MFCC 2nd Derivative                     -0.056472 -0.094139   \n",
       "Root Mean Square Mean                    0.870956  0.908774   \n",
       "Spectral Rolloff Mean                    0.188455  0.203297   \n",
       "Spectral Rolloff Range                   0.101627  0.116477   \n",
       "Zero Crossing Rate                       0.188455  0.203297   \n",
       "\n",
       "                           Spectral Centroid Feature  MFCC Standard Deviation  \\\n",
       "Emotion                                     0.131744                -0.072018   \n",
       "Chroma Standard Deviation                   0.283094                 0.062497   \n",
       "Croma Mean                                 -0.032344                 0.256078   \n",
       "MEL Standard Deviation                      0.001535                -0.449863   \n",
       "MEL Mean                                    0.004851                -0.464696   \n",
       "Spectral Centroid Feature                   1.000000                 0.226821   \n",
       "MFCC Standard Deviation                     0.226821                 1.000000   \n",
       "MFCC Mean                                  -0.582615                -0.841660   \n",
       "MFCC 1st Derivative                         0.066024                 0.120903   \n",
       "MFCC 2nd Derivative                        -0.083214                 0.261556   \n",
       "Root Mean Square Mean                       0.012563                -0.655978   \n",
       "Spectral Rolloff Mean                       0.817013                 0.000557   \n",
       "Spectral Rolloff Range                      0.668307                 0.322855   \n",
       "Zero Crossing Rate                          0.817013                 0.000557   \n",
       "\n",
       "                           MFCC Mean  MFCC 1st Derivative  \\\n",
       "Emotion                    -0.017096             0.004791   \n",
       "Chroma Standard Deviation  -0.406594             0.045168   \n",
       "Croma Mean                  0.034603             0.007929   \n",
       "MEL Standard Deviation      0.216521            -0.012135   \n",
       "MEL Mean                    0.232159            -0.013051   \n",
       "Spectral Centroid Feature  -0.582615             0.066024   \n",
       "MFCC Standard Deviation    -0.841660             0.120903   \n",
       "MFCC Mean                   1.000000            -0.120406   \n",
       "MFCC 1st Derivative        -0.120406             1.000000   \n",
       "MFCC 2nd Derivative        -0.178323            -0.108884   \n",
       "Root Mean Square Mean       0.360984            -0.034966   \n",
       "Spectral Rolloff Mean      -0.465769             0.038305   \n",
       "Spectral Rolloff Range     -0.605462             0.084803   \n",
       "Zero Crossing Rate         -0.465769             0.038305   \n",
       "\n",
       "                           MFCC 2nd Derivative  Root Mean Square Mean  \\\n",
       "Emotion                               0.003421               0.100941   \n",
       "Chroma Standard Deviation             0.006965               0.316570   \n",
       "Croma Mean                            0.082979              -0.443110   \n",
       "MEL Standard Deviation               -0.056472               0.870956   \n",
       "MEL Mean                             -0.094139               0.908774   \n",
       "Spectral Centroid Feature            -0.083214               0.012563   \n",
       "MFCC Standard Deviation               0.261556              -0.655978   \n",
       "MFCC Mean                            -0.178323               0.360984   \n",
       "MFCC 1st Derivative                  -0.108884              -0.034966   \n",
       "MFCC 2nd Derivative                   1.000000              -0.210659   \n",
       "Root Mean Square Mean                -0.210659               1.000000   \n",
       "Spectral Rolloff Mean                -0.152815               0.270685   \n",
       "Spectral Rolloff Range               -0.083054               0.115184   \n",
       "Zero Crossing Rate                   -0.152815               0.270685   \n",
       "\n",
       "                           Spectral Rolloff Mean  Spectral Rolloff Range  \\\n",
       "Emotion                                 0.126229                0.088315   \n",
       "Chroma Standard Deviation               0.526660                0.452849   \n",
       "Croma Mean                             -0.374892               -0.190548   \n",
       "MEL Standard Deviation                  0.188455                0.101627   \n",
       "MEL Mean                                0.203297                0.116477   \n",
       "Spectral Centroid Feature               0.817013                0.668307   \n",
       "MFCC Standard Deviation                 0.000557                0.322855   \n",
       "MFCC Mean                              -0.465769               -0.605462   \n",
       "MFCC 1st Derivative                     0.038305                0.084803   \n",
       "MFCC 2nd Derivative                    -0.152815               -0.083054   \n",
       "Root Mean Square Mean                   0.270685                0.115184   \n",
       "Spectral Rolloff Mean                   1.000000                0.727893   \n",
       "Spectral Rolloff Range                  0.727893                1.000000   \n",
       "Zero Crossing Rate                      1.000000                0.727893   \n",
       "\n",
       "                           Zero Crossing Rate  \n",
       "Emotion                              0.126229  \n",
       "Chroma Standard Deviation            0.526660  \n",
       "Croma Mean                          -0.374892  \n",
       "MEL Standard Deviation               0.188455  \n",
       "MEL Mean                             0.203297  \n",
       "Spectral Centroid Feature            0.817013  \n",
       "MFCC Standard Deviation              0.000557  \n",
       "MFCC Mean                           -0.465769  \n",
       "MFCC 1st Derivative                  0.038305  \n",
       "MFCC 2nd Derivative                 -0.152815  \n",
       "Root Mean Square Mean                0.270685  \n",
       "Spectral Rolloff Mean                1.000000  \n",
       "Spectral Rolloff Range               0.727893  \n",
       "Zero Crossing Rate                   1.000000  "
      ]
     },
     "execution_count": 12,
     "metadata": {},
     "output_type": "execute_result"
    }
   ],
   "source": [
    "data.corr()"
   ]
  },
  {
   "cell_type": "code",
   "execution_count": 13,
   "metadata": {},
   "outputs": [
    {
     "data": {
      "image/png": "[encoded data removed]",
      "text/plain": [
       "<Figure size 432x288 with 2 Axes>"
      ]
     },
     "metadata": {
      "needs_background": "light"
     },
     "output_type": "display_data"
    }
   ],
   "source": [
    "sns.heatmap(data.corr());"
   ]
  },
  {
   "cell_type": "code",
   "execution_count": 14,
   "metadata": {},
   "outputs": [
    {
     "data": {
      "text/html": [
       "<div>\n",
       "<style scoped>\n",
       "    .dataframe tbody tr th:only-of-type {\n",
       "        vertical-align: middle;\n",
       "    }\n",
       "\n",
       "    .dataframe tbody tr th {\n",
       "        vertical-align: top;\n",
       "    }\n",
       "\n",
       "    .dataframe thead th {\n",
       "        text-align: right;\n",
       "    }\n",
       "</style>\n",
       "<table border=\"1\" class=\"dataframe\">\n",
       "  <thead>\n",
       "    <tr style=\"text-align: right;\">\n",
       "      <th></th>\n",
       "      <th>Emotion</th>\n",
       "      <th>Chroma Standard Deviation</th>\n",
       "      <th>Croma Mean</th>\n",
       "      <th>MEL Standard Deviation</th>\n",
       "      <th>MEL Mean</th>\n",
       "      <th>Spectral Centroid Feature</th>\n",
       "      <th>MFCC Standard Deviation</th>\n",
       "      <th>MFCC Mean</th>\n",
       "      <th>MFCC 1st Derivative</th>\n",
       "      <th>MFCC 2nd Derivative</th>\n",
       "      <th>Root Mean Square Mean</th>\n",
       "      <th>Spectral Rolloff Mean</th>\n",
       "      <th>Spectral Rolloff Range</th>\n",
       "      <th>Zero Crossing Rate</th>\n",
       "    </tr>\n",
       "  </thead>\n",
       "  <tbody>\n",
       "    <tr>\n",
       "      <th>0</th>\n",
       "      <td>2</td>\n",
       "      <td>0.251560</td>\n",
       "      <td>0.611641</td>\n",
       "      <td>10.345727</td>\n",
       "      <td>1.482626</td>\n",
       "      <td>1851.787049</td>\n",
       "      <td>95.586288</td>\n",
       "      <td>-14.091299</td>\n",
       "      <td>0.045822</td>\n",
       "      <td>-0.102562</td>\n",
       "      <td>0.064489</td>\n",
       "      <td>327.987448</td>\n",
       "      <td>2691.650391</td>\n",
       "      <td>327.987448</td>\n",
       "    </tr>\n",
       "    <tr>\n",
       "      <th>1</th>\n",
       "      <td>0</td>\n",
       "      <td>0.235453</td>\n",
       "      <td>0.638080</td>\n",
       "      <td>23.354847</td>\n",
       "      <td>3.512083</td>\n",
       "      <td>1386.832519</td>\n",
       "      <td>96.253471</td>\n",
       "      <td>-9.005164</td>\n",
       "      <td>-0.040387</td>\n",
       "      <td>-0.095998</td>\n",
       "      <td>0.099006</td>\n",
       "      <td>277.470703</td>\n",
       "      <td>2777.783203</td>\n",
       "      <td>277.470703</td>\n",
       "    </tr>\n",
       "    <tr>\n",
       "      <th>2</th>\n",
       "      <td>4</td>\n",
       "      <td>0.244518</td>\n",
       "      <td>0.609958</td>\n",
       "      <td>23.899830</td>\n",
       "      <td>3.042638</td>\n",
       "      <td>2138.843511</td>\n",
       "      <td>83.991272</td>\n",
       "      <td>-17.577866</td>\n",
       "      <td>0.127689</td>\n",
       "      <td>-0.089570</td>\n",
       "      <td>0.101291</td>\n",
       "      <td>481.971571</td>\n",
       "      <td>2670.117188</td>\n",
       "      <td>481.971571</td>\n",
       "    </tr>\n",
       "    <tr>\n",
       "      <th>3</th>\n",
       "      <td>2</td>\n",
       "      <td>0.284806</td>\n",
       "      <td>0.528645</td>\n",
       "      <td>33.872307</td>\n",
       "      <td>3.438237</td>\n",
       "      <td>2073.102010</td>\n",
       "      <td>84.644112</td>\n",
       "      <td>-17.824776</td>\n",
       "      <td>-0.116098</td>\n",
       "      <td>-0.096451</td>\n",
       "      <td>0.098398</td>\n",
       "      <td>306.538759</td>\n",
       "      <td>2002.587891</td>\n",
       "      <td>306.538759</td>\n",
       "    </tr>\n",
       "    <tr>\n",
       "      <th>4</th>\n",
       "      <td>0</td>\n",
       "      <td>0.224481</td>\n",
       "      <td>0.658214</td>\n",
       "      <td>39.342068</td>\n",
       "      <td>5.511982</td>\n",
       "      <td>1481.499672</td>\n",
       "      <td>91.639870</td>\n",
       "      <td>-8.317816</td>\n",
       "      <td>-0.101314</td>\n",
       "      <td>-0.093935</td>\n",
       "      <td>0.126057</td>\n",
       "      <td>169.360352</td>\n",
       "      <td>1668.823242</td>\n",
       "      <td>169.360352</td>\n",
       "    </tr>\n",
       "    <tr>\n",
       "      <th>...</th>\n",
       "      <td>...</td>\n",
       "      <td>...</td>\n",
       "      <td>...</td>\n",
       "      <td>...</td>\n",
       "      <td>...</td>\n",
       "      <td>...</td>\n",
       "      <td>...</td>\n",
       "      <td>...</td>\n",
       "      <td>...</td>\n",
       "      <td>...</td>\n",
       "      <td>...</td>\n",
       "      <td>...</td>\n",
       "      <td>...</td>\n",
       "      <td>...</td>\n",
       "    </tr>\n",
       "    <tr>\n",
       "      <th>9891</th>\n",
       "      <td>7</td>\n",
       "      <td>0.332678</td>\n",
       "      <td>0.575813</td>\n",
       "      <td>0.364735</td>\n",
       "      <td>0.036160</td>\n",
       "      <td>2347.294889</td>\n",
       "      <td>167.522430</td>\n",
       "      <td>-51.517506</td>\n",
       "      <td>0.000119</td>\n",
       "      <td>-0.000630</td>\n",
       "      <td>0.007563</td>\n",
       "      <td>457.910156</td>\n",
       "      <td>4188.208008</td>\n",
       "      <td>457.910156</td>\n",
       "    </tr>\n",
       "    <tr>\n",
       "      <th>9892</th>\n",
       "      <td>7</td>\n",
       "      <td>0.325352</td>\n",
       "      <td>0.600506</td>\n",
       "      <td>0.889120</td>\n",
       "      <td>0.086041</td>\n",
       "      <td>2271.545838</td>\n",
       "      <td>156.242050</td>\n",
       "      <td>-45.163898</td>\n",
       "      <td>-0.000215</td>\n",
       "      <td>-0.000014</td>\n",
       "      <td>0.011557</td>\n",
       "      <td>429.840734</td>\n",
       "      <td>1733.422852</td>\n",
       "      <td>429.840734</td>\n",
       "    </tr>\n",
       "    <tr>\n",
       "      <th>9893</th>\n",
       "      <td>7</td>\n",
       "      <td>0.336933</td>\n",
       "      <td>0.577079</td>\n",
       "      <td>0.594145</td>\n",
       "      <td>0.058880</td>\n",
       "      <td>2275.967828</td>\n",
       "      <td>158.319168</td>\n",
       "      <td>-46.462028</td>\n",
       "      <td>-0.000471</td>\n",
       "      <td>-0.000133</td>\n",
       "      <td>0.009970</td>\n",
       "      <td>430.476273</td>\n",
       "      <td>1485.791016</td>\n",
       "      <td>430.476273</td>\n",
       "    </tr>\n",
       "    <tr>\n",
       "      <th>9894</th>\n",
       "      <td>7</td>\n",
       "      <td>0.310050</td>\n",
       "      <td>0.576939</td>\n",
       "      <td>0.937817</td>\n",
       "      <td>0.086885</td>\n",
       "      <td>2393.131729</td>\n",
       "      <td>147.918533</td>\n",
       "      <td>-40.915497</td>\n",
       "      <td>-0.001676</td>\n",
       "      <td>0.001688</td>\n",
       "      <td>0.013326</td>\n",
       "      <td>592.366229</td>\n",
       "      <td>6018.530273</td>\n",
       "      <td>592.366229</td>\n",
       "    </tr>\n",
       "    <tr>\n",
       "      <th>9895</th>\n",
       "      <td>7</td>\n",
       "      <td>0.304573</td>\n",
       "      <td>0.619620</td>\n",
       "      <td>1.017265</td>\n",
       "      <td>0.092349</td>\n",
       "      <td>2265.838255</td>\n",
       "      <td>152.754059</td>\n",
       "      <td>-42.369694</td>\n",
       "      <td>0.037825</td>\n",
       "      <td>0.002416</td>\n",
       "      <td>0.012323</td>\n",
       "      <td>501.984226</td>\n",
       "      <td>4403.540039</td>\n",
       "      <td>501.984226</td>\n",
       "    </tr>\n",
       "  </tbody>\n",
       "</table>\n",
       "<p>9896 rows × 14 columns</p>\n",
       "</div>"
      ],
      "text/plain": [
       "      Emotion  Chroma Standard Deviation  Croma Mean  MEL Standard Deviation  \\\n",
       "0           2                   0.251560    0.611641               10.345727   \n",
       "1           0                   0.235453    0.638080               23.354847   \n",
       "2           4                   0.244518    0.609958               23.899830   \n",
       "3           2                   0.284806    0.528645               33.872307   \n",
       "4           0                   0.224481    0.658214               39.342068   \n",
       "...       ...                        ...         ...                     ...   \n",
       "9891        7                   0.332678    0.575813                0.364735   \n",
       "9892        7                   0.325352    0.600506                0.889120   \n",
       "9893        7                   0.336933    0.577079                0.594145   \n",
       "9894        7                   0.310050    0.576939                0.937817   \n",
       "9895        7                   0.304573    0.619620                1.017265   \n",
       "\n",
       "      MEL Mean  Spectral Centroid Feature  MFCC Standard Deviation  MFCC Mean  \\\n",
       "0     1.482626                1851.787049                95.586288 -14.091299   \n",
       "1     3.512083                1386.832519                96.253471  -9.005164   \n",
       "2     3.042638                2138.843511                83.991272 -17.577866   \n",
       "3     3.438237                2073.102010                84.644112 -17.824776   \n",
       "4     5.511982                1481.499672                91.639870  -8.317816   \n",
       "...        ...                        ...                      ...        ...   \n",
       "9891  0.036160                2347.294889               167.522430 -51.517506   \n",
       "9892  0.086041                2271.545838               156.242050 -45.163898   \n",
       "9893  0.058880                2275.967828               158.319168 -46.462028   \n",
       "9894  0.086885                2393.131729               147.918533 -40.915497   \n",
       "9895  0.092349                2265.838255               152.754059 -42.369694   \n",
       "\n",
       "      MFCC 1st Derivative  MFCC 2nd Derivative  Root Mean Square Mean  \\\n",
       "0                0.045822            -0.102562               0.064489   \n",
       "1               -0.040387            -0.095998               0.099006   \n",
       "2                0.127689            -0.089570               0.101291   \n",
       "3               -0.116098            -0.096451               0.098398   \n",
       "4               -0.101314            -0.093935               0.126057   \n",
       "...                   ...                  ...                    ...   \n",
       "9891             0.000119            -0.000630               0.007563   \n",
       "9892            -0.000215            -0.000014               0.011557   \n",
       "9893            -0.000471            -0.000133               0.009970   \n",
       "9894            -0.001676             0.001688               0.013326   \n",
       "9895             0.037825             0.002416               0.012323   \n",
       "\n",
       "      Spectral Rolloff Mean  Spectral Rolloff Range  Zero Crossing Rate  \n",
       "0                327.987448             2691.650391          327.987448  \n",
       "1                277.470703             2777.783203          277.470703  \n",
       "2                481.971571             2670.117188          481.971571  \n",
       "3                306.538759             2002.587891          306.538759  \n",
       "4                169.360352             1668.823242          169.360352  \n",
       "...                     ...                     ...                 ...  \n",
       "9891             457.910156             4188.208008          457.910156  \n",
       "9892             429.840734             1733.422852          429.840734  \n",
       "9893             430.476273             1485.791016          430.476273  \n",
       "9894             592.366229             6018.530273          592.366229  \n",
       "9895             501.984226             4403.540039          501.984226  \n",
       "\n",
       "[9896 rows x 14 columns]"
      ]
     },
     "execution_count": 14,
     "metadata": {},
     "output_type": "execute_result"
    }
   ],
   "source": [
    "names = data[\"File Name\"]\n",
    "data = data.drop(\"File Name\", axis = 1)\n",
    "data"
   ]
  },
  {
   "cell_type": "markdown",
   "metadata": {},
   "source": [
    "# TSNE"
   ]
  },
  {
   "cell_type": "code",
   "execution_count": 16,
   "metadata": {},
   "outputs": [],
   "source": [
    "from sklearn.manifold import TSNE\n",
    "from sklearn.preprocessing import StandardScaler\n",
    "tsne = TSNE(n_components = 2, random_state = 11)"
   ]
  },
  {
   "cell_type": "code",
   "execution_count": 17,
   "metadata": {},
   "outputs": [],
   "source": [
    "tsne_repr = tsne.fit_transform(StandardScaler().fit_transform(data))"
   ]
  },
  {
   "cell_type": "code",
   "execution_count": 20,
   "metadata": {},
   "outputs": [
    {
     "data": {
      "image/png": "[encoded data removed]",
      "text/plain": [
       "<Figure size 432x288 with 1 Axes>"
      ]
     },
     "metadata": {
      "needs_background": "light"
     },
     "output_type": "display_data"
    }
   ],
   "source": [
    "plt.scatter(tsne_repr[:, 0], tsne_repr[:, 1],\n",
    "            c = data['Emotion'].map({0: \"blue\", 1: \"brown\", 2: \"orange\", 3: \"green\", 4: \"red\",\n",
    "                                    5: \"purple\", 6: \"pink\", 7: \"grey\", 8: \"navy\"}), alpha=.5);"
   ]
  },
  {
   "cell_type": "code",
   "execution_count": null,
   "metadata": {
    "scrolled": true
   },
   "outputs": [],
   "source": [
    "# data[data.columns[1:]].plot(kind='density', subplots=True, layout=(1, 2), \n",
    "#                   sharex=False, figsize=(10, 4));\n",
    "\n",
    "%config InlineBackend.figure_format = 'png'\n",
    "sns.pairplot(data[data.columns[1:]]);"
   ]
  },
  {
   "cell_type": "markdown",
   "metadata": {},
   "source": [
    "# Checking by features"
   ]
  },
  {
   "cell_type": "markdown",
   "metadata": {},
   "source": [
    "### MFCC Mean"
   ]
  },
  {
   "cell_type": "code",
   "execution_count": 24,
   "metadata": {},
   "outputs": [],
   "source": [
    "df = data.copy()    ## creating new dataset object not to add changes to object \"data\" "
   ]
  },
  {
   "cell_type": "code",
   "execution_count": 25,
   "metadata": {},
   "outputs": [
    {
     "data": {
      "text/plain": [
       "array([-87.02853394, -66.25965118, -63.5885849 , ...,   0.78949761,\n",
       "         0.79381734,   1.29838526])"
      ]
     },
     "execution_count": 25,
     "metadata": {},
     "output_type": "execute_result"
    }
   ],
   "source": [
    "np.sort(df[\"MFCC Mean\"].unique())"
   ]
  },
  {
   "cell_type": "code",
   "execution_count": 26,
   "metadata": {},
   "outputs": [],
   "source": [
    "df.loc[df[\"MFCC Mean\"] < -80, \"MFCC Mean\"] = -81\n",
    "df.loc[df[\"MFCC Mean\"] >= 0, \"MFCC Mean\"] = 1"
   ]
  },
  {
   "cell_type": "code",
   "execution_count": 27,
   "metadata": {},
   "outputs": [],
   "source": [
    "for value in range(-80, 0, 5):\n",
    "    df.loc[((df[\"MFCC Mean\"] >= value) & (df[\"MFCC Mean\"] < value + 5)), \"MFCC Mean\"] = value + 2.5"
   ]
  },
  {
   "cell_type": "code",
   "execution_count": 28,
   "metadata": {},
   "outputs": [
    {
     "data": {
      "text/html": [
       "<div>\n",
       "<style scoped>\n",
       "    .dataframe tbody tr th:only-of-type {\n",
       "        vertical-align: middle;\n",
       "    }\n",
       "\n",
       "    .dataframe tbody tr th {\n",
       "        vertical-align: top;\n",
       "    }\n",
       "\n",
       "    .dataframe thead th {\n",
       "        text-align: right;\n",
       "    }\n",
       "</style>\n",
       "<table border=\"1\" class=\"dataframe\">\n",
       "  <thead>\n",
       "    <tr style=\"text-align: right;\">\n",
       "      <th></th>\n",
       "      <th>Emotion</th>\n",
       "      <th>Chroma Standard Deviation</th>\n",
       "      <th>Croma Mean</th>\n",
       "      <th>MEL Standard Deviation</th>\n",
       "      <th>MEL Mean</th>\n",
       "      <th>Spectral Centroid Feature</th>\n",
       "      <th>MFCC Standard Deviation</th>\n",
       "      <th>MFCC Mean</th>\n",
       "      <th>MFCC 1st Derivative</th>\n",
       "      <th>MFCC 2nd Derivative</th>\n",
       "      <th>Root Mean Square Mean</th>\n",
       "      <th>Spectral Rolloff Mean</th>\n",
       "      <th>Spectral Rolloff Range</th>\n",
       "      <th>Zero Crossing Rate</th>\n",
       "    </tr>\n",
       "  </thead>\n",
       "  <tbody>\n",
       "    <tr>\n",
       "      <th>0</th>\n",
       "      <td>2</td>\n",
       "      <td>0.251560</td>\n",
       "      <td>0.611641</td>\n",
       "      <td>10.345727</td>\n",
       "      <td>1.482626</td>\n",
       "      <td>1851.787049</td>\n",
       "      <td>95.586288</td>\n",
       "      <td>-12.5</td>\n",
       "      <td>0.045822</td>\n",
       "      <td>-0.102562</td>\n",
       "      <td>0.064489</td>\n",
       "      <td>327.987448</td>\n",
       "      <td>2691.650391</td>\n",
       "      <td>327.987448</td>\n",
       "    </tr>\n",
       "    <tr>\n",
       "      <th>1</th>\n",
       "      <td>0</td>\n",
       "      <td>0.235453</td>\n",
       "      <td>0.638080</td>\n",
       "      <td>23.354847</td>\n",
       "      <td>3.512083</td>\n",
       "      <td>1386.832519</td>\n",
       "      <td>96.253471</td>\n",
       "      <td>-7.5</td>\n",
       "      <td>-0.040387</td>\n",
       "      <td>-0.095998</td>\n",
       "      <td>0.099006</td>\n",
       "      <td>277.470703</td>\n",
       "      <td>2777.783203</td>\n",
       "      <td>277.470703</td>\n",
       "    </tr>\n",
       "    <tr>\n",
       "      <th>2</th>\n",
       "      <td>4</td>\n",
       "      <td>0.244518</td>\n",
       "      <td>0.609958</td>\n",
       "      <td>23.899830</td>\n",
       "      <td>3.042638</td>\n",
       "      <td>2138.843511</td>\n",
       "      <td>83.991272</td>\n",
       "      <td>-17.5</td>\n",
       "      <td>0.127689</td>\n",
       "      <td>-0.089570</td>\n",
       "      <td>0.101291</td>\n",
       "      <td>481.971571</td>\n",
       "      <td>2670.117188</td>\n",
       "      <td>481.971571</td>\n",
       "    </tr>\n",
       "    <tr>\n",
       "      <th>3</th>\n",
       "      <td>2</td>\n",
       "      <td>0.284806</td>\n",
       "      <td>0.528645</td>\n",
       "      <td>33.872307</td>\n",
       "      <td>3.438237</td>\n",
       "      <td>2073.102010</td>\n",
       "      <td>84.644112</td>\n",
       "      <td>-17.5</td>\n",
       "      <td>-0.116098</td>\n",
       "      <td>-0.096451</td>\n",
       "      <td>0.098398</td>\n",
       "      <td>306.538759</td>\n",
       "      <td>2002.587891</td>\n",
       "      <td>306.538759</td>\n",
       "    </tr>\n",
       "    <tr>\n",
       "      <th>4</th>\n",
       "      <td>0</td>\n",
       "      <td>0.224481</td>\n",
       "      <td>0.658214</td>\n",
       "      <td>39.342068</td>\n",
       "      <td>5.511982</td>\n",
       "      <td>1481.499672</td>\n",
       "      <td>91.639870</td>\n",
       "      <td>-7.5</td>\n",
       "      <td>-0.101314</td>\n",
       "      <td>-0.093935</td>\n",
       "      <td>0.126057</td>\n",
       "      <td>169.360352</td>\n",
       "      <td>1668.823242</td>\n",
       "      <td>169.360352</td>\n",
       "    </tr>\n",
       "  </tbody>\n",
       "</table>\n",
       "</div>"
      ],
      "text/plain": [
       "   Emotion  Chroma Standard Deviation  Croma Mean  MEL Standard Deviation  \\\n",
       "0        2                   0.251560    0.611641               10.345727   \n",
       "1        0                   0.235453    0.638080               23.354847   \n",
       "2        4                   0.244518    0.609958               23.899830   \n",
       "3        2                   0.284806    0.528645               33.872307   \n",
       "4        0                   0.224481    0.658214               39.342068   \n",
       "\n",
       "   MEL Mean  Spectral Centroid Feature  MFCC Standard Deviation  MFCC Mean  \\\n",
       "0  1.482626                1851.787049                95.586288      -12.5   \n",
       "1  3.512083                1386.832519                96.253471       -7.5   \n",
       "2  3.042638                2138.843511                83.991272      -17.5   \n",
       "3  3.438237                2073.102010                84.644112      -17.5   \n",
       "4  5.511982                1481.499672                91.639870       -7.5   \n",
       "\n",
       "   MFCC 1st Derivative  MFCC 2nd Derivative  Root Mean Square Mean  \\\n",
       "0             0.045822            -0.102562               0.064489   \n",
       "1            -0.040387            -0.095998               0.099006   \n",
       "2             0.127689            -0.089570               0.101291   \n",
       "3            -0.116098            -0.096451               0.098398   \n",
       "4            -0.101314            -0.093935               0.126057   \n",
       "\n",
       "   Spectral Rolloff Mean  Spectral Rolloff Range  Zero Crossing Rate  \n",
       "0             327.987448             2691.650391          327.987448  \n",
       "1             277.470703             2777.783203          277.470703  \n",
       "2             481.971571             2670.117188          481.971571  \n",
       "3             306.538759             2002.587891          306.538759  \n",
       "4             169.360352             1668.823242          169.360352  "
      ]
     },
     "execution_count": 28,
     "metadata": {},
     "output_type": "execute_result"
    }
   ],
   "source": [
    "df.head()"
   ]
  },
  {
   "cell_type": "code",
   "execution_count": 29,
   "metadata": {},
   "outputs": [
    {
     "data": {
      "image/png": "[encoded data removed]",
      "text/plain": [
       "<Figure size 432x288 with 1 Axes>"
      ]
     },
     "metadata": {
      "needs_background": "light"
     },
     "output_type": "display_data"
    }
   ],
   "source": [
    "sns.countplot(df[\"MFCC Mean\"]);"
   ]
  },
  {
   "cell_type": "code",
   "execution_count": 30,
   "metadata": {
    "scrolled": false
   },
   "outputs": [
    {
     "data": {
      "image/png": "[encoded data removed]",
      "text/plain": [
       "<Figure size 1080x576 with 1 Axes>"
      ]
     },
     "metadata": {
      "needs_background": "light"
     },
     "output_type": "display_data"
    }
   ],
   "source": [
    "plt.figure(figsize = (15, 8))\n",
    "sns.countplot(data = df, x = \"MFCC Mean\", hue = \"Emotion\");"
   ]
  },
  {
   "cell_type": "markdown",
   "metadata": {},
   "source": [
    "# MFCC Standard deviation"
   ]
  },
  {
   "cell_type": "code",
   "execution_count": 31,
   "metadata": {},
   "outputs": [],
   "source": [
    "df = data.copy()"
   ]
  },
  {
   "cell_type": "code",
   "execution_count": 32,
   "metadata": {},
   "outputs": [
    {
     "data": {
      "text/plain": [
       "array([0.        , 0.14772086, 0.14805604, ..., 0.38054636, 0.38101917,\n",
       "       0.38706532])"
      ]
     },
     "execution_count": 32,
     "metadata": {},
     "output_type": "execute_result"
    }
   ],
   "source": [
    "np.sort(df[\"Chroma Standard Deviation\"].unique())"
   ]
  },
  {
   "cell_type": "code",
   "execution_count": 33,
   "metadata": {},
   "outputs": [],
   "source": [
    "df.loc[df[\"Chroma Standard Deviation\"] < 0.05, \"Chroma Standard Deviation\"] = 0.04\n",
    "df.loc[df[\"Chroma Standard Deviation\"] >= 0.32, \"Chroma Standard Deviation\"] = 0.35\n",
    "for value in range(5, 32, 3):\n",
    "    df.loc[((df[\"Chroma Standard Deviation\"] >= value * 0.01) & (df[\"Chroma Standard Deviation\"] < value * 0.01 + 0.03)), \\\n",
    "               \"Chroma Standard Deviation\"] = round(value * 0.01 + 0.015, 2)"
   ]
  },
  {
   "cell_type": "code",
   "execution_count": 34,
   "metadata": {},
   "outputs": [
    {
     "data": {
      "image/png": "[encoded data removed]",
      "text/plain": [
       "<Figure size 432x288 with 1 Axes>"
      ]
     },
     "metadata": {
      "needs_background": "light"
     },
     "output_type": "display_data"
    }
   ],
   "source": [
    "sns.countplot(df[\"Chroma Standard Deviation\"]);"
   ]
  },
  {
   "cell_type": "code",
   "execution_count": 35,
   "metadata": {
    "scrolled": false
   },
   "outputs": [
    {
     "data": {
      "image/png": "[encoded data removed]",
      "text/plain": [
       "<Figure size 1080x576 with 1 Axes>"
      ]
     },
     "metadata": {
      "needs_background": "light"
     },
     "output_type": "display_data"
    }
   ],
   "source": [
    "plt.figure(figsize = (15, 8))\n",
    "sns.countplot(data = df, x = \"Chroma Standard Deviation\", hue = \"Emotion\");"
   ]
  },
  {
   "cell_type": "markdown",
   "metadata": {},
   "source": [
    "# Croma Mean"
   ]
  },
  {
   "cell_type": "code",
   "execution_count": 36,
   "metadata": {},
   "outputs": [],
   "source": [
    "df = data.copy()"
   ]
  },
  {
   "cell_type": "code",
   "execution_count": 37,
   "metadata": {},
   "outputs": [
    {
     "data": {
      "text/plain": [
       "array([0.        , 0.40228421, 0.42883575, ..., 0.76731813, 0.77880263,\n",
       "       0.78258419])"
      ]
     },
     "execution_count": 37,
     "metadata": {},
     "output_type": "execute_result"
    }
   ],
   "source": [
    "np.sort(df[\"Croma Mean\"].unique())"
   ]
  },
  {
   "cell_type": "code",
   "execution_count": 38,
   "metadata": {},
   "outputs": [],
   "source": [
    "df.loc[df[\"Croma Mean\"] < 0.45, \"Croma Mean\"] = 0.41\n",
    "df.loc[df[\"Croma Mean\"] >= 0.7, \"Croma Mean\"] = 0.74\n",
    "value = -0.19\n",
    "while value < 0.7:\n",
    "    df.loc[((df[\"Croma Mean\"] >= value) & (df[\"Croma Mean\"] < value + 0.05)), \\\n",
    "               \"Croma Mean\"] = round(value + 0.04, 2)\n",
    "    value += 0.05"
   ]
  },
  {
   "cell_type": "code",
   "execution_count": 39,
   "metadata": {},
   "outputs": [
    {
     "data": {
      "text/plain": [
       "array([0.45, 0.5 , 0.55, 0.6 , 0.65, 0.7 , 0.74])"
      ]
     },
     "execution_count": 39,
     "metadata": {},
     "output_type": "execute_result"
    }
   ],
   "source": [
    "np.sort(df[\"Croma Mean\"].unique())"
   ]
  },
  {
   "cell_type": "code",
   "execution_count": 41,
   "metadata": {},
   "outputs": [
    {
     "data": {
      "image/png": "[encoded data removed]",
      "text/plain": [
       "<Figure size 432x288 with 1 Axes>"
      ]
     },
     "metadata": {
      "needs_background": "light"
     },
     "output_type": "display_data"
    }
   ],
   "source": [
    "sns.countplot(df[\"Croma Mean\"]);"
   ]
  },
  {
   "cell_type": "code",
   "execution_count": 42,
   "metadata": {},
   "outputs": [
    {
     "data": {
      "image/png": "[encoded data removed]",
      "text/plain": [
       "<Figure size 1080x576 with 1 Axes>"
      ]
     },
     "metadata": {
      "needs_background": "light"
     },
     "output_type": "display_data"
    }
   ],
   "source": [
    "plt.figure(figsize = (15, 8))\n",
    "sns.countplot(data = df, x = \"Croma Mean\", hue = \"Emotion\");"
   ]
  },
  {
   "cell_type": "code",
   "execution_count": null,
   "metadata": {},
   "outputs": [],
   "source": []
  }
 ],
 "metadata": {
  "kernelspec": {
   "display_name": "Python 3",
   "language": "python",
   "name": "python3"
  },
  "language_info": {
   "codemirror_mode": {
    "name": "ipython",
    "version": 3
   },
   "file_extension": ".py",
   "mimetype": "text/x-python",
   "name": "python",
   "nbconvert_exporter": "python",
   "pygments_lexer": "ipython3",
   "version": "3.6.5"
  }
 },
 "nbformat": 4,
 "nbformat_minor": 4
}

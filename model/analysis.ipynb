{
 "cells": [
  {
   "cell_type": "markdown",
   "metadata": {},
   "source": [
    "# Reading Data"
   ]
  },
  {
   "cell_type": "code",
   "execution_count": 111,
   "metadata": {},
   "outputs": [],
   "source": [
    "import pandas as pd\n",
    "import numpy as np\n",
    "import seaborn as sns\n",
    "import matplotlib.pyplot as plt"
   ]
  },
  {
   "cell_type": "code",
   "execution_count": 112,
   "metadata": {},
   "outputs": [],
   "source": [
    "data = pd.read_csv(\"../data/Emotion_Data_v2.csv\")"
   ]
  },
  {
   "cell_type": "code",
   "execution_count": 113,
   "metadata": {},
   "outputs": [
    {
     "data": {
      "text/html": [
       "<div>\n",
       "<style scoped>\n",
       "    .dataframe tbody tr th:only-of-type {\n",
       "        vertical-align: middle;\n",
       "    }\n",
       "\n",
       "    .dataframe tbody tr th {\n",
       "        vertical-align: top;\n",
       "    }\n",
       "\n",
       "    .dataframe thead th {\n",
       "        text-align: right;\n",
       "    }\n",
       "</style>\n",
       "<table border=\"1\" class=\"dataframe\">\n",
       "  <thead>\n",
       "    <tr style=\"text-align: right;\">\n",
       "      <th></th>\n",
       "      <th>File Name</th>\n",
       "      <th>Emotion</th>\n",
       "      <th>Chroma Standard Deviation</th>\n",
       "      <th>Croma Mean</th>\n",
       "      <th>MEL Standard Deviation</th>\n",
       "      <th>MEL Mean</th>\n",
       "      <th>Spectral Centroid Feature</th>\n",
       "      <th>MFCC Standard Deviation</th>\n",
       "      <th>MFCC Mean</th>\n",
       "      <th>MFCC 1st Derivative</th>\n",
       "      <th>MFCC 2nd Derivative</th>\n",
       "      <th>Root Mean Square Mean</th>\n",
       "      <th>Spectral Rolloff Mean</th>\n",
       "      <th>Spectral Rolloff Range</th>\n",
       "      <th>Zero Crossing Rate</th>\n",
       "    </tr>\n",
       "  </thead>\n",
       "  <tbody>\n",
       "    <tr>\n",
       "      <th>0</th>\n",
       "      <td>03a01Fa.wav</td>\n",
       "      <td>happy</td>\n",
       "      <td>0.251560</td>\n",
       "      <td>0.611641</td>\n",
       "      <td>10.345727</td>\n",
       "      <td>1.482626</td>\n",
       "      <td>1851.787049</td>\n",
       "      <td>95.586288</td>\n",
       "      <td>-14.091299</td>\n",
       "      <td>0.045822</td>\n",
       "      <td>-0.102562</td>\n",
       "      <td>0.064489</td>\n",
       "      <td>327.987448</td>\n",
       "      <td>2691.650391</td>\n",
       "      <td>327.987448</td>\n",
       "    </tr>\n",
       "    <tr>\n",
       "      <th>1</th>\n",
       "      <td>03a01Nc.wav</td>\n",
       "      <td>neutral</td>\n",
       "      <td>0.235453</td>\n",
       "      <td>0.638080</td>\n",
       "      <td>23.354847</td>\n",
       "      <td>3.512083</td>\n",
       "      <td>1386.832519</td>\n",
       "      <td>96.253471</td>\n",
       "      <td>-9.005164</td>\n",
       "      <td>-0.040387</td>\n",
       "      <td>-0.095998</td>\n",
       "      <td>0.099006</td>\n",
       "      <td>277.470703</td>\n",
       "      <td>2777.783203</td>\n",
       "      <td>277.470703</td>\n",
       "    </tr>\n",
       "    <tr>\n",
       "      <th>2</th>\n",
       "      <td>03a01Wa.wav</td>\n",
       "      <td>angry</td>\n",
       "      <td>0.244518</td>\n",
       "      <td>0.609958</td>\n",
       "      <td>23.899830</td>\n",
       "      <td>3.042638</td>\n",
       "      <td>2138.843511</td>\n",
       "      <td>83.991272</td>\n",
       "      <td>-17.577866</td>\n",
       "      <td>0.127689</td>\n",
       "      <td>-0.089570</td>\n",
       "      <td>0.101291</td>\n",
       "      <td>481.971571</td>\n",
       "      <td>2670.117188</td>\n",
       "      <td>481.971571</td>\n",
       "    </tr>\n",
       "    <tr>\n",
       "      <th>3</th>\n",
       "      <td>03a02Fc.wav</td>\n",
       "      <td>happy</td>\n",
       "      <td>0.284806</td>\n",
       "      <td>0.528645</td>\n",
       "      <td>33.872307</td>\n",
       "      <td>3.438237</td>\n",
       "      <td>2073.102010</td>\n",
       "      <td>84.644112</td>\n",
       "      <td>-17.824776</td>\n",
       "      <td>-0.116098</td>\n",
       "      <td>-0.096451</td>\n",
       "      <td>0.098398</td>\n",
       "      <td>306.538759</td>\n",
       "      <td>2002.587891</td>\n",
       "      <td>306.538759</td>\n",
       "    </tr>\n",
       "    <tr>\n",
       "      <th>4</th>\n",
       "      <td>03a02Nc.wav</td>\n",
       "      <td>neutral</td>\n",
       "      <td>0.224481</td>\n",
       "      <td>0.658214</td>\n",
       "      <td>39.342068</td>\n",
       "      <td>5.511982</td>\n",
       "      <td>1481.499672</td>\n",
       "      <td>91.639870</td>\n",
       "      <td>-8.317816</td>\n",
       "      <td>-0.101314</td>\n",
       "      <td>-0.093935</td>\n",
       "      <td>0.126057</td>\n",
       "      <td>169.360352</td>\n",
       "      <td>1668.823242</td>\n",
       "      <td>169.360352</td>\n",
       "    </tr>\n",
       "  </tbody>\n",
       "</table>\n",
       "</div>"
      ],
      "text/plain": [
       "     File Name  Emotion  Chroma Standard Deviation  Croma Mean  \\\n",
       "0  03a01Fa.wav    happy                   0.251560    0.611641   \n",
       "1  03a01Nc.wav  neutral                   0.235453    0.638080   \n",
       "2  03a01Wa.wav    angry                   0.244518    0.609958   \n",
       "3  03a02Fc.wav    happy                   0.284806    0.528645   \n",
       "4  03a02Nc.wav  neutral                   0.224481    0.658214   \n",
       "\n",
       "   MEL Standard Deviation  MEL Mean  Spectral Centroid Feature  \\\n",
       "0               10.345727  1.482626                1851.787049   \n",
       "1               23.354847  3.512083                1386.832519   \n",
       "2               23.899830  3.042638                2138.843511   \n",
       "3               33.872307  3.438237                2073.102010   \n",
       "4               39.342068  5.511982                1481.499672   \n",
       "\n",
       "   MFCC Standard Deviation  MFCC Mean  MFCC 1st Derivative  \\\n",
       "0                95.586288 -14.091299             0.045822   \n",
       "1                96.253471  -9.005164            -0.040387   \n",
       "2                83.991272 -17.577866             0.127689   \n",
       "3                84.644112 -17.824776            -0.116098   \n",
       "4                91.639870  -8.317816            -0.101314   \n",
       "\n",
       "   MFCC 2nd Derivative  Root Mean Square Mean  Spectral Rolloff Mean  \\\n",
       "0            -0.102562               0.064489             327.987448   \n",
       "1            -0.095998               0.099006             277.470703   \n",
       "2            -0.089570               0.101291             481.971571   \n",
       "3            -0.096451               0.098398             306.538759   \n",
       "4            -0.093935               0.126057             169.360352   \n",
       "\n",
       "   Spectral Rolloff Range  Zero Crossing Rate  \n",
       "0             2691.650391          327.987448  \n",
       "1             2777.783203          277.470703  \n",
       "2             2670.117188          481.971571  \n",
       "3             2002.587891          306.538759  \n",
       "4             1668.823242          169.360352  "
      ]
     },
     "execution_count": 113,
     "metadata": {},
     "output_type": "execute_result"
    }
   ],
   "source": [
    "data.head()"
   ]
  },
  {
   "cell_type": "code",
   "execution_count": 114,
   "metadata": {},
   "outputs": [
    {
     "data": {
      "text/plain": [
       "array(['happy', 'neutral', 'angry', 'sad', 'fearful', 'boredom',\n",
       "       'disgust', 'surprised'], dtype=object)"
      ]
     },
     "execution_count": 114,
     "metadata": {},
     "output_type": "execute_result"
    }
   ],
   "source": [
    "data[\"Emotion\"].unique()"
   ]
  },
  {
   "cell_type": "code",
   "execution_count": 115,
   "metadata": {},
   "outputs": [],
   "source": [
    "emotions = {'neutral': 0, \n",
    "            'calm': 1, \n",
    "            'happy': 2, \n",
    "            'sad': 3, \n",
    "            'angry': 4, \n",
    "            'fearful': 5, \n",
    "            'disgust': 6,\n",
    "            'surprised': 7, \n",
    "            'boredom': 8}"
   ]
  },
  {
   "cell_type": "code",
   "execution_count": 116,
   "metadata": {},
   "outputs": [],
   "source": [
    "data[\"Emotion\"] = data[\"Emotion\"].map(emotions)"
   ]
  },
  {
   "cell_type": "code",
   "execution_count": 117,
   "metadata": {},
   "outputs": [
    {
     "data": {
      "text/plain": [
       "(8457, 15)"
      ]
     },
     "execution_count": 117,
     "metadata": {},
     "output_type": "execute_result"
    }
   ],
   "source": [
    "data.shape"
   ]
  },
  {
   "cell_type": "code",
   "execution_count": 118,
   "metadata": {},
   "outputs": [
    {
     "data": {
      "text/plain": [
       "8097"
      ]
     },
     "execution_count": 118,
     "metadata": {},
     "output_type": "execute_result"
    }
   ],
   "source": [
    "data[\"File Name\"].nunique()"
   ]
  },
  {
   "cell_type": "markdown",
   "metadata": {},
   "source": [
    "Name does not affect on data"
   ]
  },
  {
   "cell_type": "code",
   "execution_count": 119,
   "metadata": {},
   "outputs": [
    {
     "data": {
      "text/html": [
       "<div>\n",
       "<style scoped>\n",
       "    .dataframe tbody tr th:only-of-type {\n",
       "        vertical-align: middle;\n",
       "    }\n",
       "\n",
       "    .dataframe tbody tr th {\n",
       "        vertical-align: top;\n",
       "    }\n",
       "\n",
       "    .dataframe thead th {\n",
       "        text-align: right;\n",
       "    }\n",
       "</style>\n",
       "<table border=\"1\" class=\"dataframe\">\n",
       "  <thead>\n",
       "    <tr style=\"text-align: right;\">\n",
       "      <th></th>\n",
       "      <th>Emotion</th>\n",
       "      <th>Chroma Standard Deviation</th>\n",
       "      <th>Croma Mean</th>\n",
       "      <th>MEL Standard Deviation</th>\n",
       "      <th>MEL Mean</th>\n",
       "      <th>Spectral Centroid Feature</th>\n",
       "      <th>MFCC Standard Deviation</th>\n",
       "      <th>MFCC Mean</th>\n",
       "      <th>MFCC 1st Derivative</th>\n",
       "      <th>MFCC 2nd Derivative</th>\n",
       "      <th>Root Mean Square Mean</th>\n",
       "      <th>Spectral Rolloff Mean</th>\n",
       "      <th>Spectral Rolloff Range</th>\n",
       "      <th>Zero Crossing Rate</th>\n",
       "    </tr>\n",
       "  </thead>\n",
       "  <tbody>\n",
       "    <tr>\n",
       "      <th>Emotion</th>\n",
       "      <td>1.000000</td>\n",
       "      <td>0.013298</td>\n",
       "      <td>0.001855</td>\n",
       "      <td>0.119786</td>\n",
       "      <td>0.117472</td>\n",
       "      <td>0.133313</td>\n",
       "      <td>-0.116054</td>\n",
       "      <td>0.039937</td>\n",
       "      <td>0.013937</td>\n",
       "      <td>-0.004311</td>\n",
       "      <td>0.120134</td>\n",
       "      <td>0.114200</td>\n",
       "      <td>0.114515</td>\n",
       "      <td>0.114200</td>\n",
       "    </tr>\n",
       "    <tr>\n",
       "      <th>Chroma Standard Deviation</th>\n",
       "      <td>0.013298</td>\n",
       "      <td>1.000000</td>\n",
       "      <td>-0.879750</td>\n",
       "      <td>0.426458</td>\n",
       "      <td>0.420676</td>\n",
       "      <td>0.051512</td>\n",
       "      <td>-0.480725</td>\n",
       "      <td>0.062947</td>\n",
       "      <td>-0.005212</td>\n",
       "      <td>-0.082426</td>\n",
       "      <td>0.550563</td>\n",
       "      <td>0.373500</td>\n",
       "      <td>0.263686</td>\n",
       "      <td>0.373500</td>\n",
       "    </tr>\n",
       "    <tr>\n",
       "      <th>Croma Mean</th>\n",
       "      <td>0.001855</td>\n",
       "      <td>-0.879750</td>\n",
       "      <td>1.000000</td>\n",
       "      <td>-0.384781</td>\n",
       "      <td>-0.390985</td>\n",
       "      <td>-0.069420</td>\n",
       "      <td>0.452753</td>\n",
       "      <td>-0.029159</td>\n",
       "      <td>0.002407</td>\n",
       "      <td>0.103640</td>\n",
       "      <td>-0.521323</td>\n",
       "      <td>-0.406656</td>\n",
       "      <td>-0.257919</td>\n",
       "      <td>-0.406656</td>\n",
       "    </tr>\n",
       "    <tr>\n",
       "      <th>MEL Standard Deviation</th>\n",
       "      <td>0.119786</td>\n",
       "      <td>0.426458</td>\n",
       "      <td>-0.384781</td>\n",
       "      <td>1.000000</td>\n",
       "      <td>0.973159</td>\n",
       "      <td>0.118156</td>\n",
       "      <td>-0.580473</td>\n",
       "      <td>0.288278</td>\n",
       "      <td>0.006248</td>\n",
       "      <td>-0.036988</td>\n",
       "      <td>0.873236</td>\n",
       "      <td>0.343916</td>\n",
       "      <td>0.370859</td>\n",
       "      <td>0.343916</td>\n",
       "    </tr>\n",
       "    <tr>\n",
       "      <th>MEL Mean</th>\n",
       "      <td>0.117472</td>\n",
       "      <td>0.420676</td>\n",
       "      <td>-0.390985</td>\n",
       "      <td>0.973159</td>\n",
       "      <td>1.000000</td>\n",
       "      <td>0.132530</td>\n",
       "      <td>-0.602557</td>\n",
       "      <td>0.320264</td>\n",
       "      <td>0.006264</td>\n",
       "      <td>-0.074587</td>\n",
       "      <td>0.912260</td>\n",
       "      <td>0.374192</td>\n",
       "      <td>0.408731</td>\n",
       "      <td>0.374192</td>\n",
       "    </tr>\n",
       "    <tr>\n",
       "      <th>Spectral Centroid Feature</th>\n",
       "      <td>0.133313</td>\n",
       "      <td>0.051512</td>\n",
       "      <td>-0.069420</td>\n",
       "      <td>0.118156</td>\n",
       "      <td>0.132530</td>\n",
       "      <td>1.000000</td>\n",
       "      <td>-0.543863</td>\n",
       "      <td>0.162488</td>\n",
       "      <td>-0.016307</td>\n",
       "      <td>-0.282195</td>\n",
       "      <td>0.238922</td>\n",
       "      <td>0.783496</td>\n",
       "      <td>0.567514</td>\n",
       "      <td>0.783496</td>\n",
       "    </tr>\n",
       "    <tr>\n",
       "      <th>MFCC Standard Deviation</th>\n",
       "      <td>-0.116054</td>\n",
       "      <td>-0.480725</td>\n",
       "      <td>0.452753</td>\n",
       "      <td>-0.580473</td>\n",
       "      <td>-0.602557</td>\n",
       "      <td>-0.543863</td>\n",
       "      <td>1.000000</td>\n",
       "      <td>-0.641314</td>\n",
       "      <td>0.012860</td>\n",
       "      <td>0.258116</td>\n",
       "      <td>-0.787603</td>\n",
       "      <td>-0.735831</td>\n",
       "      <td>-0.567865</td>\n",
       "      <td>-0.735831</td>\n",
       "    </tr>\n",
       "    <tr>\n",
       "      <th>MFCC Mean</th>\n",
       "      <td>0.039937</td>\n",
       "      <td>0.062947</td>\n",
       "      <td>-0.029159</td>\n",
       "      <td>0.288278</td>\n",
       "      <td>0.320264</td>\n",
       "      <td>0.162488</td>\n",
       "      <td>-0.641314</td>\n",
       "      <td>1.000000</td>\n",
       "      <td>0.011666</td>\n",
       "      <td>-0.087577</td>\n",
       "      <td>0.414782</td>\n",
       "      <td>0.158054</td>\n",
       "      <td>0.228663</td>\n",
       "      <td>0.158054</td>\n",
       "    </tr>\n",
       "    <tr>\n",
       "      <th>MFCC 1st Derivative</th>\n",
       "      <td>0.013937</td>\n",
       "      <td>-0.005212</td>\n",
       "      <td>0.002407</td>\n",
       "      <td>0.006248</td>\n",
       "      <td>0.006264</td>\n",
       "      <td>-0.016307</td>\n",
       "      <td>0.012860</td>\n",
       "      <td>0.011666</td>\n",
       "      <td>1.000000</td>\n",
       "      <td>-0.143360</td>\n",
       "      <td>-0.000414</td>\n",
       "      <td>-0.030784</td>\n",
       "      <td>-0.015154</td>\n",
       "      <td>-0.030784</td>\n",
       "    </tr>\n",
       "    <tr>\n",
       "      <th>MFCC 2nd Derivative</th>\n",
       "      <td>-0.004311</td>\n",
       "      <td>-0.082426</td>\n",
       "      <td>0.103640</td>\n",
       "      <td>-0.036988</td>\n",
       "      <td>-0.074587</td>\n",
       "      <td>-0.282195</td>\n",
       "      <td>0.258116</td>\n",
       "      <td>-0.087577</td>\n",
       "      <td>-0.143360</td>\n",
       "      <td>1.000000</td>\n",
       "      <td>-0.184143</td>\n",
       "      <td>-0.345294</td>\n",
       "      <td>-0.375119</td>\n",
       "      <td>-0.345294</td>\n",
       "    </tr>\n",
       "    <tr>\n",
       "      <th>Root Mean Square Mean</th>\n",
       "      <td>0.120134</td>\n",
       "      <td>0.550563</td>\n",
       "      <td>-0.521323</td>\n",
       "      <td>0.873236</td>\n",
       "      <td>0.912260</td>\n",
       "      <td>0.238922</td>\n",
       "      <td>-0.787603</td>\n",
       "      <td>0.414782</td>\n",
       "      <td>-0.000414</td>\n",
       "      <td>-0.184143</td>\n",
       "      <td>1.000000</td>\n",
       "      <td>0.541614</td>\n",
       "      <td>0.557552</td>\n",
       "      <td>0.541614</td>\n",
       "    </tr>\n",
       "    <tr>\n",
       "      <th>Spectral Rolloff Mean</th>\n",
       "      <td>0.114200</td>\n",
       "      <td>0.373500</td>\n",
       "      <td>-0.406656</td>\n",
       "      <td>0.343916</td>\n",
       "      <td>0.374192</td>\n",
       "      <td>0.783496</td>\n",
       "      <td>-0.735831</td>\n",
       "      <td>0.158054</td>\n",
       "      <td>-0.030784</td>\n",
       "      <td>-0.345294</td>\n",
       "      <td>0.541614</td>\n",
       "      <td>1.000000</td>\n",
       "      <td>0.716238</td>\n",
       "      <td>1.000000</td>\n",
       "    </tr>\n",
       "    <tr>\n",
       "      <th>Spectral Rolloff Range</th>\n",
       "      <td>0.114515</td>\n",
       "      <td>0.263686</td>\n",
       "      <td>-0.257919</td>\n",
       "      <td>0.370859</td>\n",
       "      <td>0.408731</td>\n",
       "      <td>0.567514</td>\n",
       "      <td>-0.567865</td>\n",
       "      <td>0.228663</td>\n",
       "      <td>-0.015154</td>\n",
       "      <td>-0.375119</td>\n",
       "      <td>0.557552</td>\n",
       "      <td>0.716238</td>\n",
       "      <td>1.000000</td>\n",
       "      <td>0.716238</td>\n",
       "    </tr>\n",
       "    <tr>\n",
       "      <th>Zero Crossing Rate</th>\n",
       "      <td>0.114200</td>\n",
       "      <td>0.373500</td>\n",
       "      <td>-0.406656</td>\n",
       "      <td>0.343916</td>\n",
       "      <td>0.374192</td>\n",
       "      <td>0.783496</td>\n",
       "      <td>-0.735831</td>\n",
       "      <td>0.158054</td>\n",
       "      <td>-0.030784</td>\n",
       "      <td>-0.345294</td>\n",
       "      <td>0.541614</td>\n",
       "      <td>1.000000</td>\n",
       "      <td>0.716238</td>\n",
       "      <td>1.000000</td>\n",
       "    </tr>\n",
       "  </tbody>\n",
       "</table>\n",
       "</div>"
      ],
      "text/plain": [
       "                            Emotion  Chroma Standard Deviation  Croma Mean  \\\n",
       "Emotion                    1.000000                   0.013298    0.001855   \n",
       "Chroma Standard Deviation  0.013298                   1.000000   -0.879750   \n",
       "Croma Mean                 0.001855                  -0.879750    1.000000   \n",
       "MEL Standard Deviation     0.119786                   0.426458   -0.384781   \n",
       "MEL Mean                   0.117472                   0.420676   -0.390985   \n",
       "Spectral Centroid Feature  0.133313                   0.051512   -0.069420   \n",
       "MFCC Standard Deviation   -0.116054                  -0.480725    0.452753   \n",
       "MFCC Mean                  0.039937                   0.062947   -0.029159   \n",
       "MFCC 1st Derivative        0.013937                  -0.005212    0.002407   \n",
       "MFCC 2nd Derivative       -0.004311                  -0.082426    0.103640   \n",
       "Root Mean Square Mean      0.120134                   0.550563   -0.521323   \n",
       "Spectral Rolloff Mean      0.114200                   0.373500   -0.406656   \n",
       "Spectral Rolloff Range     0.114515                   0.263686   -0.257919   \n",
       "Zero Crossing Rate         0.114200                   0.373500   -0.406656   \n",
       "\n",
       "                           MEL Standard Deviation  MEL Mean  \\\n",
       "Emotion                                  0.119786  0.117472   \n",
       "Chroma Standard Deviation                0.426458  0.420676   \n",
       "Croma Mean                              -0.384781 -0.390985   \n",
       "MEL Standard Deviation                   1.000000  0.973159   \n",
       "MEL Mean                                 0.973159  1.000000   \n",
       "Spectral Centroid Feature                0.118156  0.132530   \n",
       "MFCC Standard Deviation                 -0.580473 -0.602557   \n",
       "MFCC Mean                                0.288278  0.320264   \n",
       "MFCC 1st Derivative                      0.006248  0.006264   \n",
       "MFCC 2nd Derivative                     -0.036988 -0.074587   \n",
       "Root Mean Square Mean                    0.873236  0.912260   \n",
       "Spectral Rolloff Mean                    0.343916  0.374192   \n",
       "Spectral Rolloff Range                   0.370859  0.408731   \n",
       "Zero Crossing Rate                       0.343916  0.374192   \n",
       "\n",
       "                           Spectral Centroid Feature  MFCC Standard Deviation  \\\n",
       "Emotion                                     0.133313                -0.116054   \n",
       "Chroma Standard Deviation                   0.051512                -0.480725   \n",
       "Croma Mean                                 -0.069420                 0.452753   \n",
       "MEL Standard Deviation                      0.118156                -0.580473   \n",
       "MEL Mean                                    0.132530                -0.602557   \n",
       "Spectral Centroid Feature                   1.000000                -0.543863   \n",
       "MFCC Standard Deviation                    -0.543863                 1.000000   \n",
       "MFCC Mean                                   0.162488                -0.641314   \n",
       "MFCC 1st Derivative                        -0.016307                 0.012860   \n",
       "MFCC 2nd Derivative                        -0.282195                 0.258116   \n",
       "Root Mean Square Mean                       0.238922                -0.787603   \n",
       "Spectral Rolloff Mean                       0.783496                -0.735831   \n",
       "Spectral Rolloff Range                      0.567514                -0.567865   \n",
       "Zero Crossing Rate                          0.783496                -0.735831   \n",
       "\n",
       "                           MFCC Mean  MFCC 1st Derivative  \\\n",
       "Emotion                     0.039937             0.013937   \n",
       "Chroma Standard Deviation   0.062947            -0.005212   \n",
       "Croma Mean                 -0.029159             0.002407   \n",
       "MEL Standard Deviation      0.288278             0.006248   \n",
       "MEL Mean                    0.320264             0.006264   \n",
       "Spectral Centroid Feature   0.162488            -0.016307   \n",
       "MFCC Standard Deviation    -0.641314             0.012860   \n",
       "MFCC Mean                   1.000000             0.011666   \n",
       "MFCC 1st Derivative         0.011666             1.000000   \n",
       "MFCC 2nd Derivative        -0.087577            -0.143360   \n",
       "Root Mean Square Mean       0.414782            -0.000414   \n",
       "Spectral Rolloff Mean       0.158054            -0.030784   \n",
       "Spectral Rolloff Range      0.228663            -0.015154   \n",
       "Zero Crossing Rate          0.158054            -0.030784   \n",
       "\n",
       "                           MFCC 2nd Derivative  Root Mean Square Mean  \\\n",
       "Emotion                              -0.004311               0.120134   \n",
       "Chroma Standard Deviation            -0.082426               0.550563   \n",
       "Croma Mean                            0.103640              -0.521323   \n",
       "MEL Standard Deviation               -0.036988               0.873236   \n",
       "MEL Mean                             -0.074587               0.912260   \n",
       "Spectral Centroid Feature            -0.282195               0.238922   \n",
       "MFCC Standard Deviation               0.258116              -0.787603   \n",
       "MFCC Mean                            -0.087577               0.414782   \n",
       "MFCC 1st Derivative                  -0.143360              -0.000414   \n",
       "MFCC 2nd Derivative                   1.000000              -0.184143   \n",
       "Root Mean Square Mean                -0.184143               1.000000   \n",
       "Spectral Rolloff Mean                -0.345294               0.541614   \n",
       "Spectral Rolloff Range               -0.375119               0.557552   \n",
       "Zero Crossing Rate                   -0.345294               0.541614   \n",
       "\n",
       "                           Spectral Rolloff Mean  Spectral Rolloff Range  \\\n",
       "Emotion                                 0.114200                0.114515   \n",
       "Chroma Standard Deviation               0.373500                0.263686   \n",
       "Croma Mean                             -0.406656               -0.257919   \n",
       "MEL Standard Deviation                  0.343916                0.370859   \n",
       "MEL Mean                                0.374192                0.408731   \n",
       "Spectral Centroid Feature               0.783496                0.567514   \n",
       "MFCC Standard Deviation                -0.735831               -0.567865   \n",
       "MFCC Mean                               0.158054                0.228663   \n",
       "MFCC 1st Derivative                    -0.030784               -0.015154   \n",
       "MFCC 2nd Derivative                    -0.345294               -0.375119   \n",
       "Root Mean Square Mean                   0.541614                0.557552   \n",
       "Spectral Rolloff Mean                   1.000000                0.716238   \n",
       "Spectral Rolloff Range                  0.716238                1.000000   \n",
       "Zero Crossing Rate                      1.000000                0.716238   \n",
       "\n",
       "                           Zero Crossing Rate  \n",
       "Emotion                              0.114200  \n",
       "Chroma Standard Deviation            0.373500  \n",
       "Croma Mean                          -0.406656  \n",
       "MEL Standard Deviation               0.343916  \n",
       "MEL Mean                             0.374192  \n",
       "Spectral Centroid Feature            0.783496  \n",
       "MFCC Standard Deviation             -0.735831  \n",
       "MFCC Mean                            0.158054  \n",
       "MFCC 1st Derivative                 -0.030784  \n",
       "MFCC 2nd Derivative                 -0.345294  \n",
       "Root Mean Square Mean                0.541614  \n",
       "Spectral Rolloff Mean                1.000000  \n",
       "Spectral Rolloff Range               0.716238  \n",
       "Zero Crossing Rate                   1.000000  "
      ]
     },
     "execution_count": 119,
     "metadata": {},
     "output_type": "execute_result"
    }
   ],
   "source": [
    "data.corr()"
   ]
  },
  {
   "cell_type": "code",
   "execution_count": 120,
   "metadata": {},
   "outputs": [
    {
     "data": {
      "image/png": "[encoded data removed]",
      "text/plain": [
       "<Figure size 432x288 with 2 Axes>"
      ]
     },
     "metadata": {
      "needs_background": "light"
     },
     "output_type": "display_data"
    }
   ],
   "source": [
    "sns.heatmap(data.corr());"
   ]
  },
  {
   "cell_type": "markdown",
   "metadata": {},
   "source": [
    "##### We see some correlation between features"
   ]
  },
  {
   "cell_type": "code",
   "execution_count": 121,
   "metadata": {},
   "outputs": [
    {
     "data": {
      "text/html": [
       "<div>\n",
       "<style scoped>\n",
       "    .dataframe tbody tr th:only-of-type {\n",
       "        vertical-align: middle;\n",
       "    }\n",
       "\n",
       "    .dataframe tbody tr th {\n",
       "        vertical-align: top;\n",
       "    }\n",
       "\n",
       "    .dataframe thead th {\n",
       "        text-align: right;\n",
       "    }\n",
       "</style>\n",
       "<table border=\"1\" class=\"dataframe\">\n",
       "  <thead>\n",
       "    <tr style=\"text-align: right;\">\n",
       "      <th></th>\n",
       "      <th>Emotion</th>\n",
       "      <th>Chroma Standard Deviation</th>\n",
       "      <th>Croma Mean</th>\n",
       "      <th>MEL Standard Deviation</th>\n",
       "      <th>MEL Mean</th>\n",
       "      <th>Spectral Centroid Feature</th>\n",
       "      <th>MFCC Standard Deviation</th>\n",
       "      <th>MFCC Mean</th>\n",
       "      <th>MFCC 1st Derivative</th>\n",
       "      <th>MFCC 2nd Derivative</th>\n",
       "      <th>Root Mean Square Mean</th>\n",
       "      <th>Spectral Rolloff Mean</th>\n",
       "      <th>Spectral Rolloff Range</th>\n",
       "      <th>Zero Crossing Rate</th>\n",
       "    </tr>\n",
       "  </thead>\n",
       "  <tbody>\n",
       "    <tr>\n",
       "      <th>0</th>\n",
       "      <td>2</td>\n",
       "      <td>0.251560</td>\n",
       "      <td>0.611641</td>\n",
       "      <td>10.345727</td>\n",
       "      <td>1.482626</td>\n",
       "      <td>1851.787049</td>\n",
       "      <td>95.586288</td>\n",
       "      <td>-14.091299</td>\n",
       "      <td>0.045822</td>\n",
       "      <td>-0.102562</td>\n",
       "      <td>0.064489</td>\n",
       "      <td>327.987448</td>\n",
       "      <td>2691.650391</td>\n",
       "      <td>327.987448</td>\n",
       "    </tr>\n",
       "    <tr>\n",
       "      <th>1</th>\n",
       "      <td>0</td>\n",
       "      <td>0.235453</td>\n",
       "      <td>0.638080</td>\n",
       "      <td>23.354847</td>\n",
       "      <td>3.512083</td>\n",
       "      <td>1386.832519</td>\n",
       "      <td>96.253471</td>\n",
       "      <td>-9.005164</td>\n",
       "      <td>-0.040387</td>\n",
       "      <td>-0.095998</td>\n",
       "      <td>0.099006</td>\n",
       "      <td>277.470703</td>\n",
       "      <td>2777.783203</td>\n",
       "      <td>277.470703</td>\n",
       "    </tr>\n",
       "    <tr>\n",
       "      <th>2</th>\n",
       "      <td>4</td>\n",
       "      <td>0.244518</td>\n",
       "      <td>0.609958</td>\n",
       "      <td>23.899830</td>\n",
       "      <td>3.042638</td>\n",
       "      <td>2138.843511</td>\n",
       "      <td>83.991272</td>\n",
       "      <td>-17.577866</td>\n",
       "      <td>0.127689</td>\n",
       "      <td>-0.089570</td>\n",
       "      <td>0.101291</td>\n",
       "      <td>481.971571</td>\n",
       "      <td>2670.117188</td>\n",
       "      <td>481.971571</td>\n",
       "    </tr>\n",
       "    <tr>\n",
       "      <th>3</th>\n",
       "      <td>2</td>\n",
       "      <td>0.284806</td>\n",
       "      <td>0.528645</td>\n",
       "      <td>33.872307</td>\n",
       "      <td>3.438237</td>\n",
       "      <td>2073.102010</td>\n",
       "      <td>84.644112</td>\n",
       "      <td>-17.824776</td>\n",
       "      <td>-0.116098</td>\n",
       "      <td>-0.096451</td>\n",
       "      <td>0.098398</td>\n",
       "      <td>306.538759</td>\n",
       "      <td>2002.587891</td>\n",
       "      <td>306.538759</td>\n",
       "    </tr>\n",
       "    <tr>\n",
       "      <th>4</th>\n",
       "      <td>0</td>\n",
       "      <td>0.224481</td>\n",
       "      <td>0.658214</td>\n",
       "      <td>39.342068</td>\n",
       "      <td>5.511982</td>\n",
       "      <td>1481.499672</td>\n",
       "      <td>91.639870</td>\n",
       "      <td>-8.317816</td>\n",
       "      <td>-0.101314</td>\n",
       "      <td>-0.093935</td>\n",
       "      <td>0.126057</td>\n",
       "      <td>169.360352</td>\n",
       "      <td>1668.823242</td>\n",
       "      <td>169.360352</td>\n",
       "    </tr>\n",
       "    <tr>\n",
       "      <th>...</th>\n",
       "      <td>...</td>\n",
       "      <td>...</td>\n",
       "      <td>...</td>\n",
       "      <td>...</td>\n",
       "      <td>...</td>\n",
       "      <td>...</td>\n",
       "      <td>...</td>\n",
       "      <td>...</td>\n",
       "      <td>...</td>\n",
       "      <td>...</td>\n",
       "      <td>...</td>\n",
       "      <td>...</td>\n",
       "      <td>...</td>\n",
       "      <td>...</td>\n",
       "    </tr>\n",
       "    <tr>\n",
       "      <th>8452</th>\n",
       "      <td>6</td>\n",
       "      <td>0.222097</td>\n",
       "      <td>0.655374</td>\n",
       "      <td>0.209728</td>\n",
       "      <td>0.024694</td>\n",
       "      <td>1599.485331</td>\n",
       "      <td>134.897812</td>\n",
       "      <td>-17.978807</td>\n",
       "      <td>-0.013739</td>\n",
       "      <td>-0.000372</td>\n",
       "      <td>0.008591</td>\n",
       "      <td>127.105713</td>\n",
       "      <td>430.664062</td>\n",
       "      <td>127.105713</td>\n",
       "    </tr>\n",
       "    <tr>\n",
       "      <th>8453</th>\n",
       "      <td>5</td>\n",
       "      <td>0.224808</td>\n",
       "      <td>0.662291</td>\n",
       "      <td>0.197557</td>\n",
       "      <td>0.021162</td>\n",
       "      <td>1528.009723</td>\n",
       "      <td>137.633087</td>\n",
       "      <td>-18.448137</td>\n",
       "      <td>0.012112</td>\n",
       "      <td>-0.002783</td>\n",
       "      <td>0.008371</td>\n",
       "      <td>142.557780</td>\n",
       "      <td>1388.891602</td>\n",
       "      <td>142.557780</td>\n",
       "    </tr>\n",
       "    <tr>\n",
       "      <th>8454</th>\n",
       "      <td>2</td>\n",
       "      <td>0.245568</td>\n",
       "      <td>0.616096</td>\n",
       "      <td>0.815687</td>\n",
       "      <td>0.083800</td>\n",
       "      <td>1680.704403</td>\n",
       "      <td>123.765266</td>\n",
       "      <td>-16.726498</td>\n",
       "      <td>0.031153</td>\n",
       "      <td>-0.018604</td>\n",
       "      <td>0.015173</td>\n",
       "      <td>165.507864</td>\n",
       "      <td>958.227539</td>\n",
       "      <td>165.507864</td>\n",
       "    </tr>\n",
       "    <tr>\n",
       "      <th>8455</th>\n",
       "      <td>0</td>\n",
       "      <td>0.230998</td>\n",
       "      <td>0.633517</td>\n",
       "      <td>0.807214</td>\n",
       "      <td>0.060488</td>\n",
       "      <td>1646.587107</td>\n",
       "      <td>127.163773</td>\n",
       "      <td>-17.637600</td>\n",
       "      <td>-0.002861</td>\n",
       "      <td>-0.011685</td>\n",
       "      <td>0.011210</td>\n",
       "      <td>134.316019</td>\n",
       "      <td>506.030273</td>\n",
       "      <td>134.316019</td>\n",
       "    </tr>\n",
       "    <tr>\n",
       "      <th>8456</th>\n",
       "      <td>3</td>\n",
       "      <td>0.215685</td>\n",
       "      <td>0.638260</td>\n",
       "      <td>0.176408</td>\n",
       "      <td>0.017430</td>\n",
       "      <td>1529.870402</td>\n",
       "      <td>137.752365</td>\n",
       "      <td>-18.444969</td>\n",
       "      <td>0.007623</td>\n",
       "      <td>0.007076</td>\n",
       "      <td>0.007232</td>\n",
       "      <td>113.149007</td>\n",
       "      <td>506.030273</td>\n",
       "      <td>113.149007</td>\n",
       "    </tr>\n",
       "  </tbody>\n",
       "</table>\n",
       "<p>8457 rows × 14 columns</p>\n",
       "</div>"
      ],
      "text/plain": [
       "      Emotion  Chroma Standard Deviation  Croma Mean  MEL Standard Deviation  \\\n",
       "0           2                   0.251560    0.611641               10.345727   \n",
       "1           0                   0.235453    0.638080               23.354847   \n",
       "2           4                   0.244518    0.609958               23.899830   \n",
       "3           2                   0.284806    0.528645               33.872307   \n",
       "4           0                   0.224481    0.658214               39.342068   \n",
       "...       ...                        ...         ...                     ...   \n",
       "8452        6                   0.222097    0.655374                0.209728   \n",
       "8453        5                   0.224808    0.662291                0.197557   \n",
       "8454        2                   0.245568    0.616096                0.815687   \n",
       "8455        0                   0.230998    0.633517                0.807214   \n",
       "8456        3                   0.215685    0.638260                0.176408   \n",
       "\n",
       "      MEL Mean  Spectral Centroid Feature  MFCC Standard Deviation  MFCC Mean  \\\n",
       "0     1.482626                1851.787049                95.586288 -14.091299   \n",
       "1     3.512083                1386.832519                96.253471  -9.005164   \n",
       "2     3.042638                2138.843511                83.991272 -17.577866   \n",
       "3     3.438237                2073.102010                84.644112 -17.824776   \n",
       "4     5.511982                1481.499672                91.639870  -8.317816   \n",
       "...        ...                        ...                      ...        ...   \n",
       "8452  0.024694                1599.485331               134.897812 -17.978807   \n",
       "8453  0.021162                1528.009723               137.633087 -18.448137   \n",
       "8454  0.083800                1680.704403               123.765266 -16.726498   \n",
       "8455  0.060488                1646.587107               127.163773 -17.637600   \n",
       "8456  0.017430                1529.870402               137.752365 -18.444969   \n",
       "\n",
       "      MFCC 1st Derivative  MFCC 2nd Derivative  Root Mean Square Mean  \\\n",
       "0                0.045822            -0.102562               0.064489   \n",
       "1               -0.040387            -0.095998               0.099006   \n",
       "2                0.127689            -0.089570               0.101291   \n",
       "3               -0.116098            -0.096451               0.098398   \n",
       "4               -0.101314            -0.093935               0.126057   \n",
       "...                   ...                  ...                    ...   \n",
       "8452            -0.013739            -0.000372               0.008591   \n",
       "8453             0.012112            -0.002783               0.008371   \n",
       "8454             0.031153            -0.018604               0.015173   \n",
       "8455            -0.002861            -0.011685               0.011210   \n",
       "8456             0.007623             0.007076               0.007232   \n",
       "\n",
       "      Spectral Rolloff Mean  Spectral Rolloff Range  Zero Crossing Rate  \n",
       "0                327.987448             2691.650391          327.987448  \n",
       "1                277.470703             2777.783203          277.470703  \n",
       "2                481.971571             2670.117188          481.971571  \n",
       "3                306.538759             2002.587891          306.538759  \n",
       "4                169.360352             1668.823242          169.360352  \n",
       "...                     ...                     ...                 ...  \n",
       "8452             127.105713              430.664062          127.105713  \n",
       "8453             142.557780             1388.891602          142.557780  \n",
       "8454             165.507864              958.227539          165.507864  \n",
       "8455             134.316019              506.030273          134.316019  \n",
       "8456             113.149007              506.030273          113.149007  \n",
       "\n",
       "[8457 rows x 14 columns]"
      ]
     },
     "execution_count": 121,
     "metadata": {},
     "output_type": "execute_result"
    }
   ],
   "source": [
    "names = data[\"File Name\"]\n",
    "data = data.drop(\"File Name\", axis = 1)\n",
    "data"
   ]
  },
  {
   "cell_type": "code",
   "execution_count": 122,
   "metadata": {},
   "outputs": [
    {
     "data": {
      "image/png": "[encoded data removed]",
      "text/plain": [
       "<Figure size 432x288 with 1 Axes>"
      ]
     },
     "metadata": {
      "needs_background": "light"
     },
     "output_type": "display_data"
    }
   ],
   "source": [
    "sns.countplot(data[\"Emotion\"]);"
   ]
  },
  {
   "cell_type": "markdown",
   "metadata": {},
   "source": [
    "##### Few samples for emotions 7 and 8. That should be bad for recognizing those features"
   ]
  },
  {
   "cell_type": "markdown",
   "metadata": {},
   "source": [
    "# TSNE"
   ]
  },
  {
   "cell_type": "code",
   "execution_count": 40,
   "metadata": {},
   "outputs": [],
   "source": [
    "from sklearn.manifold import TSNE\n",
    "from sklearn.preprocessing import StandardScaler\n",
    "tsne = TSNE(n_components = 2, random_state = 11)"
   ]
  },
  {
   "cell_type": "code",
   "execution_count": 41,
   "metadata": {},
   "outputs": [],
   "source": [
    "tsne_repr = tsne.fit_transform(StandardScaler().fit_transform(data))"
   ]
  },
  {
   "cell_type": "code",
   "execution_count": 42,
   "metadata": {},
   "outputs": [
    {
     "data": {
      "image/png": "[encoded data removed]",
      "text/plain": [
       "<Figure size 432x288 with 1 Axes>"
      ]
     },
     "metadata": {
      "needs_background": "light"
     },
     "output_type": "display_data"
    }
   ],
   "source": [
    "plt.scatter(tsne_repr[:, 0], tsne_repr[:, 1],\n",
    "            c = data['Emotion'].map({0: \"blue\", 1: \"brown\", 2: \"orange\", 3: \"green\", 4: \"red\",\n",
    "                                    5: \"purple\", 6: \"pink\", 7: \"grey\", 8: \"navy\"}), alpha=.5);"
   ]
  },
  {
   "cell_type": "markdown",
   "metadata": {},
   "source": [
    "##### Should try Logistic Regression and Random Forest. Think they will work nice with current data. At the same time the pink and purple emotins will not be identified well cause they are at the same place. The same is for samples in point (60; 27). "
   ]
  },
  {
   "cell_type": "markdown",
   "metadata": {},
   "source": [
    "# Checking by features"
   ]
  },
  {
   "cell_type": "markdown",
   "metadata": {},
   "source": [
    "### MFCC Mean"
   ]
  },
  {
   "cell_type": "code",
   "execution_count": 140,
   "metadata": {},
   "outputs": [],
   "source": [
    "df = data.copy()    ## creating new dataset object not to add changes to object \"data\" "
   ]
  },
  {
   "cell_type": "code",
   "execution_count": 141,
   "metadata": {},
   "outputs": [
    {
     "data": {
      "text/plain": [
       "array([-87.02853394, -37.69932556, -37.54205322, ...,   0.78949761,\n",
       "         0.79381734,   1.29838526])"
      ]
     },
     "execution_count": 141,
     "metadata": {},
     "output_type": "execute_result"
    }
   ],
   "source": [
    "np.sort(df[\"MFCC Mean\"].unique())"
   ]
  },
  {
   "cell_type": "code",
   "execution_count": 22,
   "metadata": {},
   "outputs": [],
   "source": [
    "df.loc[df[\"MFCC Mean\"] < -80, \"MFCC Mean\"] = -81\n",
    "df.loc[df[\"MFCC Mean\"] >= 0, \"MFCC Mean\"] = 1"
   ]
  },
  {
   "cell_type": "code",
   "execution_count": 45,
   "metadata": {},
   "outputs": [],
   "source": [
    "for value in range(-80, 0, 10):\n",
    "    df.loc[((df[\"MFCC Mean\"] >= value) & (df[\"MFCC Mean\"] < value + 10)), \"MFCC Mean\"] = value + 9"
   ]
  },
  {
   "cell_type": "code",
   "execution_count": 76,
   "metadata": {},
   "outputs": [
    {
     "data": {
      "text/html": [
       "<div>\n",
       "<style scoped>\n",
       "    .dataframe tbody tr th:only-of-type {\n",
       "        vertical-align: middle;\n",
       "    }\n",
       "\n",
       "    .dataframe tbody tr th {\n",
       "        vertical-align: top;\n",
       "    }\n",
       "\n",
       "    .dataframe thead th {\n",
       "        text-align: right;\n",
       "    }\n",
       "</style>\n",
       "<table border=\"1\" class=\"dataframe\">\n",
       "  <thead>\n",
       "    <tr style=\"text-align: right;\">\n",
       "      <th></th>\n",
       "      <th>Emotion</th>\n",
       "      <th>Chroma Standard Deviation</th>\n",
       "      <th>Croma Mean</th>\n",
       "      <th>MEL Standard Deviation</th>\n",
       "      <th>MEL Mean</th>\n",
       "      <th>Spectral Centroid Feature</th>\n",
       "      <th>MFCC Standard Deviation</th>\n",
       "      <th>MFCC Mean</th>\n",
       "      <th>MFCC 1st Derivative</th>\n",
       "      <th>MFCC 2nd Derivative</th>\n",
       "      <th>Root Mean Square Mean</th>\n",
       "      <th>Spectral Rolloff Mean</th>\n",
       "      <th>Spectral Rolloff Range</th>\n",
       "      <th>Zero Crossing Rate</th>\n",
       "    </tr>\n",
       "  </thead>\n",
       "  <tbody>\n",
       "    <tr>\n",
       "      <th>0</th>\n",
       "      <td>2</td>\n",
       "      <td>25.04</td>\n",
       "      <td>0.611641</td>\n",
       "      <td>10.345727</td>\n",
       "      <td>1.482626</td>\n",
       "      <td>1851.787049</td>\n",
       "      <td>95.586288</td>\n",
       "      <td>-11.0</td>\n",
       "      <td>0.045822</td>\n",
       "      <td>-0.102562</td>\n",
       "      <td>0.064489</td>\n",
       "      <td>327.987448</td>\n",
       "      <td>2691.650391</td>\n",
       "      <td>327.987448</td>\n",
       "    </tr>\n",
       "    <tr>\n",
       "      <th>1</th>\n",
       "      <td>0</td>\n",
       "      <td>25.04</td>\n",
       "      <td>0.638080</td>\n",
       "      <td>23.354847</td>\n",
       "      <td>3.512083</td>\n",
       "      <td>1386.832519</td>\n",
       "      <td>96.253471</td>\n",
       "      <td>-1.0</td>\n",
       "      <td>-0.040387</td>\n",
       "      <td>-0.095998</td>\n",
       "      <td>0.099006</td>\n",
       "      <td>277.470703</td>\n",
       "      <td>2777.783203</td>\n",
       "      <td>277.470703</td>\n",
       "    </tr>\n",
       "    <tr>\n",
       "      <th>2</th>\n",
       "      <td>4</td>\n",
       "      <td>25.04</td>\n",
       "      <td>0.609958</td>\n",
       "      <td>23.899830</td>\n",
       "      <td>3.042638</td>\n",
       "      <td>2138.843511</td>\n",
       "      <td>83.991272</td>\n",
       "      <td>-11.0</td>\n",
       "      <td>0.127689</td>\n",
       "      <td>-0.089570</td>\n",
       "      <td>0.101291</td>\n",
       "      <td>481.971571</td>\n",
       "      <td>2670.117188</td>\n",
       "      <td>481.971571</td>\n",
       "    </tr>\n",
       "    <tr>\n",
       "      <th>3</th>\n",
       "      <td>2</td>\n",
       "      <td>25.04</td>\n",
       "      <td>0.528645</td>\n",
       "      <td>33.872307</td>\n",
       "      <td>3.438237</td>\n",
       "      <td>2073.102010</td>\n",
       "      <td>84.644112</td>\n",
       "      <td>-11.0</td>\n",
       "      <td>-0.116098</td>\n",
       "      <td>-0.096451</td>\n",
       "      <td>0.098398</td>\n",
       "      <td>306.538759</td>\n",
       "      <td>2002.587891</td>\n",
       "      <td>306.538759</td>\n",
       "    </tr>\n",
       "    <tr>\n",
       "      <th>4</th>\n",
       "      <td>0</td>\n",
       "      <td>25.04</td>\n",
       "      <td>0.658214</td>\n",
       "      <td>39.342068</td>\n",
       "      <td>5.511982</td>\n",
       "      <td>1481.499672</td>\n",
       "      <td>91.639870</td>\n",
       "      <td>-1.0</td>\n",
       "      <td>-0.101314</td>\n",
       "      <td>-0.093935</td>\n",
       "      <td>0.126057</td>\n",
       "      <td>169.360352</td>\n",
       "      <td>1668.823242</td>\n",
       "      <td>169.360352</td>\n",
       "    </tr>\n",
       "  </tbody>\n",
       "</table>\n",
       "</div>"
      ],
      "text/plain": [
       "   Emotion  Chroma Standard Deviation  Croma Mean  MEL Standard Deviation  \\\n",
       "0        2                      25.04    0.611641               10.345727   \n",
       "1        0                      25.04    0.638080               23.354847   \n",
       "2        4                      25.04    0.609958               23.899830   \n",
       "3        2                      25.04    0.528645               33.872307   \n",
       "4        0                      25.04    0.658214               39.342068   \n",
       "\n",
       "   MEL Mean  Spectral Centroid Feature  MFCC Standard Deviation  MFCC Mean  \\\n",
       "0  1.482626                1851.787049                95.586288      -11.0   \n",
       "1  3.512083                1386.832519                96.253471       -1.0   \n",
       "2  3.042638                2138.843511                83.991272      -11.0   \n",
       "3  3.438237                2073.102010                84.644112      -11.0   \n",
       "4  5.511982                1481.499672                91.639870       -1.0   \n",
       "\n",
       "   MFCC 1st Derivative  MFCC 2nd Derivative  Root Mean Square Mean  \\\n",
       "0             0.045822            -0.102562               0.064489   \n",
       "1            -0.040387            -0.095998               0.099006   \n",
       "2             0.127689            -0.089570               0.101291   \n",
       "3            -0.116098            -0.096451               0.098398   \n",
       "4            -0.101314            -0.093935               0.126057   \n",
       "\n",
       "   Spectral Rolloff Mean  Spectral Rolloff Range  Zero Crossing Rate  \n",
       "0             327.987448             2691.650391          327.987448  \n",
       "1             277.470703             2777.783203          277.470703  \n",
       "2             481.971571             2670.117188          481.971571  \n",
       "3             306.538759             2002.587891          306.538759  \n",
       "4             169.360352             1668.823242          169.360352  "
      ]
     },
     "execution_count": 76,
     "metadata": {},
     "output_type": "execute_result"
    }
   ],
   "source": [
    "df.head()"
   ]
  },
  {
   "cell_type": "code",
   "execution_count": 73,
   "metadata": {},
   "outputs": [
    {
     "data": {
      "image/png": "[encoded data removed]",
      "text/plain": [
       "<Figure size 432x288 with 1 Axes>"
      ]
     },
     "metadata": {
      "needs_background": "light"
     },
     "output_type": "display_data"
    }
   ],
   "source": [
    "sns.countplot(df[\"MFCC Mean\"]);"
   ]
  },
  {
   "cell_type": "code",
   "execution_count": 74,
   "metadata": {
    "scrolled": false
   },
   "outputs": [
    {
     "data": {
      "image/png": "[encoded data removed]",
      "text/plain": [
       "<Figure size 1080x576 with 1 Axes>"
      ]
     },
     "metadata": {
      "needs_background": "light"
     },
     "output_type": "display_data"
    }
   ],
   "source": [
    "plt.figure(figsize = (15, 8))\n",
    "sns.countplot(data = df, x = \"MFCC Mean\", hue = \"Emotion\");"
   ]
  },
  {
   "cell_type": "markdown",
   "metadata": {},
   "source": [
    "##### Strange picture. Distribution for different \"MFCC Mean\" is different, a lot of people are in interval (-20, -10). Al the picture looks like normal distribution with the center in interval (-20, -10) and low variance. May be little helpful for Random Forest"
   ]
  },
  {
   "cell_type": "markdown",
   "metadata": {},
   "source": [
    "# MFCC Standard deviation"
   ]
  },
  {
   "cell_type": "code",
   "execution_count": 142,
   "metadata": {},
   "outputs": [
    {
     "data": {
      "text/plain": [
       "array([0.        , 0.14772086, 0.14805605, ..., 0.33630362, 0.33645663,\n",
       "       0.34157455])"
      ]
     },
     "execution_count": 142,
     "metadata": {},
     "output_type": "execute_result"
    }
   ],
   "source": [
    "np.sort(df[\"Chroma Standard Deviation\"].unique())"
   ]
  },
  {
   "cell_type": "code",
   "execution_count": 143,
   "metadata": {},
   "outputs": [],
   "source": [
    "df.loc[df[\"Chroma Standard Deviation\"] < 0.05, \"Chroma Standard Deviation\"] = 0.04\n",
    "df.loc[df[\"Chroma Standard Deviation\"] >= 0.3, \"Chroma Standard Deviation\"] = 0.34\n",
    "for value in range(5, 30, 5):\n",
    "    df.loc[((df[\"Chroma Standard Deviation\"] >= value * 0.01) & (df[\"Chroma Standard Deviation\"] < value * 0.01 + 0.05)), \\\n",
    "               \"Chroma Standard Deviation\"] = value * 0.01 + 0.04"
   ]
  },
  {
   "cell_type": "code",
   "execution_count": 144,
   "metadata": {},
   "outputs": [
    {
     "data": {
      "text/plain": [
       "0       0.29\n",
       "1       0.24\n",
       "2       0.24\n",
       "3       0.29\n",
       "4       0.24\n",
       "        ... \n",
       "8452    0.24\n",
       "8453    0.24\n",
       "8454    0.24\n",
       "8455    0.24\n",
       "8456    0.24\n",
       "Name: Chroma Standard Deviation, Length: 8457, dtype: float64"
      ]
     },
     "execution_count": 144,
     "metadata": {},
     "output_type": "execute_result"
    }
   ],
   "source": [
    "df[\"Chroma Standard Deviation\"]"
   ]
  },
  {
   "cell_type": "code",
   "execution_count": 145,
   "metadata": {},
   "outputs": [
    {
     "data": {
      "image/png": "[encoded data removed]",
      "text/plain": [
       "<Figure size 432x288 with 1 Axes>"
      ]
     },
     "metadata": {
      "needs_background": "light"
     },
     "output_type": "display_data"
    }
   ],
   "source": [
    "sns.countplot(df[\"Chroma Standard Deviation\"]);"
   ]
  },
  {
   "cell_type": "code",
   "execution_count": 146,
   "metadata": {
    "scrolled": false
   },
   "outputs": [
    {
     "data": {
      "image/png": "[encoded data removed]",
      "text/plain": [
       "<Figure size 1080x576 with 1 Axes>"
      ]
     },
     "metadata": {
      "needs_background": "light"
     },
     "output_type": "display_data"
    }
   ],
   "source": [
    "plt.figure(figsize = (15, 8))\n",
    "sns.countplot(data = df, x = \"Chroma Standard Deviation\", hue = \"Emotion\");"
   ]
  },
  {
   "cell_type": "markdown",
   "metadata": {},
   "source": [
    "##### Less extreme but nearly same picture comparing with the previous one"
   ]
  },
  {
   "cell_type": "markdown",
   "metadata": {},
   "source": [
    "# Croma Mean"
   ]
  },
  {
   "cell_type": "code",
   "execution_count": 151,
   "metadata": {},
   "outputs": [],
   "source": [
    "df = data.copy()"
   ]
  },
  {
   "cell_type": "code",
   "execution_count": 173,
   "metadata": {},
   "outputs": [
    {
     "data": {
      "text/plain": [
       "array([0.45, 0.5 , 0.55, 0.6 , 0.65, 0.7 , 0.74])"
      ]
     },
     "execution_count": 173,
     "metadata": {},
     "output_type": "execute_result"
    }
   ],
   "source": [
    "np.sort(df[\"Croma Mean\"].unique())"
   ]
  },
  {
   "cell_type": "code",
   "execution_count": 155,
   "metadata": {},
   "outputs": [],
   "source": [
    "df.loc[df[\"Croma Mean\"] < 0.45, \"Croma Mean\"] = 0.41\n",
    "df.loc[df[\"Croma Mean\"] >= 0.7, \"Croma Mean\"] = 0.74\n",
    "value = -0.19\n",
    "while value < 0.7:\n",
    "    df.loc[((df[\"Croma Mean\"] >= value) & (df[\"Croma Mean\"] < value + 0.05)), \\\n",
    "               \"Croma Mean\"] = round(value + 0.04, 2)\n",
    "    value += 0.05"
   ]
  },
  {
   "cell_type": "code",
   "execution_count": 156,
   "metadata": {},
   "outputs": [
    {
     "data": {
      "text/plain": [
       "array([0.45, 0.5 , 0.55, 0.6 , 0.65, 0.7 , 0.74])"
      ]
     },
     "execution_count": 156,
     "metadata": {},
     "output_type": "execute_result"
    }
   ],
   "source": [
    "np.sort(df[\"Croma Mean\"].unique())"
   ]
  },
  {
   "cell_type": "code",
   "execution_count": 157,
   "metadata": {},
   "outputs": [
    {
     "data": {
      "text/plain": [
       "<matplotlib.axes._subplots.AxesSubplot at 0x2b8939c1b38>"
      ]
     },
     "execution_count": 157,
     "metadata": {},
     "output_type": "execute_result"
    },
    {
     "data": {
      "image/png": "[encoded data removed]",
      "text/plain": [
       "<Figure size 432x288 with 1 Axes>"
      ]
     },
     "metadata": {
      "needs_background": "light"
     },
     "output_type": "display_data"
    }
   ],
   "source": [
    "sns.countplot(df[\"Croma Mean\"])"
   ]
  },
  {
   "cell_type": "code",
   "execution_count": 158,
   "metadata": {},
   "outputs": [
    {
     "data": {
      "image/png": "[encoded data removed]",
      "text/plain": [
       "<Figure size 1080x576 with 1 Axes>"
      ]
     },
     "metadata": {
      "needs_background": "light"
     },
     "output_type": "display_data"
    }
   ],
   "source": [
    "plt.figure(figsize = (15, 8))\n",
    "sns.countplot(data = df, x = \"Croma Mean\", hue = \"Emotion\");"
   ]
  },
  {
   "cell_type": "markdown",
   "metadata": {},
   "source": [
    "##### Well, the picture we have now is quite better: normal distribution. "
   ]
  },
  {
   "cell_type": "markdown",
   "metadata": {},
   "source": [
    "##### Because of the homogeneity of the data I can suggest that all other data have the same distribution"
   ]
  },
  {
   "cell_type": "markdown",
   "metadata": {},
   "source": [
    "# MFCC 1st Derivative"
   ]
  },
  {
   "cell_type": "code",
   "execution_count": 178,
   "metadata": {},
   "outputs": [],
   "source": [
    "df = data.copy()"
   ]
  },
  {
   "cell_type": "code",
   "execution_count": 179,
   "metadata": {},
   "outputs": [
    {
     "data": {
      "text/plain": [
       "array([-0.36897704, -0.34486017, -0.34405529, ...,  0.33984295,\n",
       "        0.44569209,  0.51179695])"
      ]
     },
     "execution_count": 179,
     "metadata": {},
     "output_type": "execute_result"
    }
   ],
   "source": [
    "np.sort(df[\"MFCC 1st Derivative\"].unique())"
   ]
  },
  {
   "cell_type": "code",
   "execution_count": 180,
   "metadata": {},
   "outputs": [],
   "source": [
    "df.loc[df[\"MFCC 1st Derivative\"] < -0.3, \"MFCC 1st Derivative\"] = - 0.32\n",
    "df.loc[df[\"MFCC 1st Derivative\"] >= 0.45, \"MFCC 1st Derivative\"] = 0.47\n",
    "value = -0.32\n",
    "while value < 0.45:\n",
    "    df.loc[((df[\"MFCC 1st Derivative\"] >= value) & (df[\"MFCC 1st Derivative\"] < value + 0.05)), \\\n",
    "               \"MFCC 1st Derivative\"] = round(value + 0.04, 2)\n",
    "    value += 0.05"
   ]
  },
  {
   "cell_type": "code",
   "execution_count": 182,
   "metadata": {},
   "outputs": [
    {
     "data": {
      "image/png": "[encoded data removed]",
      "text/plain": [
       "<Figure size 432x288 with 1 Axes>"
      ]
     },
     "metadata": {
      "needs_background": "light"
     },
     "output_type": "display_data"
    }
   ],
   "source": [
    "sns.countplot(data = df, x = df[\"MFCC 1st Derivative\"]);"
   ]
  },
  {
   "cell_type": "code",
   "execution_count": 184,
   "metadata": {},
   "outputs": [
    {
     "data": {
      "image/png": "[encoded data removed]",
      "text/plain": [
       "<Figure size 1080x576 with 1 Axes>"
      ]
     },
     "metadata": {
      "needs_background": "light"
     },
     "output_type": "display_data"
    }
   ],
   "source": [
    "plt.figure(figsize = (15, 8))\n",
    "sns.countplot(data = df, x = df[\"MFCC 1st Derivative\"], hue = \"Emotion\");"
   ]
  },
  {
   "cell_type": "markdown",
   "metadata": {},
   "source": [
    "##### Same result: normal distribution with little variance"
   ]
  }
 ],
 "metadata": {
  "kernelspec": {
   "display_name": "Python 3",
   "language": "python",
   "name": "python3"
  },
  "language_info": {
   "codemirror_mode": {
    "name": "ipython",
    "version": 3
   },
   "file_extension": ".py",
   "mimetype": "text/x-python",
   "name": "python",
   "nbconvert_exporter": "python",
   "pygments_lexer": "ipython3",
   "version": "3.6.5"
  }
 },
 "nbformat": 4,
 "nbformat_minor": 4
}

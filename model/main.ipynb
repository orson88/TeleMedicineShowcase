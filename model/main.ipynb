{
 "cells": [
  {
   "cell_type": "markdown",
   "metadata": {},
   "source": [
    "# Reading data"
   ]
  },
  {
   "cell_type": "code",
   "execution_count": 1,
   "metadata": {},
   "outputs": [],
   "source": [
    "import pandas as pd\n",
    "import numpy as np\n",
    "import seaborn as sns\n",
    "import pickle\n",
    "\n",
    "from sklearn.metrics import accuracy_score\n",
    "from sklearn.utils import shuffle\n",
    "\n",
    "from sklearn.neural_network import MLPClassifier\n",
    "from sklearn.neighbors import KNeighborsClassifier\n",
    "from sklearn.linear_model import LogisticRegressionCV\n",
    "from sklearn.ensemble import RandomForestClassifier\n",
    "\n",
    "from sklearn.model_selection import GridSearchCV, train_test_split, cross_val_score"
   ]
  },
  {
   "cell_type": "code",
   "execution_count": 2,
   "metadata": {},
   "outputs": [],
   "source": [
    "data = pd.read_csv(\"../data/Emotion_Data_v2.csv\")"
   ]
  },
  {
   "cell_type": "code",
   "execution_count": 3,
   "metadata": {},
   "outputs": [
    {
     "data": {
      "text/html": [
       "<div>\n",
       "<style scoped>\n",
       "    .dataframe tbody tr th:only-of-type {\n",
       "        vertical-align: middle;\n",
       "    }\n",
       "\n",
       "    .dataframe tbody tr th {\n",
       "        vertical-align: top;\n",
       "    }\n",
       "\n",
       "    .dataframe thead th {\n",
       "        text-align: right;\n",
       "    }\n",
       "</style>\n",
       "<table border=\"1\" class=\"dataframe\">\n",
       "  <thead>\n",
       "    <tr style=\"text-align: right;\">\n",
       "      <th></th>\n",
       "      <th>Emotion</th>\n",
       "      <th>Chroma Standard Deviation</th>\n",
       "      <th>Croma Mean</th>\n",
       "      <th>MEL Standard Deviation</th>\n",
       "      <th>MEL Mean</th>\n",
       "      <th>Spectral Centroid Feature</th>\n",
       "      <th>MFCC Standard Deviation</th>\n",
       "      <th>MFCC Mean</th>\n",
       "      <th>MFCC 1st Derivative</th>\n",
       "      <th>MFCC 2nd Derivative</th>\n",
       "      <th>Root Mean Square Mean</th>\n",
       "      <th>Spectral Rolloff Mean</th>\n",
       "      <th>Spectral Rolloff Range</th>\n",
       "      <th>Zero Crossing Rate</th>\n",
       "    </tr>\n",
       "  </thead>\n",
       "  <tbody>\n",
       "    <tr>\n",
       "      <th>0</th>\n",
       "      <td>2</td>\n",
       "      <td>0.251560</td>\n",
       "      <td>0.611641</td>\n",
       "      <td>10.345727</td>\n",
       "      <td>1.482626</td>\n",
       "      <td>1851.787049</td>\n",
       "      <td>95.586288</td>\n",
       "      <td>-14.091299</td>\n",
       "      <td>0.045822</td>\n",
       "      <td>-0.102562</td>\n",
       "      <td>0.064489</td>\n",
       "      <td>327.987448</td>\n",
       "      <td>2691.650391</td>\n",
       "      <td>327.987448</td>\n",
       "    </tr>\n",
       "    <tr>\n",
       "      <th>1</th>\n",
       "      <td>0</td>\n",
       "      <td>0.235453</td>\n",
       "      <td>0.638080</td>\n",
       "      <td>23.354847</td>\n",
       "      <td>3.512083</td>\n",
       "      <td>1386.832519</td>\n",
       "      <td>96.253471</td>\n",
       "      <td>-9.005164</td>\n",
       "      <td>-0.040387</td>\n",
       "      <td>-0.095998</td>\n",
       "      <td>0.099006</td>\n",
       "      <td>277.470703</td>\n",
       "      <td>2777.783203</td>\n",
       "      <td>277.470703</td>\n",
       "    </tr>\n",
       "    <tr>\n",
       "      <th>2</th>\n",
       "      <td>4</td>\n",
       "      <td>0.244518</td>\n",
       "      <td>0.609958</td>\n",
       "      <td>23.899830</td>\n",
       "      <td>3.042638</td>\n",
       "      <td>2138.843511</td>\n",
       "      <td>83.991272</td>\n",
       "      <td>-17.577866</td>\n",
       "      <td>0.127689</td>\n",
       "      <td>-0.089570</td>\n",
       "      <td>0.101291</td>\n",
       "      <td>481.971571</td>\n",
       "      <td>2670.117188</td>\n",
       "      <td>481.971571</td>\n",
       "    </tr>\n",
       "    <tr>\n",
       "      <th>3</th>\n",
       "      <td>2</td>\n",
       "      <td>0.284806</td>\n",
       "      <td>0.528645</td>\n",
       "      <td>33.872307</td>\n",
       "      <td>3.438237</td>\n",
       "      <td>2073.102010</td>\n",
       "      <td>84.644112</td>\n",
       "      <td>-17.824776</td>\n",
       "      <td>-0.116098</td>\n",
       "      <td>-0.096451</td>\n",
       "      <td>0.098398</td>\n",
       "      <td>306.538759</td>\n",
       "      <td>2002.587891</td>\n",
       "      <td>306.538759</td>\n",
       "    </tr>\n",
       "    <tr>\n",
       "      <th>4</th>\n",
       "      <td>0</td>\n",
       "      <td>0.224481</td>\n",
       "      <td>0.658214</td>\n",
       "      <td>39.342068</td>\n",
       "      <td>5.511982</td>\n",
       "      <td>1481.499672</td>\n",
       "      <td>91.639870</td>\n",
       "      <td>-8.317816</td>\n",
       "      <td>-0.101314</td>\n",
       "      <td>-0.093935</td>\n",
       "      <td>0.126057</td>\n",
       "      <td>169.360352</td>\n",
       "      <td>1668.823242</td>\n",
       "      <td>169.360352</td>\n",
       "    </tr>\n",
       "    <tr>\n",
       "      <th>...</th>\n",
       "      <td>...</td>\n",
       "      <td>...</td>\n",
       "      <td>...</td>\n",
       "      <td>...</td>\n",
       "      <td>...</td>\n",
       "      <td>...</td>\n",
       "      <td>...</td>\n",
       "      <td>...</td>\n",
       "      <td>...</td>\n",
       "      <td>...</td>\n",
       "      <td>...</td>\n",
       "      <td>...</td>\n",
       "      <td>...</td>\n",
       "      <td>...</td>\n",
       "    </tr>\n",
       "    <tr>\n",
       "      <th>9891</th>\n",
       "      <td>7</td>\n",
       "      <td>0.332678</td>\n",
       "      <td>0.575813</td>\n",
       "      <td>0.364735</td>\n",
       "      <td>0.036160</td>\n",
       "      <td>2347.294889</td>\n",
       "      <td>167.522430</td>\n",
       "      <td>-51.517506</td>\n",
       "      <td>0.000119</td>\n",
       "      <td>-0.000630</td>\n",
       "      <td>0.007563</td>\n",
       "      <td>457.910156</td>\n",
       "      <td>4188.208008</td>\n",
       "      <td>457.910156</td>\n",
       "    </tr>\n",
       "    <tr>\n",
       "      <th>9892</th>\n",
       "      <td>7</td>\n",
       "      <td>0.325352</td>\n",
       "      <td>0.600506</td>\n",
       "      <td>0.889120</td>\n",
       "      <td>0.086041</td>\n",
       "      <td>2271.545838</td>\n",
       "      <td>156.242050</td>\n",
       "      <td>-45.163898</td>\n",
       "      <td>-0.000215</td>\n",
       "      <td>-0.000014</td>\n",
       "      <td>0.011557</td>\n",
       "      <td>429.840734</td>\n",
       "      <td>1733.422852</td>\n",
       "      <td>429.840734</td>\n",
       "    </tr>\n",
       "    <tr>\n",
       "      <th>9893</th>\n",
       "      <td>7</td>\n",
       "      <td>0.336933</td>\n",
       "      <td>0.577079</td>\n",
       "      <td>0.594145</td>\n",
       "      <td>0.058880</td>\n",
       "      <td>2275.967828</td>\n",
       "      <td>158.319168</td>\n",
       "      <td>-46.462028</td>\n",
       "      <td>-0.000471</td>\n",
       "      <td>-0.000133</td>\n",
       "      <td>0.009970</td>\n",
       "      <td>430.476273</td>\n",
       "      <td>1485.791016</td>\n",
       "      <td>430.476273</td>\n",
       "    </tr>\n",
       "    <tr>\n",
       "      <th>9894</th>\n",
       "      <td>7</td>\n",
       "      <td>0.310050</td>\n",
       "      <td>0.576939</td>\n",
       "      <td>0.937817</td>\n",
       "      <td>0.086885</td>\n",
       "      <td>2393.131729</td>\n",
       "      <td>147.918533</td>\n",
       "      <td>-40.915497</td>\n",
       "      <td>-0.001676</td>\n",
       "      <td>0.001688</td>\n",
       "      <td>0.013326</td>\n",
       "      <td>592.366229</td>\n",
       "      <td>6018.530273</td>\n",
       "      <td>592.366229</td>\n",
       "    </tr>\n",
       "    <tr>\n",
       "      <th>9895</th>\n",
       "      <td>7</td>\n",
       "      <td>0.304573</td>\n",
       "      <td>0.619620</td>\n",
       "      <td>1.017265</td>\n",
       "      <td>0.092349</td>\n",
       "      <td>2265.838255</td>\n",
       "      <td>152.754059</td>\n",
       "      <td>-42.369694</td>\n",
       "      <td>0.037825</td>\n",
       "      <td>0.002416</td>\n",
       "      <td>0.012323</td>\n",
       "      <td>501.984226</td>\n",
       "      <td>4403.540039</td>\n",
       "      <td>501.984226</td>\n",
       "    </tr>\n",
       "  </tbody>\n",
       "</table>\n",
       "<p>9896 rows × 14 columns</p>\n",
       "</div>"
      ],
      "text/plain": [
       "      Emotion  Chroma Standard Deviation  Croma Mean  MEL Standard Deviation  \\\n",
       "0           2                   0.251560    0.611641               10.345727   \n",
       "1           0                   0.235453    0.638080               23.354847   \n",
       "2           4                   0.244518    0.609958               23.899830   \n",
       "3           2                   0.284806    0.528645               33.872307   \n",
       "4           0                   0.224481    0.658214               39.342068   \n",
       "...       ...                        ...         ...                     ...   \n",
       "9891        7                   0.332678    0.575813                0.364735   \n",
       "9892        7                   0.325352    0.600506                0.889120   \n",
       "9893        7                   0.336933    0.577079                0.594145   \n",
       "9894        7                   0.310050    0.576939                0.937817   \n",
       "9895        7                   0.304573    0.619620                1.017265   \n",
       "\n",
       "      MEL Mean  Spectral Centroid Feature  MFCC Standard Deviation  MFCC Mean  \\\n",
       "0     1.482626                1851.787049                95.586288 -14.091299   \n",
       "1     3.512083                1386.832519                96.253471  -9.005164   \n",
       "2     3.042638                2138.843511                83.991272 -17.577866   \n",
       "3     3.438237                2073.102010                84.644112 -17.824776   \n",
       "4     5.511982                1481.499672                91.639870  -8.317816   \n",
       "...        ...                        ...                      ...        ...   \n",
       "9891  0.036160                2347.294889               167.522430 -51.517506   \n",
       "9892  0.086041                2271.545838               156.242050 -45.163898   \n",
       "9893  0.058880                2275.967828               158.319168 -46.462028   \n",
       "9894  0.086885                2393.131729               147.918533 -40.915497   \n",
       "9895  0.092349                2265.838255               152.754059 -42.369694   \n",
       "\n",
       "      MFCC 1st Derivative  MFCC 2nd Derivative  Root Mean Square Mean  \\\n",
       "0                0.045822            -0.102562               0.064489   \n",
       "1               -0.040387            -0.095998               0.099006   \n",
       "2                0.127689            -0.089570               0.101291   \n",
       "3               -0.116098            -0.096451               0.098398   \n",
       "4               -0.101314            -0.093935               0.126057   \n",
       "...                   ...                  ...                    ...   \n",
       "9891             0.000119            -0.000630               0.007563   \n",
       "9892            -0.000215            -0.000014               0.011557   \n",
       "9893            -0.000471            -0.000133               0.009970   \n",
       "9894            -0.001676             0.001688               0.013326   \n",
       "9895             0.037825             0.002416               0.012323   \n",
       "\n",
       "      Spectral Rolloff Mean  Spectral Rolloff Range  Zero Crossing Rate  \n",
       "0                327.987448             2691.650391          327.987448  \n",
       "1                277.470703             2777.783203          277.470703  \n",
       "2                481.971571             2670.117188          481.971571  \n",
       "3                306.538759             2002.587891          306.538759  \n",
       "4                169.360352             1668.823242          169.360352  \n",
       "...                     ...                     ...                 ...  \n",
       "9891             457.910156             4188.208008          457.910156  \n",
       "9892             429.840734             1733.422852          429.840734  \n",
       "9893             430.476273             1485.791016          430.476273  \n",
       "9894             592.366229             6018.530273          592.366229  \n",
       "9895             501.984226             4403.540039          501.984226  \n",
       "\n",
       "[9896 rows x 14 columns]"
      ]
     },
     "execution_count": 3,
     "metadata": {},
     "output_type": "execute_result"
    }
   ],
   "source": [
    "emotions = {'neutral': 0,\n",
    "            'calm': 1,\n",
    "            'happy': 2, \n",
    "            'sad': 3, \n",
    "            'angry': 4, \n",
    "            'fearful': 5, \n",
    "            'disgust': 6,\n",
    "            'surprised': 7, \n",
    "            'boredom': 8}\n",
    "data[\"Emotion\"] = data[\"Emotion\"].map(emotions)\n",
    "names = data[\"File Name\"]\n",
    "data = data.drop(\"File Name\", axis = 1)\n",
    "data"
   ]
  },
  {
   "cell_type": "code",
   "execution_count": 4,
   "metadata": {},
   "outputs": [],
   "source": [
    "y = data[\"Emotion\"]\n",
    "data = data.drop(\"Emotion\", axis = 1)"
   ]
  },
  {
   "cell_type": "code",
   "execution_count": 5,
   "metadata": {},
   "outputs": [],
   "source": [
    "X_train, X_test, y_train, y_test = train_test_split(data, y, test_size = 0.3)"
   ]
  },
  {
   "cell_type": "code",
   "execution_count": 6,
   "metadata": {},
   "outputs": [
    {
     "data": {
      "text/plain": [
       "((6927, 13), (2969, 13), (6927,), (2969,))"
      ]
     },
     "execution_count": 6,
     "metadata": {},
     "output_type": "execute_result"
    }
   ],
   "source": [
    "X_train.shape, X_test.shape, y_train.shape, y_test.shape"
   ]
  },
  {
   "cell_type": "markdown",
   "metadata": {},
   "source": [
    "## Random Forest"
   ]
  },
  {
   "cell_type": "code",
   "execution_count": 7,
   "metadata": {},
   "outputs": [],
   "source": [
    "rf = RandomForestClassifier(oob_score = True, n_jobs = -1, random_state = 11, \\\n",
    "                            max_depth = 31, verbose = 3)"
   ]
  },
  {
   "cell_type": "code",
   "execution_count": 8,
   "metadata": {
    "scrolled": true
   },
   "outputs": [
    {
     "name": "stderr",
     "output_type": "stream",
     "text": [
      "[Parallel(n_jobs=-1)]: Using backend ThreadingBackend with 8 concurrent workers.\n"
     ]
    },
    {
     "name": "stdout",
     "output_type": "stream",
     "text": [
      "building tree 1 of 100building tree 2 of 100\n",
      "building tree 3 of 100\n",
      "\n",
      "building tree 4 of 100\n",
      "building tree 5 of 100\n",
      "building tree 6 of 100\n",
      "building tree 7 of 100\n",
      "building tree 8 of 100\n",
      "building tree 9 of 100building tree 10 of 100\n",
      "\n",
      "building tree 11 of 100\n",
      "building tree 12 of 100building tree 13 of 100\n",
      "building tree 14 of 100building tree 15 of 100\n",
      "\n",
      "\n",
      "building tree 16 of 100\n",
      "building tree 17 of 100\n",
      "building tree 18 of 100\n",
      "building tree 19 of 100\n",
      "building tree 20 of 100building tree 21 of 100\n",
      "\n",
      "building tree 22 of 100\n",
      "building tree 23 of 100\n",
      "building tree 24 of 100\n",
      "building tree 25 of 100\n",
      "building tree 26 of 100\n",
      "building tree 27 of 100building tree 28 of 100\n",
      "\n",
      "building tree 29 of 100\n"
     ]
    },
    {
     "name": "stderr",
     "output_type": "stream",
     "text": [
      "[Parallel(n_jobs=-1)]: Done  16 tasks      | elapsed:    0.3s\n"
     ]
    },
    {
     "name": "stdout",
     "output_type": "stream",
     "text": [
      "building tree 30 of 100\n",
      "building tree 31 of 100\n",
      "building tree 32 of 100\n",
      "building tree 33 of 100\n",
      "building tree 34 of 100building tree 35 of 100\n",
      "\n",
      "building tree 36 of 100building tree 37 of 100\n",
      "\n",
      "building tree 38 of 100\n",
      "building tree 39 of 100\n",
      "building tree 40 of 100\n",
      "building tree 41 of 100\n",
      "building tree 42 of 100\n",
      "building tree 43 of 100\n",
      "building tree 44 of 100\n",
      "building tree 45 of 100building tree 46 of 100\n",
      "\n",
      "building tree 47 of 100\n",
      "building tree 48 of 100\n",
      "building tree 49 of 100\n",
      "building tree 50 of 100\n",
      "building tree 51 of 100\n",
      "building tree 52 of 100\n",
      "building tree 53 of 100\n",
      "building tree 54 of 100\n",
      "building tree 55 of 100\n",
      "building tree 56 of 100\n",
      "building tree 57 of 100building tree 58 of 100\n",
      "\n",
      "building tree 59 of 100\n",
      "building tree 60 of 100\n",
      "building tree 61 of 100\n",
      "building tree 62 of 100\n",
      "building tree 63 of 100\n",
      "building tree 64 of 100\n",
      "building tree 65 of 100building tree 66 of 100\n",
      "\n",
      "building tree 67 of 100\n",
      "building tree 68 of 100\n",
      "building tree 69 of 100\n",
      "building tree 70 of 100\n",
      "building tree 71 of 100\n",
      "building tree 72 of 100\n",
      "building tree 73 of 100\n",
      "building tree 74 of 100\n",
      "building tree 75 of 100\n",
      "building tree 76 of 100\n",
      "building tree 77 of 100\n",
      "building tree 78 of 100\n",
      "building tree 79 of 100\n",
      "building tree 80 of 100\n",
      "building tree 81 of 100\n",
      "building tree 82 of 100\n",
      "building tree 83 of 100\n",
      "building tree 84 of 100\n",
      "building tree 85 of 100\n",
      "building tree 86 of 100\n",
      "building tree 87 of 100\n",
      "building tree 88 of 100\n",
      "building tree 89 of 100\n",
      "building tree 90 of 100building tree 91 of 100\n",
      "\n",
      "building tree 92 of 100\n",
      "building tree 93 of 100\n",
      "building tree 94 of 100\n",
      "building tree 95 of 100\n",
      "building tree 96 of 100\n",
      "building tree 97 of 100\n",
      "building tree 98 of 100building tree 99 of 100\n",
      "\n",
      "building tree 100 of 100\n"
     ]
    },
    {
     "name": "stderr",
     "output_type": "stream",
     "text": [
      "[Parallel(n_jobs=-1)]: Done 100 out of 100 | elapsed:    1.1s finished\n"
     ]
    },
    {
     "data": {
      "text/plain": [
       "RandomForestClassifier(bootstrap=True, ccp_alpha=0.0, class_weight=None,\n",
       "                       criterion='gini', max_depth=31, max_features='auto',\n",
       "                       max_leaf_nodes=None, max_samples=None,\n",
       "                       min_impurity_decrease=0.0, min_impurity_split=None,\n",
       "                       min_samples_leaf=1, min_samples_split=2,\n",
       "                       min_weight_fraction_leaf=0.0, n_estimators=100,\n",
       "                       n_jobs=-1, oob_score=True, random_state=11, verbose=3,\n",
       "                       warm_start=False)"
      ]
     },
     "execution_count": 8,
     "metadata": {},
     "output_type": "execute_result"
    }
   ],
   "source": [
    "rf.fit(X_train, y_train)"
   ]
  },
  {
   "cell_type": "code",
   "execution_count": 9,
   "metadata": {
    "scrolled": false
   },
   "outputs": [
    {
     "name": "stderr",
     "output_type": "stream",
     "text": [
      "[Parallel(n_jobs=8)]: Using backend ThreadingBackend with 8 concurrent workers.\n",
      "[Parallel(n_jobs=8)]: Done  16 tasks      | elapsed:    0.0s\n",
      "[Parallel(n_jobs=8)]: Done 100 out of 100 | elapsed:    0.0s finished\n"
     ]
    },
    {
     "data": {
      "text/plain": [
       "0.42707982485685414"
      ]
     },
     "execution_count": 9,
     "metadata": {},
     "output_type": "execute_result"
    }
   ],
   "source": [
    "accuracy_score(rf.predict(X_test), y_test)"
   ]
  },
  {
   "cell_type": "code",
   "execution_count": 10,
   "metadata": {},
   "outputs": [
    {
     "data": {
      "text/html": [
       "<div>\n",
       "<style scoped>\n",
       "    .dataframe tbody tr th:only-of-type {\n",
       "        vertical-align: middle;\n",
       "    }\n",
       "\n",
       "    .dataframe tbody tr th {\n",
       "        vertical-align: top;\n",
       "    }\n",
       "\n",
       "    .dataframe thead th {\n",
       "        text-align: right;\n",
       "    }\n",
       "</style>\n",
       "<table border=\"1\" class=\"dataframe\">\n",
       "  <thead>\n",
       "    <tr style=\"text-align: right;\">\n",
       "      <th></th>\n",
       "      <th>feature</th>\n",
       "      <th>coef</th>\n",
       "    </tr>\n",
       "  </thead>\n",
       "  <tbody>\n",
       "    <tr>\n",
       "      <th>3</th>\n",
       "      <td>MEL Mean</td>\n",
       "      <td>0.091694</td>\n",
       "    </tr>\n",
       "    <tr>\n",
       "      <th>6</th>\n",
       "      <td>MFCC Mean</td>\n",
       "      <td>0.090287</td>\n",
       "    </tr>\n",
       "    <tr>\n",
       "      <th>5</th>\n",
       "      <td>MFCC Standard Deviation</td>\n",
       "      <td>0.084959</td>\n",
       "    </tr>\n",
       "    <tr>\n",
       "      <th>9</th>\n",
       "      <td>Root Mean Square Mean</td>\n",
       "      <td>0.081192</td>\n",
       "    </tr>\n",
       "    <tr>\n",
       "      <th>2</th>\n",
       "      <td>MEL Standard Deviation</td>\n",
       "      <td>0.079857</td>\n",
       "    </tr>\n",
       "    <tr>\n",
       "      <th>0</th>\n",
       "      <td>Chroma Standard Deviation</td>\n",
       "      <td>0.075689</td>\n",
       "    </tr>\n",
       "    <tr>\n",
       "      <th>11</th>\n",
       "      <td>Spectral Rolloff Range</td>\n",
       "      <td>0.075421</td>\n",
       "    </tr>\n",
       "    <tr>\n",
       "      <th>4</th>\n",
       "      <td>Spectral Centroid Feature</td>\n",
       "      <td>0.073976</td>\n",
       "    </tr>\n",
       "    <tr>\n",
       "      <th>12</th>\n",
       "      <td>Zero Crossing Rate</td>\n",
       "      <td>0.073743</td>\n",
       "    </tr>\n",
       "    <tr>\n",
       "      <th>10</th>\n",
       "      <td>Spectral Rolloff Mean</td>\n",
       "      <td>0.072961</td>\n",
       "    </tr>\n",
       "    <tr>\n",
       "      <th>1</th>\n",
       "      <td>Croma Mean</td>\n",
       "      <td>0.070037</td>\n",
       "    </tr>\n",
       "    <tr>\n",
       "      <th>8</th>\n",
       "      <td>MFCC 2nd Derivative</td>\n",
       "      <td>0.066450</td>\n",
       "    </tr>\n",
       "    <tr>\n",
       "      <th>7</th>\n",
       "      <td>MFCC 1st Derivative</td>\n",
       "      <td>0.063734</td>\n",
       "    </tr>\n",
       "  </tbody>\n",
       "</table>\n",
       "</div>"
      ],
      "text/plain": [
       "                      feature      coef\n",
       "3                    MEL Mean  0.091694\n",
       "6                   MFCC Mean  0.090287\n",
       "5     MFCC Standard Deviation  0.084959\n",
       "9       Root Mean Square Mean  0.081192\n",
       "2      MEL Standard Deviation  0.079857\n",
       "0   Chroma Standard Deviation  0.075689\n",
       "11     Spectral Rolloff Range  0.075421\n",
       "4   Spectral Centroid Feature  0.073976\n",
       "12         Zero Crossing Rate  0.073743\n",
       "10      Spectral Rolloff Mean  0.072961\n",
       "1                  Croma Mean  0.070037\n",
       "8         MFCC 2nd Derivative  0.066450\n",
       "7         MFCC 1st Derivative  0.063734"
      ]
     },
     "execution_count": 10,
     "metadata": {},
     "output_type": "execute_result"
    }
   ],
   "source": [
    "coefs = pd.DataFrame({\"feature\": X_train.columns,\n",
    "             \"coef\": rf.feature_importances_}).sort_values(by = \"coef\", ascending = False)\n",
    "coefs"
   ]
  },
  {
   "cell_type": "code",
   "execution_count": 11,
   "metadata": {},
   "outputs": [
    {
     "data": {
      "image/png": "[encoded data removed]",
      "text/plain": [
       "<Figure size 432x288 with 1 Axes>"
      ]
     },
     "metadata": {
      "needs_background": "light"
     },
     "output_type": "display_data"
    }
   ],
   "source": [
    "sns.scatterplot(x = coefs.index, y = coefs[\"coef\"]);"
   ]
  },
  {
   "cell_type": "markdown",
   "metadata": {},
   "source": [
    "## Logistic Regression"
   ]
  },
  {
   "cell_type": "code",
   "execution_count": 13,
   "metadata": {},
   "outputs": [],
   "source": [
    "from sklearn.linear_model import LogisticRegression\n",
    "logit = LogisticRegression(random_state = 11, verbose = 3, n_jobs = -1)"
   ]
  },
  {
   "cell_type": "code",
   "execution_count": 14,
   "metadata": {},
   "outputs": [
    {
     "name": "stderr",
     "output_type": "stream",
     "text": [
      "[Parallel(n_jobs=-1)]: Using backend LokyBackend with 8 concurrent workers.\n",
      "[Parallel(n_jobs=-1)]: Done   1 out of   1 | elapsed:    7.0s finished\n"
     ]
    },
    {
     "data": {
      "text/plain": [
       "LogisticRegression(C=1.0, class_weight=None, dual=False, fit_intercept=True,\n",
       "                   intercept_scaling=1, l1_ratio=None, max_iter=100,\n",
       "                   multi_class='auto', n_jobs=-1, penalty='l2', random_state=11,\n",
       "                   solver='lbfgs', tol=0.0001, verbose=3, warm_start=False)"
      ]
     },
     "execution_count": 14,
     "metadata": {},
     "output_type": "execute_result"
    }
   ],
   "source": [
    "logit.fit(X_train, y_train)"
   ]
  },
  {
   "cell_type": "code",
   "execution_count": 15,
   "metadata": {},
   "outputs": [
    {
     "data": {
      "text/plain": [
       "0.3283933984506568"
      ]
     },
     "execution_count": 15,
     "metadata": {},
     "output_type": "execute_result"
    }
   ],
   "source": [
    "accuracy_score(logit.predict(X_test), y_test)"
   ]
  },
  {
   "cell_type": "code",
   "execution_count": 16,
   "metadata": {},
   "outputs": [
    {
     "data": {
      "text/html": [
       "<div>\n",
       "<style scoped>\n",
       "    .dataframe tbody tr th:only-of-type {\n",
       "        vertical-align: middle;\n",
       "    }\n",
       "\n",
       "    .dataframe tbody tr th {\n",
       "        vertical-align: top;\n",
       "    }\n",
       "\n",
       "    .dataframe thead th {\n",
       "        text-align: right;\n",
       "    }\n",
       "</style>\n",
       "<table border=\"1\" class=\"dataframe\">\n",
       "  <thead>\n",
       "    <tr style=\"text-align: right;\">\n",
       "      <th></th>\n",
       "      <th>feature</th>\n",
       "      <th>coef</th>\n",
       "    </tr>\n",
       "  </thead>\n",
       "  <tbody>\n",
       "    <tr>\n",
       "      <th>5</th>\n",
       "      <td>MFCC Standard Deviation</td>\n",
       "      <td>0.012844</td>\n",
       "    </tr>\n",
       "    <tr>\n",
       "      <th>6</th>\n",
       "      <td>MFCC Mean</td>\n",
       "      <td>0.000734</td>\n",
       "    </tr>\n",
       "    <tr>\n",
       "      <th>1</th>\n",
       "      <td>Croma Mean</td>\n",
       "      <td>0.000065</td>\n",
       "    </tr>\n",
       "    <tr>\n",
       "      <th>0</th>\n",
       "      <td>Chroma Standard Deviation</td>\n",
       "      <td>0.000038</td>\n",
       "    </tr>\n",
       "    <tr>\n",
       "      <th>9</th>\n",
       "      <td>Root Mean Square Mean</td>\n",
       "      <td>0.000005</td>\n",
       "    </tr>\n",
       "    <tr>\n",
       "      <th>7</th>\n",
       "      <td>MFCC 1st Derivative</td>\n",
       "      <td>-0.000001</td>\n",
       "    </tr>\n",
       "    <tr>\n",
       "      <th>8</th>\n",
       "      <td>MFCC 2nd Derivative</td>\n",
       "      <td>-0.000009</td>\n",
       "    </tr>\n",
       "    <tr>\n",
       "      <th>4</th>\n",
       "      <td>Spectral Centroid Feature</td>\n",
       "      <td>-0.000025</td>\n",
       "    </tr>\n",
       "    <tr>\n",
       "      <th>11</th>\n",
       "      <td>Spectral Rolloff Range</td>\n",
       "      <td>-0.000026</td>\n",
       "    </tr>\n",
       "    <tr>\n",
       "      <th>3</th>\n",
       "      <td>MEL Mean</td>\n",
       "      <td>-0.000183</td>\n",
       "    </tr>\n",
       "    <tr>\n",
       "      <th>10</th>\n",
       "      <td>Spectral Rolloff Mean</td>\n",
       "      <td>-0.002008</td>\n",
       "    </tr>\n",
       "    <tr>\n",
       "      <th>12</th>\n",
       "      <td>Zero Crossing Rate</td>\n",
       "      <td>-0.002008</td>\n",
       "    </tr>\n",
       "    <tr>\n",
       "      <th>2</th>\n",
       "      <td>MEL Standard Deviation</td>\n",
       "      <td>-0.004368</td>\n",
       "    </tr>\n",
       "  </tbody>\n",
       "</table>\n",
       "</div>"
      ],
      "text/plain": [
       "                      feature      coef\n",
       "5     MFCC Standard Deviation  0.012844\n",
       "6                   MFCC Mean  0.000734\n",
       "1                  Croma Mean  0.000065\n",
       "0   Chroma Standard Deviation  0.000038\n",
       "9       Root Mean Square Mean  0.000005\n",
       "7         MFCC 1st Derivative -0.000001\n",
       "8         MFCC 2nd Derivative -0.000009\n",
       "4   Spectral Centroid Feature -0.000025\n",
       "11     Spectral Rolloff Range -0.000026\n",
       "3                    MEL Mean -0.000183\n",
       "10      Spectral Rolloff Mean -0.002008\n",
       "12         Zero Crossing Rate -0.002008\n",
       "2      MEL Standard Deviation -0.004368"
      ]
     },
     "execution_count": 16,
     "metadata": {},
     "output_type": "execute_result"
    }
   ],
   "source": [
    "coefs = pd.DataFrame({\"feature\": X_train.columns,\n",
    "             \"coef\": logit.coef_[0]}).sort_values(by = \"coef\", ascending = False)\n",
    "coefs"
   ]
  },
  {
   "cell_type": "code",
   "execution_count": 17,
   "metadata": {},
   "outputs": [
    {
     "data": {
      "image/png": "[encoded data removed]",
      "text/plain": [
       "<Figure size 432x288 with 1 Axes>"
      ]
     },
     "metadata": {
      "needs_background": "light"
     },
     "output_type": "display_data"
    }
   ],
   "source": [
    "sns.scatterplot(x = coefs.index, y = coefs[\"coef\"]);"
   ]
  },
  {
   "cell_type": "code",
   "execution_count": null,
   "metadata": {},
   "outputs": [],
   "source": []
  }
 ],
 "metadata": {
  "kernelspec": {
   "display_name": "Python 3",
   "language": "python",
   "name": "python3"
  },
  "language_info": {
   "codemirror_mode": {
    "name": "ipython",
    "version": 3
   },
   "file_extension": ".py",
   "mimetype": "text/x-python",
   "name": "python",
   "nbconvert_exporter": "python",
   "pygments_lexer": "ipython3",
   "version": "3.6.5"
  }
 },
 "nbformat": 4,
 "nbformat_minor": 4
}

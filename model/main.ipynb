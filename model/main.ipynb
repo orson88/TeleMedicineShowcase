{
 "cells": [
  {
   "cell_type": "markdown",
   "metadata": {},
   "source": [
    "# Reading data"
   ]
  },
  {
   "cell_type": "code",
   "execution_count": 100,
   "metadata": {},
   "outputs": [],
   "source": [
    "import pandas as pd\n",
    "import numpy as np\n",
    "import seaborn as sns\n",
    "import pickle\n",
    "\n",
    "from sklearn.metrics import accuracy_score\n",
    "from sklearn.utils import shuffle\n",
    "\n",
    "from sklearn.neural_network import MLPClassifier\n",
    "from sklearn.neighbors import KNeighborsClassifier\n",
    "from sklearn.linear_model import LogisticRegressionCV\n",
    "from sklearn.ensemble import RandomForestClassifier\n",
    "\n",
    "from sklearn.model_selection import GridSearchCV, train_test_split, cross_val_score"
   ]
  },
  {
   "cell_type": "code",
   "execution_count": 117,
   "metadata": {},
   "outputs": [],
   "source": [
    "data = pd.read_csv(\"../data/Emotion_Data_v2.csv\")"
   ]
  },
  {
   "cell_type": "code",
   "execution_count": 118,
   "metadata": {},
   "outputs": [
    {
     "data": {
      "text/html": [
       "<div>\n",
       "<style scoped>\n",
       "    .dataframe tbody tr th:only-of-type {\n",
       "        vertical-align: middle;\n",
       "    }\n",
       "\n",
       "    .dataframe tbody tr th {\n",
       "        vertical-align: top;\n",
       "    }\n",
       "\n",
       "    .dataframe thead th {\n",
       "        text-align: right;\n",
       "    }\n",
       "</style>\n",
       "<table border=\"1\" class=\"dataframe\">\n",
       "  <thead>\n",
       "    <tr style=\"text-align: right;\">\n",
       "      <th></th>\n",
       "      <th>Emotion</th>\n",
       "      <th>Chroma Standard Deviation</th>\n",
       "      <th>Croma Mean</th>\n",
       "      <th>MEL Standard Deviation</th>\n",
       "      <th>MEL Mean</th>\n",
       "      <th>Spectral Centroid Feature</th>\n",
       "      <th>MFCC Standard Deviation</th>\n",
       "      <th>MFCC Mean</th>\n",
       "      <th>MFCC 1st Derivative</th>\n",
       "      <th>MFCC 2nd Derivative</th>\n",
       "      <th>Root Mean Square Mean</th>\n",
       "      <th>Spectral Rolloff Mean</th>\n",
       "      <th>Spectral Rolloff Range</th>\n",
       "      <th>Zero Crossing Rate</th>\n",
       "    </tr>\n",
       "  </thead>\n",
       "  <tbody>\n",
       "    <tr>\n",
       "      <th>0</th>\n",
       "      <td>2</td>\n",
       "      <td>0.251560</td>\n",
       "      <td>0.611641</td>\n",
       "      <td>10.345727</td>\n",
       "      <td>1.482626</td>\n",
       "      <td>1851.787049</td>\n",
       "      <td>95.586288</td>\n",
       "      <td>-14.091299</td>\n",
       "      <td>0.045822</td>\n",
       "      <td>-0.102562</td>\n",
       "      <td>0.064489</td>\n",
       "      <td>327.987448</td>\n",
       "      <td>2691.650391</td>\n",
       "      <td>327.987448</td>\n",
       "    </tr>\n",
       "    <tr>\n",
       "      <th>1</th>\n",
       "      <td>0</td>\n",
       "      <td>0.235453</td>\n",
       "      <td>0.638080</td>\n",
       "      <td>23.354847</td>\n",
       "      <td>3.512083</td>\n",
       "      <td>1386.832519</td>\n",
       "      <td>96.253471</td>\n",
       "      <td>-9.005164</td>\n",
       "      <td>-0.040387</td>\n",
       "      <td>-0.095998</td>\n",
       "      <td>0.099006</td>\n",
       "      <td>277.470703</td>\n",
       "      <td>2777.783203</td>\n",
       "      <td>277.470703</td>\n",
       "    </tr>\n",
       "    <tr>\n",
       "      <th>2</th>\n",
       "      <td>4</td>\n",
       "      <td>0.244518</td>\n",
       "      <td>0.609958</td>\n",
       "      <td>23.899830</td>\n",
       "      <td>3.042638</td>\n",
       "      <td>2138.843511</td>\n",
       "      <td>83.991272</td>\n",
       "      <td>-17.577866</td>\n",
       "      <td>0.127689</td>\n",
       "      <td>-0.089570</td>\n",
       "      <td>0.101291</td>\n",
       "      <td>481.971571</td>\n",
       "      <td>2670.117188</td>\n",
       "      <td>481.971571</td>\n",
       "    </tr>\n",
       "    <tr>\n",
       "      <th>3</th>\n",
       "      <td>2</td>\n",
       "      <td>0.284806</td>\n",
       "      <td>0.528645</td>\n",
       "      <td>33.872307</td>\n",
       "      <td>3.438237</td>\n",
       "      <td>2073.102010</td>\n",
       "      <td>84.644112</td>\n",
       "      <td>-17.824776</td>\n",
       "      <td>-0.116098</td>\n",
       "      <td>-0.096451</td>\n",
       "      <td>0.098398</td>\n",
       "      <td>306.538759</td>\n",
       "      <td>2002.587891</td>\n",
       "      <td>306.538759</td>\n",
       "    </tr>\n",
       "    <tr>\n",
       "      <th>4</th>\n",
       "      <td>0</td>\n",
       "      <td>0.224481</td>\n",
       "      <td>0.658214</td>\n",
       "      <td>39.342068</td>\n",
       "      <td>5.511982</td>\n",
       "      <td>1481.499672</td>\n",
       "      <td>91.639870</td>\n",
       "      <td>-8.317816</td>\n",
       "      <td>-0.101314</td>\n",
       "      <td>-0.093935</td>\n",
       "      <td>0.126057</td>\n",
       "      <td>169.360352</td>\n",
       "      <td>1668.823242</td>\n",
       "      <td>169.360352</td>\n",
       "    </tr>\n",
       "    <tr>\n",
       "      <th>...</th>\n",
       "      <td>...</td>\n",
       "      <td>...</td>\n",
       "      <td>...</td>\n",
       "      <td>...</td>\n",
       "      <td>...</td>\n",
       "      <td>...</td>\n",
       "      <td>...</td>\n",
       "      <td>...</td>\n",
       "      <td>...</td>\n",
       "      <td>...</td>\n",
       "      <td>...</td>\n",
       "      <td>...</td>\n",
       "      <td>...</td>\n",
       "      <td>...</td>\n",
       "    </tr>\n",
       "    <tr>\n",
       "      <th>9891</th>\n",
       "      <td>7</td>\n",
       "      <td>0.332678</td>\n",
       "      <td>0.575813</td>\n",
       "      <td>0.364735</td>\n",
       "      <td>0.036160</td>\n",
       "      <td>2347.294889</td>\n",
       "      <td>167.522430</td>\n",
       "      <td>-51.517506</td>\n",
       "      <td>0.000119</td>\n",
       "      <td>-0.000630</td>\n",
       "      <td>0.007563</td>\n",
       "      <td>457.910156</td>\n",
       "      <td>4188.208008</td>\n",
       "      <td>457.910156</td>\n",
       "    </tr>\n",
       "    <tr>\n",
       "      <th>9892</th>\n",
       "      <td>7</td>\n",
       "      <td>0.325352</td>\n",
       "      <td>0.600506</td>\n",
       "      <td>0.889120</td>\n",
       "      <td>0.086041</td>\n",
       "      <td>2271.545838</td>\n",
       "      <td>156.242050</td>\n",
       "      <td>-45.163898</td>\n",
       "      <td>-0.000215</td>\n",
       "      <td>-0.000014</td>\n",
       "      <td>0.011557</td>\n",
       "      <td>429.840734</td>\n",
       "      <td>1733.422852</td>\n",
       "      <td>429.840734</td>\n",
       "    </tr>\n",
       "    <tr>\n",
       "      <th>9893</th>\n",
       "      <td>7</td>\n",
       "      <td>0.336933</td>\n",
       "      <td>0.577079</td>\n",
       "      <td>0.594145</td>\n",
       "      <td>0.058880</td>\n",
       "      <td>2275.967828</td>\n",
       "      <td>158.319168</td>\n",
       "      <td>-46.462028</td>\n",
       "      <td>-0.000471</td>\n",
       "      <td>-0.000133</td>\n",
       "      <td>0.009970</td>\n",
       "      <td>430.476273</td>\n",
       "      <td>1485.791016</td>\n",
       "      <td>430.476273</td>\n",
       "    </tr>\n",
       "    <tr>\n",
       "      <th>9894</th>\n",
       "      <td>7</td>\n",
       "      <td>0.310050</td>\n",
       "      <td>0.576939</td>\n",
       "      <td>0.937817</td>\n",
       "      <td>0.086885</td>\n",
       "      <td>2393.131729</td>\n",
       "      <td>147.918533</td>\n",
       "      <td>-40.915497</td>\n",
       "      <td>-0.001676</td>\n",
       "      <td>0.001688</td>\n",
       "      <td>0.013326</td>\n",
       "      <td>592.366229</td>\n",
       "      <td>6018.530273</td>\n",
       "      <td>592.366229</td>\n",
       "    </tr>\n",
       "    <tr>\n",
       "      <th>9895</th>\n",
       "      <td>7</td>\n",
       "      <td>0.304573</td>\n",
       "      <td>0.619620</td>\n",
       "      <td>1.017265</td>\n",
       "      <td>0.092349</td>\n",
       "      <td>2265.838255</td>\n",
       "      <td>152.754059</td>\n",
       "      <td>-42.369694</td>\n",
       "      <td>0.037825</td>\n",
       "      <td>0.002416</td>\n",
       "      <td>0.012323</td>\n",
       "      <td>501.984226</td>\n",
       "      <td>4403.540039</td>\n",
       "      <td>501.984226</td>\n",
       "    </tr>\n",
       "  </tbody>\n",
       "</table>\n",
       "<p>9896 rows × 14 columns</p>\n",
       "</div>"
      ],
      "text/plain": [
       "      Emotion  Chroma Standard Deviation  Croma Mean  MEL Standard Deviation  \\\n",
       "0           2                   0.251560    0.611641               10.345727   \n",
       "1           0                   0.235453    0.638080               23.354847   \n",
       "2           4                   0.244518    0.609958               23.899830   \n",
       "3           2                   0.284806    0.528645               33.872307   \n",
       "4           0                   0.224481    0.658214               39.342068   \n",
       "...       ...                        ...         ...                     ...   \n",
       "9891        7                   0.332678    0.575813                0.364735   \n",
       "9892        7                   0.325352    0.600506                0.889120   \n",
       "9893        7                   0.336933    0.577079                0.594145   \n",
       "9894        7                   0.310050    0.576939                0.937817   \n",
       "9895        7                   0.304573    0.619620                1.017265   \n",
       "\n",
       "      MEL Mean  Spectral Centroid Feature  MFCC Standard Deviation  MFCC Mean  \\\n",
       "0     1.482626                1851.787049                95.586288 -14.091299   \n",
       "1     3.512083                1386.832519                96.253471  -9.005164   \n",
       "2     3.042638                2138.843511                83.991272 -17.577866   \n",
       "3     3.438237                2073.102010                84.644112 -17.824776   \n",
       "4     5.511982                1481.499672                91.639870  -8.317816   \n",
       "...        ...                        ...                      ...        ...   \n",
       "9891  0.036160                2347.294889               167.522430 -51.517506   \n",
       "9892  0.086041                2271.545838               156.242050 -45.163898   \n",
       "9893  0.058880                2275.967828               158.319168 -46.462028   \n",
       "9894  0.086885                2393.131729               147.918533 -40.915497   \n",
       "9895  0.092349                2265.838255               152.754059 -42.369694   \n",
       "\n",
       "      MFCC 1st Derivative  MFCC 2nd Derivative  Root Mean Square Mean  \\\n",
       "0                0.045822            -0.102562               0.064489   \n",
       "1               -0.040387            -0.095998               0.099006   \n",
       "2                0.127689            -0.089570               0.101291   \n",
       "3               -0.116098            -0.096451               0.098398   \n",
       "4               -0.101314            -0.093935               0.126057   \n",
       "...                   ...                  ...                    ...   \n",
       "9891             0.000119            -0.000630               0.007563   \n",
       "9892            -0.000215            -0.000014               0.011557   \n",
       "9893            -0.000471            -0.000133               0.009970   \n",
       "9894            -0.001676             0.001688               0.013326   \n",
       "9895             0.037825             0.002416               0.012323   \n",
       "\n",
       "      Spectral Rolloff Mean  Spectral Rolloff Range  Zero Crossing Rate  \n",
       "0                327.987448             2691.650391          327.987448  \n",
       "1                277.470703             2777.783203          277.470703  \n",
       "2                481.971571             2670.117188          481.971571  \n",
       "3                306.538759             2002.587891          306.538759  \n",
       "4                169.360352             1668.823242          169.360352  \n",
       "...                     ...                     ...                 ...  \n",
       "9891             457.910156             4188.208008          457.910156  \n",
       "9892             429.840734             1733.422852          429.840734  \n",
       "9893             430.476273             1485.791016          430.476273  \n",
       "9894             592.366229             6018.530273          592.366229  \n",
       "9895             501.984226             4403.540039          501.984226  \n",
       "\n",
       "[9896 rows x 14 columns]"
      ]
     },
     "execution_count": 118,
     "metadata": {},
     "output_type": "execute_result"
    }
   ],
   "source": [
    "emotions = {'neutral': 0,\n",
    "            'calm': 1,\n",
    "            'happy': 2, \n",
    "            'sad': 3, \n",
    "            'angry': 4, \n",
    "            'fearful': 5, \n",
    "            'disgust': 6,\n",
    "            'surprised': 7, \n",
    "            'boredom': 8}\n",
    "data[\"Emotion\"] = data[\"Emotion\"].map(emotions)\n",
    "names = data[\"File Name\"]\n",
    "data = data.drop(\"File Name\", axis = 1)\n",
    "data"
   ]
  },
  {
   "cell_type": "code",
   "execution_count": 119,
   "metadata": {},
   "outputs": [],
   "source": [
    "y = data[\"Emotion\"]\n",
    "data = data.drop(\"Emotion\", axis = 1)"
   ]
  },
  {
   "cell_type": "code",
   "execution_count": 139,
   "metadata": {},
   "outputs": [],
   "source": [
    "X_train, X_test, y_train, y_test = train_test_split(data, y, test_size = 0.3)"
   ]
  },
  {
   "cell_type": "code",
   "execution_count": 140,
   "metadata": {},
   "outputs": [
    {
     "data": {
      "text/plain": [
       "((6927, 13), (2969, 13), (6927,), (2969,))"
      ]
     },
     "execution_count": 140,
     "metadata": {},
     "output_type": "execute_result"
    }
   ],
   "source": [
    "X_train.shape, X_test.shape, y_train.shape, y_test.shape"
   ]
  },
  {
   "cell_type": "markdown",
   "metadata": {},
   "source": [
    "#### Judging by the TSNE Random Forest and Logistic Regression may work nice. Also, let's check KNN"
   ]
  },
  {
   "cell_type": "markdown",
   "metadata": {},
   "source": [
    "## KNN"
   ]
  },
  {
   "cell_type": "code",
   "execution_count": 125,
   "metadata": {},
   "outputs": [],
   "source": [
    "knn = KNeighborsClassifier(n_neighbors = 103, n_jobs = -1)\n",
    "# params = {\n",
    "#     \"n_neighbors\": np.arange(15, 151, 2)\n",
    "# }\n",
    "# knn = GridSearchCV(knn, params, n_jobs = -1, verbose = 3)"
   ]
  },
  {
   "cell_type": "code",
   "execution_count": 126,
   "metadata": {},
   "outputs": [
    {
     "data": {
      "text/plain": [
       "KNeighborsClassifier(algorithm='auto', leaf_size=30, metric='minkowski',\n",
       "                     metric_params=None, n_jobs=-1, n_neighbors=103, p=2,\n",
       "                     weights='uniform')"
      ]
     },
     "execution_count": 126,
     "metadata": {},
     "output_type": "execute_result"
    }
   ],
   "source": [
    "knn.fit(X_train, y_train)"
   ]
  },
  {
   "cell_type": "code",
   "execution_count": 129,
   "metadata": {},
   "outputs": [],
   "source": [
    "# knn.best_params_"
   ]
  },
  {
   "cell_type": "code",
   "execution_count": 128,
   "metadata": {
    "scrolled": true
   },
   "outputs": [
    {
     "data": {
      "text/plain": [
       "0.3241505968778696"
      ]
     },
     "execution_count": 128,
     "metadata": {},
     "output_type": "execute_result"
    }
   ],
   "source": [
    "accuracy_score(knn.predict(X_test), y_test)"
   ]
  },
  {
   "cell_type": "markdown",
   "metadata": {},
   "source": [
    "##### Not bad for KNN, but think that other models will work better"
   ]
  },
  {
   "cell_type": "markdown",
   "metadata": {},
   "source": [
    "## Random Forest"
   ]
  },
  {
   "cell_type": "code",
   "execution_count": 141,
   "metadata": {},
   "outputs": [],
   "source": [
    "rf = RandomForestClassifier(n_estimators = 201, oob_score = True, n_jobs = -1, random_state = 11, \\\n",
    "                            max_depth = 15, verbose = 3)\n",
    "# params = {\n",
    "#     \"n_estimators\": [101, 201, 301],\n",
    "#     \"max_depth\": np.arange(12, 20),\n",
    "#     \"min_samples_split\": np.arange(5, 9)\n",
    "#     \"min_samples_leaf\": np.arange(3, 7),\n",
    "# }\n",
    "# \n",
    "# rf = GridSearchCV(rf, params, n_jobs = -1, verbose = 3)"
   ]
  },
  {
   "cell_type": "code",
   "execution_count": 142,
   "metadata": {
    "scrolled": true
   },
   "outputs": [
    {
     "name": "stderr",
     "output_type": "stream",
     "text": [
      "[Parallel(n_jobs=-1)]: Using backend LokyBackend with 8 concurrent workers.\n",
      "[Parallel(n_jobs=-1)]: Done  16 tasks      | elapsed:    0.3s\n",
      "[Parallel(n_jobs=-1)]: Done 186 out of 201 | elapsed:    2.4s remaining:    0.1s\n",
      "[Parallel(n_jobs=-1)]: Done 201 out of 201 | elapsed:    2.5s finished\n",
      "[Parallel(n_jobs=8)]: Using backend ThreadingBackend with 8 concurrent workers.\n",
      "[Parallel(n_jobs=8)]: Done  16 tasks      | elapsed:    0.0s\n",
      "[Parallel(n_jobs=8)]: Done 112 tasks      | elapsed:    0.4s\n",
      "[Parallel(n_jobs=8)]: Done 201 out of 201 | elapsed:    0.8s finished\n",
      "[Parallel(n_jobs=-1)]: Using backend LokyBackend with 8 concurrent workers.\n",
      "[Parallel(n_jobs=-1)]: Done  16 tasks      | elapsed:    0.3s\n",
      "[Parallel(n_jobs=-1)]: Done 186 out of 201 | elapsed:    2.6s remaining:    0.1s\n",
      "[Parallel(n_jobs=-1)]: Done 201 out of 201 | elapsed:    2.7s finished\n",
      "[Parallel(n_jobs=8)]: Using backend ThreadingBackend with 8 concurrent workers.\n",
      "[Parallel(n_jobs=8)]: Done  16 tasks      | elapsed:    0.1s\n",
      "[Parallel(n_jobs=8)]: Done 112 tasks      | elapsed:    0.5s\n",
      "[Parallel(n_jobs=8)]: Done 201 out of 201 | elapsed:    0.9s finished\n",
      "[Parallel(n_jobs=-1)]: Using backend LokyBackend with 8 concurrent workers.\n",
      "[Parallel(n_jobs=-1)]: Done  16 tasks      | elapsed:    0.4s\n",
      "[Parallel(n_jobs=-1)]: Done 186 out of 201 | elapsed:    2.8s remaining:    0.1s\n",
      "[Parallel(n_jobs=-1)]: Done 201 out of 201 | elapsed:    2.9s finished\n",
      "[Parallel(n_jobs=8)]: Using backend ThreadingBackend with 8 concurrent workers.\n",
      "[Parallel(n_jobs=8)]: Done  16 tasks      | elapsed:    0.0s\n",
      "[Parallel(n_jobs=8)]: Done 112 tasks      | elapsed:    0.5s\n",
      "[Parallel(n_jobs=8)]: Done 201 out of 201 | elapsed:    0.8s finished\n",
      "[Parallel(n_jobs=-1)]: Using backend LokyBackend with 8 concurrent workers.\n",
      "[Parallel(n_jobs=-1)]: Done  16 tasks      | elapsed:    0.4s\n",
      "[Parallel(n_jobs=-1)]: Done 186 out of 201 | elapsed:    2.8s remaining:    0.1s\n",
      "[Parallel(n_jobs=-1)]: Done 201 out of 201 | elapsed:    3.0s finished\n",
      "[Parallel(n_jobs=8)]: Using backend ThreadingBackend with 8 concurrent workers.\n",
      "[Parallel(n_jobs=8)]: Done  16 tasks      | elapsed:    0.0s\n",
      "[Parallel(n_jobs=8)]: Done 112 tasks      | elapsed:    0.6s\n",
      "[Parallel(n_jobs=8)]: Done 201 out of 201 | elapsed:    1.2s finished\n",
      "[Parallel(n_jobs=-1)]: Using backend LokyBackend with 8 concurrent workers.\n",
      "[Parallel(n_jobs=-1)]: Done  16 tasks      | elapsed:    0.4s\n",
      "[Parallel(n_jobs=-1)]: Done 186 out of 201 | elapsed:    2.6s remaining:    0.1s\n",
      "[Parallel(n_jobs=-1)]: Done 201 out of 201 | elapsed:    2.7s finished\n",
      "[Parallel(n_jobs=8)]: Using backend ThreadingBackend with 8 concurrent workers.\n",
      "[Parallel(n_jobs=8)]: Done  16 tasks      | elapsed:    0.1s\n",
      "[Parallel(n_jobs=8)]: Done 112 tasks      | elapsed:    0.5s\n",
      "[Parallel(n_jobs=8)]: Done 201 out of 201 | elapsed:    0.9s finished\n"
     ]
    },
    {
     "data": {
      "text/plain": [
       "array([0.41774892, 0.42640693, 0.43176895, 0.40866426, 0.42599278])"
      ]
     },
     "execution_count": 142,
     "metadata": {},
     "output_type": "execute_result"
    }
   ],
   "source": [
    "cross_val_score(rf, X_train, y_train)"
   ]
  },
  {
   "cell_type": "code",
   "execution_count": 143,
   "metadata": {
    "scrolled": true
   },
   "outputs": [
    {
     "name": "stderr",
     "output_type": "stream",
     "text": [
      "[Parallel(n_jobs=-1)]: Using backend ThreadingBackend with 8 concurrent workers.\n"
     ]
    },
    {
     "name": "stdout",
     "output_type": "stream",
     "text": [
      "building tree 1 of 201building tree 2 of 201\n",
      "\n",
      "building tree 3 of 201building tree 4 of 201building tree 5 of 201building tree 6 of 201building tree 7 of 201\n",
      "\n",
      "\n",
      "\n",
      "\n",
      "building tree 8 of 201\n",
      "building tree 9 of 201\n",
      "building tree 10 of 201building tree 11 of 201\n",
      "building tree 12 of 201\n",
      "building tree 13 of 201\n",
      "building tree 14 of 201\n",
      "building tree 15 of 201\n",
      "\n",
      "building tree 16 of 201\n",
      "building tree 17 of 201\n",
      "building tree 18 of 201building tree 19 of 201\n",
      "\n",
      "building tree 20 of 201\n",
      "building tree 21 of 201\n",
      "building tree 22 of 201\n",
      "building tree 23 of 201\n",
      "building tree 24 of 201\n",
      "building tree 25 of 201"
     ]
    },
    {
     "name": "stderr",
     "output_type": "stream",
     "text": [
      "[Parallel(n_jobs=-1)]: Done  16 tasks      | elapsed:    0.4s\n"
     ]
    },
    {
     "name": "stdout",
     "output_type": "stream",
     "text": [
      "\n",
      "building tree 26 of 201\n",
      "building tree 27 of 201building tree 28 of 201building tree 29 of 201\n",
      "\n",
      "\n",
      "building tree 30 of 201\n",
      "building tree 31 of 201building tree 32 of 201\n",
      "\n",
      "building tree 33 of 201\n",
      "building tree 34 of 201building tree 35 of 201\n",
      "\n",
      "building tree 36 of 201building tree 37 of 201\n",
      "\n",
      "building tree 38 of 201\n",
      "building tree 39 of 201\n",
      "building tree 40 of 201\n",
      "building tree 41 of 201\n",
      "building tree 42 of 201\n",
      "building tree 43 of 201building tree 44 of 201\n",
      "\n",
      "building tree 45 of 201\n",
      "building tree 46 of 201building tree 47 of 201building tree 48 of 201\n",
      "\n",
      "\n",
      "building tree 49 of 201\n",
      "building tree 50 of 201\n",
      "building tree 51 of 201building tree 52 of 201building tree 53 of 201\n",
      "\n",
      "\n",
      "building tree 54 of 201\n",
      "building tree 55 of 201building tree 56 of 201\n",
      "\n",
      "building tree 57 of 201\n",
      "building tree 58 of 201\n",
      "building tree 59 of 201\n",
      "building tree 60 of 201\n",
      "building tree 61 of 201building tree 62 of 201building tree 63 of 201\n",
      "\n",
      "\n",
      "building tree 64 of 201\n",
      "building tree 65 of 201building tree 66 of 201\n",
      "building tree 67 of 201\n",
      "\n",
      "building tree 68 of 201building tree 69 of 201\n",
      "\n",
      "building tree 70 of 201\n",
      "building tree 71 of 201\n",
      "building tree 72 of 201\n",
      "building tree 73 of 201building tree 74 of 201\n",
      "\n",
      "building tree 75 of 201building tree 76 of 201building tree 77 of 201\n",
      "\n",
      "\n",
      "building tree 78 of 201\n",
      "building tree 79 of 201\n",
      "building tree 80 of 201\n",
      "building tree 81 of 201\n",
      "building tree 82 of 201\n",
      "building tree 83 of 201\n",
      "building tree 84 of 201building tree 85 of 201building tree 86 of 201\n",
      "\n",
      "building tree 87 of 201\n",
      "building tree 88 of 201\n",
      "\n",
      "building tree 89 of 201\n",
      "building tree 90 of 201\n",
      "building tree 91 of 201building tree 92 of 201building tree 93 of 201\n",
      "\n",
      "\n",
      "building tree 94 of 201\n",
      "building tree 95 of 201\n",
      "building tree 96 of 201\n",
      "building tree 97 of 201\n",
      "building tree 98 of 201building tree 99 of 201\n",
      "building tree 100 of 201building tree 101 of 201\n",
      "\n",
      "building tree 102 of 201\n",
      "\n",
      "building tree 103 of 201building tree 104 of 201\n",
      "\n",
      "building tree 105 of 201\n",
      "building tree 106 of 201building tree 107 of 201\n",
      "\n",
      "building tree 108 of 201\n",
      "building tree 109 of 201building tree 110 of 201building tree 111 of 201\n",
      "\n",
      "\n",
      "building tree 112 of 201\n",
      "building tree 113 of 201building tree 114 of 201\n",
      "\n",
      "building tree 115 of 201building tree 116 of 201\n",
      "building tree 117 of 201\n",
      "\n",
      "building tree 118 of 201building tree 119 of 201\n",
      "\n",
      "building tree 120 of 201\n",
      "building tree 121 of 201"
     ]
    },
    {
     "name": "stderr",
     "output_type": "stream",
     "text": [
      "[Parallel(n_jobs=-1)]: Done 112 tasks      | elapsed:    1.9s\n"
     ]
    },
    {
     "name": "stdout",
     "output_type": "stream",
     "text": [
      "\n",
      "building tree 122 of 201\n",
      "building tree 123 of 201building tree 124 of 201building tree 125 of 201\n",
      "building tree 126 of 201\n",
      "building tree 127 of 201\n",
      "\n",
      "\n",
      "building tree 128 of 201\n",
      "building tree 129 of 201\n",
      "building tree 130 of 201\n",
      "building tree 131 of 201\n",
      "building tree 132 of 201\n",
      "building tree 133 of 201\n",
      "building tree 134 of 201\n",
      "building tree 135 of 201\n",
      "building tree 136 of 201\n",
      "building tree 137 of 201\n",
      "building tree 138 of 201\n",
      "building tree 139 of 201\n",
      "building tree 140 of 201\n",
      "building tree 141 of 201building tree 142 of 201building tree 143 of 201\n",
      "\n",
      "\n",
      "building tree 144 of 201\n",
      "building tree 145 of 201\n",
      "building tree 146 of 201building tree 147 of 201\n",
      "\n",
      "building tree 148 of 201building tree 149 of 201\n",
      "\n",
      "building tree 150 of 201\n",
      "building tree 151 of 201\n",
      "building tree 152 of 201\n",
      "building tree 153 of 201\n",
      "building tree 154 of 201\n",
      "building tree 155 of 201\n",
      "building tree 156 of 201\n",
      "building tree 157 of 201building tree 158 of 201building tree 159 of 201\n",
      "\n",
      "\n",
      "building tree 160 of 201\n",
      "building tree 161 of 201\n",
      "building tree 162 of 201\n",
      "building tree 163 of 201building tree 164 of 201\n",
      "building tree 165 of 201building tree 166 of 201\n",
      "\n",
      "building tree 167 of 201building tree 168 of 201\n",
      "\n",
      "\n",
      "building tree 169 of 201building tree 170 of 201\n",
      "building tree 171 of 201\n",
      "building tree 172 of 201\n",
      "\n",
      "building tree 173 of 201building tree 174 of 201building tree 175 of 201\n",
      "\n",
      "\n",
      "building tree 176 of 201\n",
      "building tree 177 of 201building tree 178 of 201\n",
      "\n",
      "building tree 179 of 201building tree 180 of 201\n",
      "building tree 181 of 201\n",
      "building tree 182 of 201\n",
      "\n",
      "building tree 183 of 201\n",
      "building tree 184 of 201\n",
      "building tree 185 of 201\n",
      "building tree 186 of 201building tree 187 of 201\n",
      "\n",
      "building tree 188 of 201building tree 189 of 201\n",
      "\n",
      "building tree 190 of 201\n",
      "building tree 191 of 201building tree 192 of 201\n",
      "\n",
      "building tree 193 of 201\n",
      "building tree 194 of 201building tree 195 of 201\n",
      "\n",
      "building tree 196 of 201\n",
      "building tree 197 of 201\n",
      "building tree 198 of 201\n",
      "building tree 199 of 201building tree 200 of 201\n",
      "\n",
      "building tree 201 of 201\n"
     ]
    },
    {
     "name": "stderr",
     "output_type": "stream",
     "text": [
      "[Parallel(n_jobs=-1)]: Done 201 out of 201 | elapsed:    3.0s finished\n"
     ]
    },
    {
     "data": {
      "text/plain": [
       "RandomForestClassifier(bootstrap=True, ccp_alpha=0.0, class_weight=None,\n",
       "                       criterion='gini', max_depth=15, max_features='auto',\n",
       "                       max_leaf_nodes=None, max_samples=None,\n",
       "                       min_impurity_decrease=0.0, min_impurity_split=None,\n",
       "                       min_samples_leaf=1, min_samples_split=2,\n",
       "                       min_weight_fraction_leaf=0.0, n_estimators=201,\n",
       "                       n_jobs=-1, oob_score=True, random_state=11, verbose=3,\n",
       "                       warm_start=False)"
      ]
     },
     "execution_count": 143,
     "metadata": {},
     "output_type": "execute_result"
    }
   ],
   "source": [
    "rf.fit(X_train, y_train)"
   ]
  },
  {
   "cell_type": "code",
   "execution_count": 144,
   "metadata": {},
   "outputs": [
    {
     "data": {
      "text/plain": [
       "array([ 5,  6,  7,  8,  9, 10, 11])"
      ]
     },
     "execution_count": 144,
     "metadata": {},
     "output_type": "execute_result"
    }
   ],
   "source": [
    "np.arange(5, 12)"
   ]
  },
  {
   "cell_type": "code",
   "execution_count": 145,
   "metadata": {
    "scrolled": true
   },
   "outputs": [],
   "source": [
    "# rf.best_params_"
   ]
  },
  {
   "cell_type": "code",
   "execution_count": 146,
   "metadata": {
    "scrolled": false
   },
   "outputs": [
    {
     "name": "stderr",
     "output_type": "stream",
     "text": [
      "[Parallel(n_jobs=8)]: Using backend ThreadingBackend with 8 concurrent workers.\n",
      "[Parallel(n_jobs=8)]: Done  16 tasks      | elapsed:    0.0s\n",
      "[Parallel(n_jobs=8)]: Done 112 tasks      | elapsed:    0.1s\n",
      "[Parallel(n_jobs=8)]: Done 201 out of 201 | elapsed:    0.3s finished\n"
     ]
    },
    {
     "data": {
      "text/plain": [
       "0.44392051195688786"
      ]
     },
     "execution_count": 146,
     "metadata": {},
     "output_type": "execute_result"
    }
   ],
   "source": [
    "accuracy_score(rf.predict(X_test), y_test)"
   ]
  },
  {
   "cell_type": "code",
   "execution_count": 147,
   "metadata": {},
   "outputs": [
    {
     "data": {
      "text/html": [
       "<div>\n",
       "<style scoped>\n",
       "    .dataframe tbody tr th:only-of-type {\n",
       "        vertical-align: middle;\n",
       "    }\n",
       "\n",
       "    .dataframe tbody tr th {\n",
       "        vertical-align: top;\n",
       "    }\n",
       "\n",
       "    .dataframe thead th {\n",
       "        text-align: right;\n",
       "    }\n",
       "</style>\n",
       "<table border=\"1\" class=\"dataframe\">\n",
       "  <thead>\n",
       "    <tr style=\"text-align: right;\">\n",
       "      <th></th>\n",
       "      <th>feature</th>\n",
       "      <th>coef</th>\n",
       "    </tr>\n",
       "  </thead>\n",
       "  <tbody>\n",
       "    <tr>\n",
       "      <th>3</th>\n",
       "      <td>MEL Mean</td>\n",
       "      <td>0.094579</td>\n",
       "    </tr>\n",
       "    <tr>\n",
       "      <th>6</th>\n",
       "      <td>MFCC Mean</td>\n",
       "      <td>0.089028</td>\n",
       "    </tr>\n",
       "    <tr>\n",
       "      <th>5</th>\n",
       "      <td>MFCC Standard Deviation</td>\n",
       "      <td>0.086904</td>\n",
       "    </tr>\n",
       "    <tr>\n",
       "      <th>9</th>\n",
       "      <td>Root Mean Square Mean</td>\n",
       "      <td>0.085434</td>\n",
       "    </tr>\n",
       "    <tr>\n",
       "      <th>2</th>\n",
       "      <td>MEL Standard Deviation</td>\n",
       "      <td>0.079755</td>\n",
       "    </tr>\n",
       "    <tr>\n",
       "      <th>11</th>\n",
       "      <td>Spectral Rolloff Range</td>\n",
       "      <td>0.076172</td>\n",
       "    </tr>\n",
       "    <tr>\n",
       "      <th>12</th>\n",
       "      <td>Zero Crossing Rate</td>\n",
       "      <td>0.076038</td>\n",
       "    </tr>\n",
       "    <tr>\n",
       "      <th>10</th>\n",
       "      <td>Spectral Rolloff Mean</td>\n",
       "      <td>0.074537</td>\n",
       "    </tr>\n",
       "    <tr>\n",
       "      <th>0</th>\n",
       "      <td>Chroma Standard Deviation</td>\n",
       "      <td>0.074506</td>\n",
       "    </tr>\n",
       "    <tr>\n",
       "      <th>4</th>\n",
       "      <td>Spectral Centroid Feature</td>\n",
       "      <td>0.070493</td>\n",
       "    </tr>\n",
       "    <tr>\n",
       "      <th>1</th>\n",
       "      <td>Croma Mean</td>\n",
       "      <td>0.068801</td>\n",
       "    </tr>\n",
       "    <tr>\n",
       "      <th>8</th>\n",
       "      <td>MFCC 2nd Derivative</td>\n",
       "      <td>0.062888</td>\n",
       "    </tr>\n",
       "    <tr>\n",
       "      <th>7</th>\n",
       "      <td>MFCC 1st Derivative</td>\n",
       "      <td>0.060865</td>\n",
       "    </tr>\n",
       "  </tbody>\n",
       "</table>\n",
       "</div>"
      ],
      "text/plain": [
       "                      feature      coef\n",
       "3                    MEL Mean  0.094579\n",
       "6                   MFCC Mean  0.089028\n",
       "5     MFCC Standard Deviation  0.086904\n",
       "9       Root Mean Square Mean  0.085434\n",
       "2      MEL Standard Deviation  0.079755\n",
       "11     Spectral Rolloff Range  0.076172\n",
       "12         Zero Crossing Rate  0.076038\n",
       "10      Spectral Rolloff Mean  0.074537\n",
       "0   Chroma Standard Deviation  0.074506\n",
       "4   Spectral Centroid Feature  0.070493\n",
       "1                  Croma Mean  0.068801\n",
       "8         MFCC 2nd Derivative  0.062888\n",
       "7         MFCC 1st Derivative  0.060865"
      ]
     },
     "execution_count": 147,
     "metadata": {},
     "output_type": "execute_result"
    }
   ],
   "source": [
    "coefs = pd.DataFrame({\"feature\": X_train.columns,\n",
    "             \"coef\": rf.feature_importances_}).sort_values(by = \"coef\", ascending = False)\n",
    "coefs"
   ]
  },
  {
   "cell_type": "code",
   "execution_count": 148,
   "metadata": {},
   "outputs": [
    {
     "data": {
      "image/png": "[encoded data removed]",
      "text/plain": [
       "<Figure size 432x288 with 1 Axes>"
      ]
     },
     "metadata": {
      "needs_background": "light"
     },
     "output_type": "display_data"
    }
   ],
   "source": [
    "sns.scatterplot(x = coefs.index, y = coefs[\"coef\"]);"
   ]
  },
  {
   "cell_type": "markdown",
   "metadata": {},
   "source": [
    "##### We see kinda uniform distribution, but all coefs are near to 0. That's nice, but accuracy is not the best"
   ]
  },
  {
   "cell_type": "markdown",
   "metadata": {},
   "source": [
    "## Logistic Regression without scaling"
   ]
  },
  {
   "cell_type": "code",
   "execution_count": 149,
   "metadata": {},
   "outputs": [],
   "source": [
    "logit = LogisticRegressionCV(Cs = [10, 5, 1, 0.1, 0.01, 0.001], class_weight = \"balanced\", \\\n",
    "                             random_state = 11, verbose = 3, n_jobs = -1)"
   ]
  },
  {
   "cell_type": "code",
   "execution_count": 150,
   "metadata": {},
   "outputs": [
    {
     "name": "stderr",
     "output_type": "stream",
     "text": [
      "[Parallel(n_jobs=-1)]: Using backend LokyBackend with 8 concurrent workers.\n",
      "[Parallel(n_jobs=-1)]: Done   2 out of   5 | elapsed:    4.0s remaining:    6.0s\n",
      "[Parallel(n_jobs=-1)]: Done   5 out of   5 | elapsed:    4.1s finished\n",
      "c:\\users\\asus\\appdata\\local\\programs\\python\\python36\\lib\\site-packages\\sklearn\\linear_model\\_logistic.py:940: ConvergenceWarning: lbfgs failed to converge (status=1):\n",
      "STOP: TOTAL NO. of ITERATIONS REACHED LIMIT.\n",
      "\n",
      "Increase the number of iterations (max_iter) or scale the data as shown in:\n",
      "    https://scikit-learn.org/stable/modules/preprocessing.html\n",
      "Please also refer to the documentation for alternative solver options:\n",
      "    https://scikit-learn.org/stable/modules/linear_model.html#logistic-regression\n",
      "  extra_warning_msg=_LOGISTIC_SOLVER_CONVERGENCE_MSG)\n"
     ]
    },
    {
     "data": {
      "text/plain": [
       "LogisticRegressionCV(Cs=[10, 5, 1, 0.1, 0.01, 0.001], class_weight='balanced',\n",
       "                     cv=None, dual=False, fit_intercept=True,\n",
       "                     intercept_scaling=1.0, l1_ratios=None, max_iter=100,\n",
       "                     multi_class='auto', n_jobs=-1, penalty='l2',\n",
       "                     random_state=11, refit=True, scoring=None, solver='lbfgs',\n",
       "                     tol=0.0001, verbose=3)"
      ]
     },
     "execution_count": 150,
     "metadata": {},
     "output_type": "execute_result"
    }
   ],
   "source": [
    "logit.fit(X_train, y_train)"
   ]
  },
  {
   "cell_type": "code",
   "execution_count": 151,
   "metadata": {},
   "outputs": [
    {
     "data": {
      "text/plain": [
       "array([0.001, 0.001, 0.001, 0.001, 0.001, 0.001, 0.001, 0.001, 0.001])"
      ]
     },
     "execution_count": 151,
     "metadata": {},
     "output_type": "execute_result"
    }
   ],
   "source": [
    "logit.C_"
   ]
  },
  {
   "cell_type": "code",
   "execution_count": 152,
   "metadata": {},
   "outputs": [
    {
     "data": {
      "text/plain": [
       "0.340518693162681"
      ]
     },
     "execution_count": 152,
     "metadata": {},
     "output_type": "execute_result"
    }
   ],
   "source": [
    "accuracy_score(logit.predict(X_test), y_test)"
   ]
  },
  {
   "cell_type": "code",
   "execution_count": 153,
   "metadata": {},
   "outputs": [
    {
     "data": {
      "text/html": [
       "<div>\n",
       "<style scoped>\n",
       "    .dataframe tbody tr th:only-of-type {\n",
       "        vertical-align: middle;\n",
       "    }\n",
       "\n",
       "    .dataframe tbody tr th {\n",
       "        vertical-align: top;\n",
       "    }\n",
       "\n",
       "    .dataframe thead th {\n",
       "        text-align: right;\n",
       "    }\n",
       "</style>\n",
       "<table border=\"1\" class=\"dataframe\">\n",
       "  <thead>\n",
       "    <tr style=\"text-align: right;\">\n",
       "      <th></th>\n",
       "      <th>feature</th>\n",
       "      <th>coef</th>\n",
       "    </tr>\n",
       "  </thead>\n",
       "  <tbody>\n",
       "    <tr>\n",
       "      <th>6</th>\n",
       "      <td>MFCC Mean</td>\n",
       "      <td>0.069000</td>\n",
       "    </tr>\n",
       "    <tr>\n",
       "      <th>5</th>\n",
       "      <td>MFCC Standard Deviation</td>\n",
       "      <td>0.031321</td>\n",
       "    </tr>\n",
       "    <tr>\n",
       "      <th>3</th>\n",
       "      <td>MEL Mean</td>\n",
       "      <td>0.001679</td>\n",
       "    </tr>\n",
       "    <tr>\n",
       "      <th>1</th>\n",
       "      <td>Croma Mean</td>\n",
       "      <td>0.000923</td>\n",
       "    </tr>\n",
       "    <tr>\n",
       "      <th>0</th>\n",
       "      <td>Chroma Standard Deviation</td>\n",
       "      <td>0.000567</td>\n",
       "    </tr>\n",
       "    <tr>\n",
       "      <th>9</th>\n",
       "      <td>Root Mean Square Mean</td>\n",
       "      <td>0.000184</td>\n",
       "    </tr>\n",
       "    <tr>\n",
       "      <th>11</th>\n",
       "      <td>Spectral Rolloff Range</td>\n",
       "      <td>0.000141</td>\n",
       "    </tr>\n",
       "    <tr>\n",
       "      <th>7</th>\n",
       "      <td>MFCC 1st Derivative</td>\n",
       "      <td>-0.000046</td>\n",
       "    </tr>\n",
       "    <tr>\n",
       "      <th>8</th>\n",
       "      <td>MFCC 2nd Derivative</td>\n",
       "      <td>-0.000157</td>\n",
       "    </tr>\n",
       "    <tr>\n",
       "      <th>10</th>\n",
       "      <td>Spectral Rolloff Mean</td>\n",
       "      <td>-0.000452</td>\n",
       "    </tr>\n",
       "    <tr>\n",
       "      <th>12</th>\n",
       "      <td>Zero Crossing Rate</td>\n",
       "      <td>-0.000452</td>\n",
       "    </tr>\n",
       "    <tr>\n",
       "      <th>4</th>\n",
       "      <td>Spectral Centroid Feature</td>\n",
       "      <td>-0.001154</td>\n",
       "    </tr>\n",
       "    <tr>\n",
       "      <th>2</th>\n",
       "      <td>MEL Standard Deviation</td>\n",
       "      <td>-0.007040</td>\n",
       "    </tr>\n",
       "  </tbody>\n",
       "</table>\n",
       "</div>"
      ],
      "text/plain": [
       "                      feature      coef\n",
       "6                   MFCC Mean  0.069000\n",
       "5     MFCC Standard Deviation  0.031321\n",
       "3                    MEL Mean  0.001679\n",
       "1                  Croma Mean  0.000923\n",
       "0   Chroma Standard Deviation  0.000567\n",
       "9       Root Mean Square Mean  0.000184\n",
       "11     Spectral Rolloff Range  0.000141\n",
       "7         MFCC 1st Derivative -0.000046\n",
       "8         MFCC 2nd Derivative -0.000157\n",
       "10      Spectral Rolloff Mean -0.000452\n",
       "12         Zero Crossing Rate -0.000452\n",
       "4   Spectral Centroid Feature -0.001154\n",
       "2      MEL Standard Deviation -0.007040"
      ]
     },
     "execution_count": 153,
     "metadata": {},
     "output_type": "execute_result"
    }
   ],
   "source": [
    "coefs = pd.DataFrame({\"feature\": X_train.columns,\n",
    "             \"coef\": logit.coef_[0]}).sort_values(by = \"coef\", ascending = False)\n",
    "coefs"
   ]
  },
  {
   "cell_type": "code",
   "execution_count": 154,
   "metadata": {},
   "outputs": [
    {
     "data": {
      "image/png": "[encoded data removed]",
      "text/plain": [
       "<Figure size 432x288 with 1 Axes>"
      ]
     },
     "metadata": {
      "needs_background": "light"
     },
     "output_type": "display_data"
    }
   ],
   "source": [
    "sns.scatterplot(x = coefs.index, y = coefs[\"coef\"]);"
   ]
  },
  {
   "cell_type": "markdown",
   "metadata": {},
   "source": [
    "##### 0s. Need to use scaling"
   ]
  },
  {
   "cell_type": "markdown",
   "metadata": {},
   "source": [
    "## Logistic Regression with scaling"
   ]
  },
  {
   "cell_type": "code",
   "execution_count": 155,
   "metadata": {},
   "outputs": [],
   "source": [
    "from sklearn.preprocessing import StandardScaler"
   ]
  },
  {
   "cell_type": "code",
   "execution_count": 156,
   "metadata": {},
   "outputs": [],
   "source": [
    "# logit = LogisticRegressionCV(class_weight = \"balanced\", random_state = 11, verbose = 3, n_jobs = -1)\n",
    "# params = {\n",
    "#     \"C\": [10, 5, 1, 0.1, 0.01, 0.001]\n",
    "# }\n",
    "# logit = GridSearchCV(logit, params, n_jobs = -1, verbose = 3)"
   ]
  },
  {
   "cell_type": "code",
   "execution_count": 157,
   "metadata": {},
   "outputs": [
    {
     "name": "stderr",
     "output_type": "stream",
     "text": [
      "[Parallel(n_jobs=-1)]: Using backend LokyBackend with 8 concurrent workers.\n",
      "[Parallel(n_jobs=-1)]: Done   2 out of   5 | elapsed:    3.2s remaining:    4.8s\n",
      "[Parallel(n_jobs=-1)]: Done   5 out of   5 | elapsed:    3.3s finished\n",
      "c:\\users\\asus\\appdata\\local\\programs\\python\\python36\\lib\\site-packages\\sklearn\\linear_model\\_logistic.py:940: ConvergenceWarning: lbfgs failed to converge (status=1):\n",
      "STOP: TOTAL NO. of ITERATIONS REACHED LIMIT.\n",
      "\n",
      "Increase the number of iterations (max_iter) or scale the data as shown in:\n",
      "    https://scikit-learn.org/stable/modules/preprocessing.html\n",
      "Please also refer to the documentation for alternative solver options:\n",
      "    https://scikit-learn.org/stable/modules/linear_model.html#logistic-regression\n",
      "  extra_warning_msg=_LOGISTIC_SOLVER_CONVERGENCE_MSG)\n"
     ]
    },
    {
     "data": {
      "text/plain": [
       "LogisticRegressionCV(Cs=[10, 5, 1, 0.1, 0.01, 0.001], class_weight='balanced',\n",
       "                     cv=None, dual=False, fit_intercept=True,\n",
       "                     intercept_scaling=1.0, l1_ratios=None, max_iter=100,\n",
       "                     multi_class='auto', n_jobs=-1, penalty='l2',\n",
       "                     random_state=11, refit=True, scoring=None, solver='lbfgs',\n",
       "                     tol=0.0001, verbose=3)"
      ]
     },
     "execution_count": 157,
     "metadata": {},
     "output_type": "execute_result"
    }
   ],
   "source": [
    "logit = LogisticRegressionCV(Cs = [10, 5, 1, 0.1, 0.01, 0.001], class_weight = \"balanced\", \\\n",
    "                             random_state = 11, verbose = 3, n_jobs = -1)\n",
    "logit.fit(StandardScaler().fit_transform(X_train), y_train)"
   ]
  },
  {
   "cell_type": "code",
   "execution_count": 158,
   "metadata": {},
   "outputs": [
    {
     "data": {
      "text/plain": [
       "0.3647692825867295"
      ]
     },
     "execution_count": 158,
     "metadata": {},
     "output_type": "execute_result"
    }
   ],
   "source": [
    "accuracy_score(logit.predict(StandardScaler().fit_transform(X_test)), y_test)"
   ]
  },
  {
   "cell_type": "code",
   "execution_count": 159,
   "metadata": {},
   "outputs": [
    {
     "data": {
      "text/html": [
       "<div>\n",
       "<style scoped>\n",
       "    .dataframe tbody tr th:only-of-type {\n",
       "        vertical-align: middle;\n",
       "    }\n",
       "\n",
       "    .dataframe tbody tr th {\n",
       "        vertical-align: top;\n",
       "    }\n",
       "\n",
       "    .dataframe thead th {\n",
       "        text-align: right;\n",
       "    }\n",
       "</style>\n",
       "<table border=\"1\" class=\"dataframe\">\n",
       "  <thead>\n",
       "    <tr style=\"text-align: right;\">\n",
       "      <th></th>\n",
       "      <th>feature</th>\n",
       "      <th>coef</th>\n",
       "    </tr>\n",
       "  </thead>\n",
       "  <tbody>\n",
       "    <tr>\n",
       "      <th>5</th>\n",
       "      <td>MFCC Standard Deviation</td>\n",
       "      <td>1.684174</td>\n",
       "    </tr>\n",
       "    <tr>\n",
       "      <th>9</th>\n",
       "      <td>Root Mean Square Mean</td>\n",
       "      <td>1.255663</td>\n",
       "    </tr>\n",
       "    <tr>\n",
       "      <th>6</th>\n",
       "      <td>MFCC Mean</td>\n",
       "      <td>1.242924</td>\n",
       "    </tr>\n",
       "    <tr>\n",
       "      <th>11</th>\n",
       "      <td>Spectral Rolloff Range</td>\n",
       "      <td>0.237449</td>\n",
       "    </tr>\n",
       "    <tr>\n",
       "      <th>3</th>\n",
       "      <td>MEL Mean</td>\n",
       "      <td>0.068699</td>\n",
       "    </tr>\n",
       "    <tr>\n",
       "      <th>4</th>\n",
       "      <td>Spectral Centroid Feature</td>\n",
       "      <td>0.029546</td>\n",
       "    </tr>\n",
       "    <tr>\n",
       "      <th>7</th>\n",
       "      <td>MFCC 1st Derivative</td>\n",
       "      <td>-0.032668</td>\n",
       "    </tr>\n",
       "    <tr>\n",
       "      <th>0</th>\n",
       "      <td>Chroma Standard Deviation</td>\n",
       "      <td>-0.071828</td>\n",
       "    </tr>\n",
       "    <tr>\n",
       "      <th>8</th>\n",
       "      <td>MFCC 2nd Derivative</td>\n",
       "      <td>-0.147165</td>\n",
       "    </tr>\n",
       "    <tr>\n",
       "      <th>10</th>\n",
       "      <td>Spectral Rolloff Mean</td>\n",
       "      <td>-0.175163</td>\n",
       "    </tr>\n",
       "    <tr>\n",
       "      <th>12</th>\n",
       "      <td>Zero Crossing Rate</td>\n",
       "      <td>-0.175163</td>\n",
       "    </tr>\n",
       "    <tr>\n",
       "      <th>1</th>\n",
       "      <td>Croma Mean</td>\n",
       "      <td>-0.205769</td>\n",
       "    </tr>\n",
       "    <tr>\n",
       "      <th>2</th>\n",
       "      <td>MEL Standard Deviation</td>\n",
       "      <td>-1.463660</td>\n",
       "    </tr>\n",
       "  </tbody>\n",
       "</table>\n",
       "</div>"
      ],
      "text/plain": [
       "                      feature      coef\n",
       "5     MFCC Standard Deviation  1.684174\n",
       "9       Root Mean Square Mean  1.255663\n",
       "6                   MFCC Mean  1.242924\n",
       "11     Spectral Rolloff Range  0.237449\n",
       "3                    MEL Mean  0.068699\n",
       "4   Spectral Centroid Feature  0.029546\n",
       "7         MFCC 1st Derivative -0.032668\n",
       "0   Chroma Standard Deviation -0.071828\n",
       "8         MFCC 2nd Derivative -0.147165\n",
       "10      Spectral Rolloff Mean -0.175163\n",
       "12         Zero Crossing Rate -0.175163\n",
       "1                  Croma Mean -0.205769\n",
       "2      MEL Standard Deviation -1.463660"
      ]
     },
     "execution_count": 159,
     "metadata": {},
     "output_type": "execute_result"
    }
   ],
   "source": [
    "coefs = pd.DataFrame({\"feature\": X_train.columns,\n",
    "             \"coef\": logit.coef_[0]}).sort_values(by = \"coef\", ascending = False)\n",
    "coefs"
   ]
  },
  {
   "cell_type": "code",
   "execution_count": 160,
   "metadata": {},
   "outputs": [
    {
     "data": {
      "image/png": "[encoded data removed]",
      "text/plain": [
       "<Figure size 432x288 with 1 Axes>"
      ]
     },
     "metadata": {
      "needs_background": "light"
     },
     "output_type": "display_data"
    }
   ],
   "source": [
    "sns.scatterplot(x = coefs.index, y = coefs[\"coef\"]);"
   ]
  },
  {
   "cell_type": "markdown",
   "metadata": {},
   "source": [
    "##### Basically, I didn't expect Logistic Regression to work so much worse with scaling"
   ]
  },
  {
   "cell_type": "markdown",
   "metadata": {},
   "source": [
    "# MLP"
   ]
  },
  {
   "cell_type": "code",
   "execution_count": 161,
   "metadata": {},
   "outputs": [],
   "source": [
    "net = MLPClassifier(hidden_layer_sizes = tuple([50] * 10), alpha = 0.01, learning_rate = \"constant\", \\\n",
    "                    random_state = 11, verbose = 10)\n",
    "params = {\n",
    "    \"alpha\": [0.0001, 0.001, 0.01, 0.1, 1]\n",
    "}\n",
    "\n",
    "net = GridSearchCV(net, params, n_jobs = -1, verbose = 10)"
   ]
  },
  {
   "cell_type": "code",
   "execution_count": 162,
   "metadata": {
    "scrolled": true
   },
   "outputs": [
    {
     "name": "stdout",
     "output_type": "stream",
     "text": [
      "Fitting 5 folds for each of 5 candidates, totalling 25 fits\n"
     ]
    },
    {
     "name": "stderr",
     "output_type": "stream",
     "text": [
      "[Parallel(n_jobs=-1)]: Using backend LokyBackend with 8 concurrent workers.\n",
      "[Parallel(n_jobs=-1)]: Done   2 tasks      | elapsed:   41.2s\n",
      "[Parallel(n_jobs=-1)]: Done   9 tasks      | elapsed:  1.3min\n",
      "[Parallel(n_jobs=-1)]: Done  13 out of  25 | elapsed:  1.7min remaining:  1.6min\n",
      "[Parallel(n_jobs=-1)]: Done  16 out of  25 | elapsed:  1.8min remaining:  1.0min\n",
      "[Parallel(n_jobs=-1)]: Done  19 out of  25 | elapsed:  2.2min remaining:   41.7s\n",
      "[Parallel(n_jobs=-1)]: Done  22 out of  25 | elapsed:  2.6min remaining:   21.5s\n",
      "[Parallel(n_jobs=-1)]: Done  25 out of  25 | elapsed:  2.7min remaining:    0.0s\n",
      "[Parallel(n_jobs=-1)]: Done  25 out of  25 | elapsed:  2.7min finished\n"
     ]
    },
    {
     "name": "stdout",
     "output_type": "stream",
     "text": [
      "Iteration 1, loss = 2.75771960\n",
      "Iteration 2, loss = 1.79440126\n",
      "Iteration 3, loss = 1.70613476\n",
      "Iteration 4, loss = 1.70239582\n",
      "Iteration 5, loss = 1.68306797\n",
      "Iteration 6, loss = 1.67194479\n",
      "Iteration 7, loss = 1.67062299\n",
      "Iteration 8, loss = 1.65475701\n",
      "Iteration 9, loss = 1.65070507\n",
      "Iteration 10, loss = 1.64533353\n",
      "Iteration 11, loss = 1.64694805\n",
      "Iteration 12, loss = 1.62943669\n",
      "Iteration 13, loss = 1.63918642\n",
      "Iteration 14, loss = 1.63682132\n",
      "Iteration 15, loss = 1.63506852\n",
      "Iteration 16, loss = 1.62255716\n",
      "Iteration 17, loss = 1.62480155\n",
      "Iteration 18, loss = 1.62318260\n",
      "Iteration 19, loss = 1.61744796\n",
      "Iteration 20, loss = 1.61840823\n",
      "Iteration 21, loss = 1.61855933\n",
      "Iteration 22, loss = 1.60280269\n",
      "Iteration 23, loss = 1.60832028\n",
      "Iteration 24, loss = 1.59528845\n",
      "Iteration 25, loss = 1.59113233\n",
      "Iteration 26, loss = 1.58175779\n",
      "Iteration 27, loss = 1.58282638\n",
      "Iteration 28, loss = 1.59686970\n",
      "Iteration 29, loss = 1.58844442\n",
      "Iteration 30, loss = 1.58153614\n",
      "Iteration 31, loss = 1.57403369\n",
      "Iteration 32, loss = 1.57883578\n",
      "Iteration 33, loss = 1.56974519\n",
      "Iteration 34, loss = 1.57647925\n",
      "Iteration 35, loss = 1.56503541\n",
      "Iteration 36, loss = 1.57453668\n",
      "Iteration 37, loss = 1.56639323\n",
      "Iteration 38, loss = 1.56220156\n",
      "Iteration 39, loss = 1.57799032\n",
      "Iteration 40, loss = 1.57179274\n",
      "Iteration 41, loss = 1.56728349\n",
      "Iteration 42, loss = 1.57373696\n",
      "Iteration 43, loss = 1.57243201\n",
      "Iteration 44, loss = 1.54824808\n",
      "Iteration 45, loss = 1.56405269\n",
      "Iteration 46, loss = 1.53848016\n",
      "Iteration 47, loss = 1.53975825\n",
      "Iteration 48, loss = 1.55533195\n",
      "Iteration 49, loss = 1.54119991\n",
      "Iteration 50, loss = 1.54984393\n",
      "Iteration 51, loss = 1.53377260\n",
      "Iteration 52, loss = 1.52961038\n",
      "Iteration 53, loss = 1.54926685\n",
      "Iteration 54, loss = 1.55361232\n",
      "Iteration 55, loss = 1.52124519\n",
      "Iteration 56, loss = 1.52474003\n",
      "Iteration 57, loss = 1.54661949\n",
      "Iteration 58, loss = 1.53639541\n",
      "Iteration 59, loss = 1.52156090\n",
      "Iteration 60, loss = 1.53233202\n",
      "Iteration 61, loss = 1.52320365\n",
      "Iteration 62, loss = 1.52601976\n",
      "Iteration 63, loss = 1.55663784\n",
      "Iteration 64, loss = 1.51763920\n",
      "Iteration 65, loss = 1.51910193\n",
      "Iteration 66, loss = 1.51552326\n",
      "Iteration 67, loss = 1.53291068\n",
      "Iteration 68, loss = 1.51714422\n",
      "Iteration 69, loss = 1.50747456\n",
      "Iteration 70, loss = 1.51270838\n",
      "Iteration 71, loss = 1.51096547\n",
      "Iteration 72, loss = 1.52659859\n",
      "Iteration 73, loss = 1.50635713\n",
      "Iteration 74, loss = 1.51810019\n",
      "Iteration 75, loss = 1.50343576\n",
      "Iteration 76, loss = 1.50973817\n",
      "Iteration 77, loss = 1.49472569\n",
      "Iteration 78, loss = 1.49528689\n",
      "Iteration 79, loss = 1.50824279\n",
      "Iteration 80, loss = 1.49034630\n",
      "Iteration 81, loss = 1.50223292\n",
      "Iteration 82, loss = 1.48805701\n",
      "Iteration 83, loss = 1.50731409\n",
      "Iteration 84, loss = 1.49824705\n",
      "Iteration 85, loss = 1.51080165\n",
      "Iteration 86, loss = 1.50237536\n",
      "Iteration 87, loss = 1.49497721\n",
      "Iteration 88, loss = 1.49443802\n",
      "Iteration 89, loss = 1.48879670\n",
      "Iteration 90, loss = 1.49547747\n",
      "Iteration 91, loss = 1.50150192\n",
      "Iteration 92, loss = 1.49301471\n",
      "Iteration 93, loss = 1.48464527\n",
      "Iteration 94, loss = 1.49307895\n",
      "Iteration 95, loss = 1.49645656\n",
      "Iteration 96, loss = 1.48654701\n",
      "Iteration 97, loss = 1.48614138\n",
      "Iteration 98, loss = 1.47802346\n",
      "Iteration 99, loss = 1.48187979\n",
      "Iteration 100, loss = 1.50026439\n",
      "Iteration 101, loss = 1.48943346\n",
      "Iteration 102, loss = 1.49072481\n",
      "Iteration 103, loss = 1.49775503\n",
      "Iteration 104, loss = 1.47544255\n",
      "Iteration 105, loss = 1.48003802\n",
      "Iteration 106, loss = 1.47629480\n",
      "Iteration 107, loss = 1.47722323\n",
      "Iteration 108, loss = 1.49304954\n",
      "Iteration 109, loss = 1.48133498\n",
      "Iteration 110, loss = 1.48434283\n",
      "Iteration 111, loss = 1.47037298\n",
      "Iteration 112, loss = 1.47412714\n",
      "Iteration 113, loss = 1.47414713\n",
      "Iteration 114, loss = 1.46870874\n",
      "Iteration 115, loss = 1.47027893\n",
      "Iteration 116, loss = 1.48444916\n",
      "Iteration 117, loss = 1.47062146\n",
      "Iteration 118, loss = 1.46766855\n",
      "Iteration 119, loss = 1.47419053\n",
      "Iteration 120, loss = 1.46453310\n",
      "Iteration 121, loss = 1.49067267\n",
      "Iteration 122, loss = 1.47383524\n",
      "Iteration 123, loss = 1.45828793\n",
      "Iteration 124, loss = 1.45517177\n",
      "Iteration 125, loss = 1.48062998\n",
      "Iteration 126, loss = 1.47467850\n",
      "Iteration 127, loss = 1.46547469\n",
      "Iteration 128, loss = 1.45469630\n",
      "Iteration 129, loss = 1.45636023\n",
      "Iteration 130, loss = 1.45891077\n",
      "Iteration 131, loss = 1.46157793\n",
      "Iteration 132, loss = 1.45229032\n",
      "Iteration 133, loss = 1.47514782\n",
      "Iteration 134, loss = 1.46821073\n",
      "Iteration 135, loss = 1.47634487\n",
      "Iteration 136, loss = 1.47732535\n",
      "Iteration 137, loss = 1.45608890\n",
      "Iteration 138, loss = 1.45975721\n",
      "Iteration 139, loss = 1.45520365\n",
      "Iteration 140, loss = 1.46677033\n",
      "Iteration 141, loss = 1.47359599\n",
      "Iteration 142, loss = 1.44385472\n",
      "Iteration 143, loss = 1.45424216\n",
      "Iteration 144, loss = 1.45763065\n",
      "Iteration 145, loss = 1.45571114\n",
      "Iteration 146, loss = 1.44773055\n",
      "Iteration 147, loss = 1.44759097\n",
      "Iteration 148, loss = 1.43511173\n",
      "Iteration 149, loss = 1.43155747\n",
      "Iteration 150, loss = 1.44429242\n",
      "Iteration 151, loss = 1.43631818\n",
      "Iteration 152, loss = 1.43730364\n",
      "Iteration 153, loss = 1.43267547\n",
      "Iteration 154, loss = 1.43606641\n",
      "Iteration 155, loss = 1.42756188\n",
      "Iteration 156, loss = 1.42894012\n",
      "Iteration 157, loss = 1.43001334\n",
      "Iteration 158, loss = 1.43126975\n",
      "Iteration 159, loss = 1.43241097\n",
      "Iteration 160, loss = 1.42610507\n",
      "Iteration 161, loss = 1.43812175\n",
      "Iteration 162, loss = 1.43165114\n",
      "Iteration 163, loss = 1.44230260\n",
      "Iteration 164, loss = 1.43435964\n",
      "Iteration 165, loss = 1.43171480\n",
      "Iteration 166, loss = 1.42467080\n",
      "Iteration 167, loss = 1.42501764\n",
      "Iteration 168, loss = 1.41977767\n",
      "Iteration 169, loss = 1.44781099\n",
      "Iteration 170, loss = 1.43051916\n",
      "Iteration 171, loss = 1.43062008\n",
      "Iteration 172, loss = 1.42241020\n",
      "Iteration 173, loss = 1.43204836\n",
      "Iteration 174, loss = 1.41883903\n",
      "Iteration 175, loss = 1.42407787\n",
      "Iteration 176, loss = 1.42768325\n",
      "Iteration 177, loss = 1.41754922\n",
      "Iteration 178, loss = 1.41514008\n",
      "Iteration 179, loss = 1.42614641\n",
      "Iteration 180, loss = 1.41999483\n",
      "Iteration 181, loss = 1.42062226\n",
      "Iteration 182, loss = 1.43240684\n",
      "Iteration 183, loss = 1.40949224\n",
      "Iteration 184, loss = 1.40414336\n",
      "Iteration 185, loss = 1.41009715\n",
      "Iteration 186, loss = 1.41623601\n",
      "Iteration 187, loss = 1.42206640\n",
      "Iteration 188, loss = 1.40912517\n",
      "Iteration 189, loss = 1.41619395\n",
      "Iteration 190, loss = 1.41981360\n",
      "Iteration 191, loss = 1.41326929\n",
      "Iteration 192, loss = 1.40969550\n",
      "Iteration 193, loss = 1.41626483\n",
      "Iteration 194, loss = 1.39163997\n",
      "Iteration 195, loss = 1.41138335\n",
      "Iteration 196, loss = 1.40402292\n",
      "Iteration 197, loss = 1.39699315\n",
      "Iteration 198, loss = 1.43554005\n",
      "Iteration 199, loss = 1.40115615\n",
      "Iteration 200, loss = 1.40385486\n"
     ]
    },
    {
     "name": "stderr",
     "output_type": "stream",
     "text": [
      "c:\\users\\asus\\appdata\\local\\programs\\python\\python36\\lib\\site-packages\\sklearn\\neural_network\\_multilayer_perceptron.py:571: ConvergenceWarning: Stochastic Optimizer: Maximum iterations (200) reached and the optimization hasn't converged yet.\n",
      "  % self.max_iter, ConvergenceWarning)\n"
     ]
    },
    {
     "data": {
      "text/plain": [
       "GridSearchCV(cv=None, error_score=nan,\n",
       "             estimator=MLPClassifier(activation='relu', alpha=0.01,\n",
       "                                     batch_size='auto', beta_1=0.9,\n",
       "                                     beta_2=0.999, early_stopping=False,\n",
       "                                     epsilon=1e-08,\n",
       "                                     hidden_layer_sizes=(50, 50, 50, 50, 50, 50,\n",
       "                                                         50, 50, 50, 50),\n",
       "                                     learning_rate='constant',\n",
       "                                     learning_rate_init=0.001, max_fun=15000,\n",
       "                                     max_iter=200, momentum=0.9,\n",
       "                                     n_iter_no_change=10,\n",
       "                                     nesterovs_momentum=True, power_t=0.5,\n",
       "                                     random_state=11, shuffle=True,\n",
       "                                     solver='adam', tol=0.0001,\n",
       "                                     validation_fraction=0.1, verbose=10,\n",
       "                                     warm_start=False),\n",
       "             iid='deprecated', n_jobs=-1,\n",
       "             param_grid={'alpha': [0.0001, 0.001, 0.01, 0.1, 1]},\n",
       "             pre_dispatch='2*n_jobs', refit=True, return_train_score=False,\n",
       "             scoring=None, verbose=10)"
      ]
     },
     "execution_count": 162,
     "metadata": {},
     "output_type": "execute_result"
    }
   ],
   "source": [
    "net.fit(X_train, y_train)"
   ]
  },
  {
   "cell_type": "code",
   "execution_count": 164,
   "metadata": {},
   "outputs": [
    {
     "data": {
      "text/plain": [
       "0.3866621758167733"
      ]
     },
     "execution_count": 164,
     "metadata": {},
     "output_type": "execute_result"
    }
   ],
   "source": [
    "accuracy_score(net.predict(X_test), y_test)"
   ]
  },
  {
   "cell_type": "code",
   "execution_count": 166,
   "metadata": {},
   "outputs": [
    {
     "data": {
      "text/html": [
       "<div>\n",
       "<style scoped>\n",
       "    .dataframe tbody tr th:only-of-type {\n",
       "        vertical-align: middle;\n",
       "    }\n",
       "\n",
       "    .dataframe tbody tr th {\n",
       "        vertical-align: top;\n",
       "    }\n",
       "\n",
       "    .dataframe thead th {\n",
       "        text-align: right;\n",
       "    }\n",
       "</style>\n",
       "<table border=\"1\" class=\"dataframe\">\n",
       "  <thead>\n",
       "    <tr style=\"text-align: right;\">\n",
       "      <th></th>\n",
       "      <th>feature</th>\n",
       "      <th>coef</th>\n",
       "    </tr>\n",
       "  </thead>\n",
       "  <tbody>\n",
       "    <tr>\n",
       "      <th>0</th>\n",
       "      <td>Chroma Standard Deviation</td>\n",
       "      <td>-0.022004</td>\n",
       "    </tr>\n",
       "    <tr>\n",
       "      <th>1</th>\n",
       "      <td>Croma Mean</td>\n",
       "      <td>-0.022004</td>\n",
       "    </tr>\n",
       "    <tr>\n",
       "      <th>2</th>\n",
       "      <td>MEL Standard Deviation</td>\n",
       "      <td>-0.022004</td>\n",
       "    </tr>\n",
       "    <tr>\n",
       "      <th>3</th>\n",
       "      <td>MEL Mean</td>\n",
       "      <td>-0.022004</td>\n",
       "    </tr>\n",
       "    <tr>\n",
       "      <th>4</th>\n",
       "      <td>Spectral Centroid Feature</td>\n",
       "      <td>-0.022004</td>\n",
       "    </tr>\n",
       "    <tr>\n",
       "      <th>5</th>\n",
       "      <td>MFCC Standard Deviation</td>\n",
       "      <td>-0.022004</td>\n",
       "    </tr>\n",
       "    <tr>\n",
       "      <th>6</th>\n",
       "      <td>MFCC Mean</td>\n",
       "      <td>-0.022004</td>\n",
       "    </tr>\n",
       "    <tr>\n",
       "      <th>7</th>\n",
       "      <td>MFCC 1st Derivative</td>\n",
       "      <td>-0.022004</td>\n",
       "    </tr>\n",
       "    <tr>\n",
       "      <th>8</th>\n",
       "      <td>MFCC 2nd Derivative</td>\n",
       "      <td>-0.022004</td>\n",
       "    </tr>\n",
       "    <tr>\n",
       "      <th>9</th>\n",
       "      <td>Root Mean Square Mean</td>\n",
       "      <td>-0.022004</td>\n",
       "    </tr>\n",
       "    <tr>\n",
       "      <th>10</th>\n",
       "      <td>Spectral Rolloff Mean</td>\n",
       "      <td>-0.022004</td>\n",
       "    </tr>\n",
       "    <tr>\n",
       "      <th>11</th>\n",
       "      <td>Spectral Rolloff Range</td>\n",
       "      <td>-0.022004</td>\n",
       "    </tr>\n",
       "    <tr>\n",
       "      <th>12</th>\n",
       "      <td>Zero Crossing Rate</td>\n",
       "      <td>-0.022004</td>\n",
       "    </tr>\n",
       "  </tbody>\n",
       "</table>\n",
       "</div>"
      ],
      "text/plain": [
       "                      feature      coef\n",
       "0   Chroma Standard Deviation -0.022004\n",
       "1                  Croma Mean -0.022004\n",
       "2      MEL Standard Deviation -0.022004\n",
       "3                    MEL Mean -0.022004\n",
       "4   Spectral Centroid Feature -0.022004\n",
       "5     MFCC Standard Deviation -0.022004\n",
       "6                   MFCC Mean -0.022004\n",
       "7         MFCC 1st Derivative -0.022004\n",
       "8         MFCC 2nd Derivative -0.022004\n",
       "9       Root Mean Square Mean -0.022004\n",
       "10      Spectral Rolloff Mean -0.022004\n",
       "11     Spectral Rolloff Range -0.022004\n",
       "12         Zero Crossing Rate -0.022004"
      ]
     },
     "execution_count": 166,
     "metadata": {},
     "output_type": "execute_result"
    }
   ],
   "source": [
    "pd.DataFrame({\"feature\": X_train.columns,\n",
    "             \"coef\": np.mean(net.best_estimator_.coefs_[0])})"
   ]
  },
  {
   "cell_type": "code",
   "execution_count": null,
   "metadata": {},
   "outputs": [],
   "source": []
  }
 ],
 "metadata": {
  "kernelspec": {
   "display_name": "Python 3",
   "language": "python",
   "name": "python3"
  },
  "language_info": {
   "codemirror_mode": {
    "name": "ipython",
    "version": 3
   },
   "file_extension": ".py",
   "mimetype": "text/x-python",
   "name": "python",
   "nbconvert_exporter": "python",
   "pygments_lexer": "ipython3",
   "version": "3.6.5"
  }
 },
 "nbformat": 4,
 "nbformat_minor": 4
}
